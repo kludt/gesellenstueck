{
 "cells": [
  {
   "cell_type": "code",
   "execution_count": 1,
   "metadata": {},
   "outputs": [],
   "source": [
    "import pandas as pd\n",
    "import numpy as np\n",
    "from sklearn.model_selection import train_test_split\n",
    "from sklearn.feature_extraction.text import TfidfVectorizer, CountVectorizer\n",
    "from sklearn.linear_model import LogisticRegression\n",
    "from sklearn.metrics import confusion_matrix\n",
    "from sklearn.metrics import classification_report\n",
    "from sklearn.svm import SVC\n",
    "import matplotlib.pyplot as plt\n",
    "import seaborn as sns\n",
    "pd.options.mode.chained_assignment = None"
   ]
  },
  {
   "cell_type": "markdown",
   "metadata": {},
   "source": [
    "By opening the file that way, the Chinese characters will be removed:"
   ]
  },
  {
   "cell_type": "code",
   "execution_count": 2,
   "metadata": {},
   "outputs": [],
   "source": [
    "with open('../data/labelled_data.csv', encoding='ascii', errors='ignore') as myfile:\n",
    "    abstracts = pd.read_csv(myfile, index_col=0)"
   ]
  },
  {
   "cell_type": "code",
   "execution_count": 3,
   "metadata": {},
   "outputs": [
    {
     "data": {
      "text/html": [
       "<div>\n",
       "<style scoped>\n",
       "    .dataframe tbody tr th:only-of-type {\n",
       "        vertical-align: middle;\n",
       "    }\n",
       "\n",
       "    .dataframe tbody tr th {\n",
       "        vertical-align: top;\n",
       "    }\n",
       "\n",
       "    .dataframe thead th {\n",
       "        text-align: right;\n",
       "    }\n",
       "</style>\n",
       "<table border=\"1\" class=\"dataframe\">\n",
       "  <thead>\n",
       "    <tr style=\"text-align: right;\">\n",
       "      <th></th>\n",
       "      <th>abstract</th>\n",
       "      <th>significant</th>\n",
       "    </tr>\n",
       "  </thead>\n",
       "  <tbody>\n",
       "    <tr>\n",
       "      <th>0</th>\n",
       "      <td>bone. 2018 sep 24. pii: s8756-3282(18)30355-7....</td>\n",
       "      <td>0.0</td>\n",
       "    </tr>\n",
       "    <tr>\n",
       "      <th>1</th>\n",
       "      <td>neurosci lett. 2018 sep 24. pii: s0304-3940(18...</td>\n",
       "      <td>yes</td>\n",
       "    </tr>\n",
       "    <tr>\n",
       "      <th>2</th>\n",
       "      <td>fetal pediatr pathol. 2018 sep 27:1-11. doi: 1...</td>\n",
       "      <td>yes</td>\n",
       "    </tr>\n",
       "    <tr>\n",
       "      <th>3</th>\n",
       "      <td>per med. 2018 sep 27. doi: 10.2217/pme-2018-00...</td>\n",
       "      <td>both</td>\n",
       "    </tr>\n",
       "    <tr>\n",
       "      <th>4</th>\n",
       "      <td>endokrynol pol. 2018 sep 27. doi: 10.5603/ep.a...</td>\n",
       "      <td>yes</td>\n",
       "    </tr>\n",
       "  </tbody>\n",
       "</table>\n",
       "</div>"
      ],
      "text/plain": [
       "                                            abstract significant\n",
       "0  bone. 2018 sep 24. pii: s8756-3282(18)30355-7....         0.0\n",
       "1  neurosci lett. 2018 sep 24. pii: s0304-3940(18...         yes\n",
       "2  fetal pediatr pathol. 2018 sep 27:1-11. doi: 1...         yes\n",
       "3  per med. 2018 sep 27. doi: 10.2217/pme-2018-00...        both\n",
       "4  endokrynol pol. 2018 sep 27. doi: 10.5603/ep.a...         yes"
      ]
     },
     "execution_count": 3,
     "metadata": {},
     "output_type": "execute_result"
    }
   ],
   "source": [
    "abstracts.head()"
   ]
  },
  {
   "cell_type": "markdown",
   "metadata": {},
   "source": [
    "### Cleaning of abstracts\n",
    "Abstracts which are shorter than 500 characters (see labelling_of_significance_of_results for details) are removed, numbers in words are transformed to a synonyme and words are fused or expanded to not be removed by the cleaning, numbers are removed, punctuation is removed and words shorter than three characters are removed."
   ]
  },
  {
   "cell_type": "code",
   "execution_count": 4,
   "metadata": {},
   "outputs": [],
   "source": [
    "# removing abstracts shorter than 500 characters - for details see labelling_of_significance_of_results\n",
    "abstracts['abstract_length'] = abstracts.abstract.str.len()\n",
    "abstracts = abstracts[abstracts['abstract_length'] > 500]\n",
    "abstracts = abstracts.drop('abstract_length', axis=1)"
   ]
  },
  {
   "cell_type": "code",
   "execution_count": 5,
   "metadata": {},
   "outputs": [],
   "source": [
    "def easy_words(column):\n",
    "    text = column.str.lower()\n",
    "    \n",
    "    text = text.str.replace('1,25\\S+ vitamin d', 'calcitriol')\n",
    "    text = text.str.replace('1,25\\S+ vit d', 'calcitriol')\n",
    "    text = text.str.replace('1,25\\S+', 'calcitriol')\n",
    "\n",
    "    text = text.str.replace('1,25 vitamin d', 'calcitriol')\n",
    "    text = text.str.replace('1,25 vit d', 'calcitriol')\n",
    "    text = text.str.replace('1,25 \\S+ vitamin d', 'calcitriol')\n",
    "    text = text.str.replace('1,25 \\S+ vit d', 'calcitriol')\n",
    "    text = text.str.replace('1,25 \\S+ d', 'calcitriol')\n",
    "    text = text.str.replace('1,25 \\S+', 'calcitriol')\n",
    "    \n",
    "    text = text.str.replace('25\\S+ vitamin d', 'calcitriol')\n",
    "    text = text.str.replace('25\\S+ vit d', 'calcitriol')\n",
    "    text = text.str.replace('25\\S+', 'calcitriol')\n",
    " \n",
    "    text = text.str.replace('vitamin d', 'vitamind')\n",
    "    text = text.str.replace('vit d', 'vitamind')\n",
    "    \n",
    "    text = text.str.replace('tb', 'tuberculosis')\n",
    "    \n",
    "    return text"
   ]
  },
  {
   "cell_type": "code",
   "execution_count": 6,
   "metadata": {},
   "outputs": [],
   "source": [
    "abstracts['abstract'] = easy_words(abstracts['abstract'])"
   ]
  },
  {
   "cell_type": "code",
   "execution_count": 7,
   "metadata": {},
   "outputs": [],
   "source": [
    "abstracts['abstract'] = abstracts.abstract.str.replace('\\d+', '')"
   ]
  },
  {
   "cell_type": "code",
   "execution_count": 8,
   "metadata": {},
   "outputs": [],
   "source": [
    "abstracts['abstract'] = abstracts.abstract.str.replace('[^\\w\\s]', '')"
   ]
  },
  {
   "cell_type": "code",
   "execution_count": 9,
   "metadata": {},
   "outputs": [],
   "source": [
    "abstracts['abstract'] = abstracts.abstract.str.findall('\\w{3,}').str.join(' ')"
   ]
  },
  {
   "cell_type": "markdown",
   "metadata": {},
   "source": [
    "### Split labelled from unlabelled data"
   ]
  },
  {
   "cell_type": "code",
   "execution_count": 10,
   "metadata": {},
   "outputs": [],
   "source": [
    "unlabelled_abstracts = abstracts[abstracts['significant'] == '0.0']\n",
    "unlabelled_abstracts = unlabelled_abstracts.drop('significant', axis=1)\n",
    "\n",
    "labelled_abstracts = abstracts[abstracts['significant'] != '0.0']"
   ]
  },
  {
   "cell_type": "code",
   "execution_count": 11,
   "metadata": {},
   "outputs": [
    {
     "name": "stdout",
     "output_type": "stream",
     "text": [
      "21752 labelled abstracts.\n",
      "3228 unlabelled abstracts.\n"
     ]
    }
   ],
   "source": [
    "print(f'{len(labelled_abstracts)} labelled abstracts.')\n",
    "print(f'{len(unlabelled_abstracts)} unlabelled abstracts.')"
   ]
  },
  {
   "cell_type": "markdown",
   "metadata": {},
   "source": [
    "### Splitting data in train, validate, test"
   ]
  },
  {
   "cell_type": "code",
   "execution_count": 12,
   "metadata": {},
   "outputs": [],
   "source": [
    "def split_train_val_test(data, targetname, percentages):\n",
    "    \"\"\"percentages = list with percentage of train,val,test. e.g. [0.6,0.2,0.2]\n",
    "    targetname = column name of target (string). data is a dataframe\"\"\"\n",
    "    train_perc = percentages[0]\n",
    "    test_perc = percentages[2]\n",
    "    val_perc = test_perc/(train_perc + test_perc)\n",
    "\n",
    "    if sum(percentages) > 1:\n",
    "        print('percentages don\\'t sum up to more than 1! calculate again :) ')\n",
    "        return None\n",
    "    else:\n",
    "        X_train, X_test, y_train, y_test = train_test_split(\n",
    "            data.loc[:, data.columns != targetname], data[targetname],\n",
    "            test_size=test_perc, random_state=42)\n",
    "        X_train, X_val, y_train, y_val = train_test_split(\n",
    "            X_train, y_train, test_size=val_perc, random_state=42)\n",
    "        return [X_train, X_val, X_test, y_train, y_val, y_test]"
   ]
  },
  {
   "cell_type": "code",
   "execution_count": 13,
   "metadata": {},
   "outputs": [],
   "source": [
    "X_train, X_val, X_test, y_train, y_val, y_test = split_train_val_test(labelled_abstracts, 'significant',\n",
    "                                                                      [0.7, 0.15, 0.15])"
   ]
  },
  {
   "cell_type": "markdown",
   "metadata": {},
   "source": [
    "### CountVectorizing vs. TF-IDF for getting a word/frequency matrix\n",
    "min_df was set to 0.02 to ensure the very low frequency words (in our case probably authors and university names) are removed."
   ]
  },
  {
   "cell_type": "code",
   "execution_count": 14,
   "metadata": {},
   "outputs": [],
   "source": [
    "cv = CountVectorizer(min_df=0.02, max_features=300000, stop_words='english').fit(X_train['abstract'])"
   ]
  },
  {
   "cell_type": "code",
   "execution_count": 15,
   "metadata": {},
   "outputs": [],
   "source": [
    "tf = TfidfVectorizer(min_df=0.02, max_features=300000, stop_words='english').fit(X_train['abstract'])"
   ]
  },
  {
   "cell_type": "code",
   "execution_count": 16,
   "metadata": {},
   "outputs": [],
   "source": [
    "def count_vect(series):\n",
    "    matrix = cv.transform(series)\n",
    "    features = cv.get_feature_names()\n",
    "    df = pd.DataFrame(matrix.todense(), columns=features)\n",
    "    return df\n",
    "\n",
    "\n",
    "def tf_idf(series):\n",
    "    matrix = tf.transform(series)\n",
    "    features = tf.get_feature_names()\n",
    "    df = pd.DataFrame(matrix.todense(), columns=features)\n",
    "    return df"
   ]
  },
  {
   "cell_type": "code",
   "execution_count": 17,
   "metadata": {},
   "outputs": [],
   "source": [
    "cv_train_df = count_vect(X_train['abstract'])\n",
    "cv_val_df = count_vect(X_val['abstract'])\n",
    "cv_test_df = count_vect(X_test['abstract'])"
   ]
  },
  {
   "cell_type": "code",
   "execution_count": 18,
   "metadata": {},
   "outputs": [
    {
     "data": {
      "text/html": [
       "<div>\n",
       "<style scoped>\n",
       "    .dataframe tbody tr th:only-of-type {\n",
       "        vertical-align: middle;\n",
       "    }\n",
       "\n",
       "    .dataframe tbody tr th {\n",
       "        vertical-align: top;\n",
       "    }\n",
       "\n",
       "    .dataframe thead th {\n",
       "        text-align: right;\n",
       "    }\n",
       "</style>\n",
       "<table border=\"1\" class=\"dataframe\">\n",
       "  <thead>\n",
       "    <tr style=\"text-align: right;\">\n",
       "      <th></th>\n",
       "      <th>ability</th>\n",
       "      <th>abnormalities</th>\n",
       "      <th>absence</th>\n",
       "      <th>absorptiometry</th>\n",
       "      <th>absorption</th>\n",
       "      <th>according</th>\n",
       "      <th>achieved</th>\n",
       "      <th>acid</th>\n",
       "      <th>action</th>\n",
       "      <th>activation</th>\n",
       "      <th>...</th>\n",
       "      <th>wiley</th>\n",
       "      <th>winter</th>\n",
       "      <th>women</th>\n",
       "      <th>womens</th>\n",
       "      <th>xray</th>\n",
       "      <th>year</th>\n",
       "      <th>years</th>\n",
       "      <th>york</th>\n",
       "      <th>young</th>\n",
       "      <th>zhang</th>\n",
       "    </tr>\n",
       "  </thead>\n",
       "  <tbody>\n",
       "    <tr>\n",
       "      <th>0</th>\n",
       "      <td>0</td>\n",
       "      <td>0</td>\n",
       "      <td>0</td>\n",
       "      <td>0</td>\n",
       "      <td>0</td>\n",
       "      <td>0</td>\n",
       "      <td>0</td>\n",
       "      <td>0</td>\n",
       "      <td>0</td>\n",
       "      <td>0</td>\n",
       "      <td>...</td>\n",
       "      <td>0</td>\n",
       "      <td>0</td>\n",
       "      <td>0</td>\n",
       "      <td>0</td>\n",
       "      <td>0</td>\n",
       "      <td>0</td>\n",
       "      <td>0</td>\n",
       "      <td>0</td>\n",
       "      <td>0</td>\n",
       "      <td>0</td>\n",
       "    </tr>\n",
       "    <tr>\n",
       "      <th>1</th>\n",
       "      <td>0</td>\n",
       "      <td>0</td>\n",
       "      <td>0</td>\n",
       "      <td>0</td>\n",
       "      <td>0</td>\n",
       "      <td>0</td>\n",
       "      <td>0</td>\n",
       "      <td>0</td>\n",
       "      <td>0</td>\n",
       "      <td>0</td>\n",
       "      <td>...</td>\n",
       "      <td>0</td>\n",
       "      <td>0</td>\n",
       "      <td>0</td>\n",
       "      <td>0</td>\n",
       "      <td>0</td>\n",
       "      <td>0</td>\n",
       "      <td>0</td>\n",
       "      <td>0</td>\n",
       "      <td>0</td>\n",
       "      <td>0</td>\n",
       "    </tr>\n",
       "    <tr>\n",
       "      <th>2</th>\n",
       "      <td>0</td>\n",
       "      <td>0</td>\n",
       "      <td>0</td>\n",
       "      <td>0</td>\n",
       "      <td>0</td>\n",
       "      <td>0</td>\n",
       "      <td>0</td>\n",
       "      <td>0</td>\n",
       "      <td>0</td>\n",
       "      <td>0</td>\n",
       "      <td>...</td>\n",
       "      <td>0</td>\n",
       "      <td>0</td>\n",
       "      <td>0</td>\n",
       "      <td>0</td>\n",
       "      <td>0</td>\n",
       "      <td>0</td>\n",
       "      <td>0</td>\n",
       "      <td>0</td>\n",
       "      <td>1</td>\n",
       "      <td>0</td>\n",
       "    </tr>\n",
       "    <tr>\n",
       "      <th>3</th>\n",
       "      <td>0</td>\n",
       "      <td>0</td>\n",
       "      <td>0</td>\n",
       "      <td>0</td>\n",
       "      <td>0</td>\n",
       "      <td>0</td>\n",
       "      <td>0</td>\n",
       "      <td>0</td>\n",
       "      <td>0</td>\n",
       "      <td>0</td>\n",
       "      <td>...</td>\n",
       "      <td>1</td>\n",
       "      <td>0</td>\n",
       "      <td>0</td>\n",
       "      <td>0</td>\n",
       "      <td>0</td>\n",
       "      <td>0</td>\n",
       "      <td>0</td>\n",
       "      <td>0</td>\n",
       "      <td>0</td>\n",
       "      <td>0</td>\n",
       "    </tr>\n",
       "    <tr>\n",
       "      <th>4</th>\n",
       "      <td>0</td>\n",
       "      <td>0</td>\n",
       "      <td>0</td>\n",
       "      <td>0</td>\n",
       "      <td>0</td>\n",
       "      <td>0</td>\n",
       "      <td>1</td>\n",
       "      <td>0</td>\n",
       "      <td>0</td>\n",
       "      <td>1</td>\n",
       "      <td>...</td>\n",
       "      <td>0</td>\n",
       "      <td>0</td>\n",
       "      <td>1</td>\n",
       "      <td>0</td>\n",
       "      <td>0</td>\n",
       "      <td>0</td>\n",
       "      <td>0</td>\n",
       "      <td>0</td>\n",
       "      <td>0</td>\n",
       "      <td>0</td>\n",
       "    </tr>\n",
       "  </tbody>\n",
       "</table>\n",
       "<p>5 rows × 945 columns</p>\n",
       "</div>"
      ],
      "text/plain": [
       "   ability  abnormalities  absence  absorptiometry  absorption  according  \\\n",
       "0        0              0        0               0           0          0   \n",
       "1        0              0        0               0           0          0   \n",
       "2        0              0        0               0           0          0   \n",
       "3        0              0        0               0           0          0   \n",
       "4        0              0        0               0           0          0   \n",
       "\n",
       "   achieved  acid  action  activation  ...    wiley  winter  women  womens  \\\n",
       "0         0     0       0           0  ...        0       0      0       0   \n",
       "1         0     0       0           0  ...        0       0      0       0   \n",
       "2         0     0       0           0  ...        0       0      0       0   \n",
       "3         0     0       0           0  ...        1       0      0       0   \n",
       "4         1     0       0           1  ...        0       0      1       0   \n",
       "\n",
       "   xray  year  years  york  young  zhang  \n",
       "0     0     0      0     0      0      0  \n",
       "1     0     0      0     0      0      0  \n",
       "2     0     0      0     0      1      0  \n",
       "3     0     0      0     0      0      0  \n",
       "4     0     0      0     0      0      0  \n",
       "\n",
       "[5 rows x 945 columns]"
      ]
     },
     "execution_count": 18,
     "metadata": {},
     "output_type": "execute_result"
    }
   ],
   "source": [
    "cv_train_df.head()"
   ]
  },
  {
   "cell_type": "code",
   "execution_count": 19,
   "metadata": {},
   "outputs": [],
   "source": [
    "tf_train_df = tf_idf(X_train['abstract'])\n",
    "tf_val_df = tf_idf(X_val['abstract'])\n",
    "tf_test_df = tf_idf(X_test['abstract'])"
   ]
  },
  {
   "cell_type": "code",
   "execution_count": 20,
   "metadata": {},
   "outputs": [
    {
     "data": {
      "text/html": [
       "<div>\n",
       "<style scoped>\n",
       "    .dataframe tbody tr th:only-of-type {\n",
       "        vertical-align: middle;\n",
       "    }\n",
       "\n",
       "    .dataframe tbody tr th {\n",
       "        vertical-align: top;\n",
       "    }\n",
       "\n",
       "    .dataframe thead th {\n",
       "        text-align: right;\n",
       "    }\n",
       "</style>\n",
       "<table border=\"1\" class=\"dataframe\">\n",
       "  <thead>\n",
       "    <tr style=\"text-align: right;\">\n",
       "      <th></th>\n",
       "      <th>ability</th>\n",
       "      <th>abnormalities</th>\n",
       "      <th>absence</th>\n",
       "      <th>absorptiometry</th>\n",
       "      <th>absorption</th>\n",
       "      <th>according</th>\n",
       "      <th>achieved</th>\n",
       "      <th>acid</th>\n",
       "      <th>action</th>\n",
       "      <th>activation</th>\n",
       "      <th>...</th>\n",
       "      <th>wiley</th>\n",
       "      <th>winter</th>\n",
       "      <th>women</th>\n",
       "      <th>womens</th>\n",
       "      <th>xray</th>\n",
       "      <th>year</th>\n",
       "      <th>years</th>\n",
       "      <th>york</th>\n",
       "      <th>young</th>\n",
       "      <th>zhang</th>\n",
       "    </tr>\n",
       "  </thead>\n",
       "  <tbody>\n",
       "    <tr>\n",
       "      <th>0</th>\n",
       "      <td>0.0</td>\n",
       "      <td>0.0</td>\n",
       "      <td>0.0</td>\n",
       "      <td>0.0</td>\n",
       "      <td>0.0</td>\n",
       "      <td>0.0</td>\n",
       "      <td>0.000000</td>\n",
       "      <td>0.0</td>\n",
       "      <td>0.0</td>\n",
       "      <td>0.000000</td>\n",
       "      <td>...</td>\n",
       "      <td>0.000000</td>\n",
       "      <td>0.0</td>\n",
       "      <td>0.00000</td>\n",
       "      <td>0.0</td>\n",
       "      <td>0.0</td>\n",
       "      <td>0.0</td>\n",
       "      <td>0.0</td>\n",
       "      <td>0.0</td>\n",
       "      <td>0.000000</td>\n",
       "      <td>0.0</td>\n",
       "    </tr>\n",
       "    <tr>\n",
       "      <th>1</th>\n",
       "      <td>0.0</td>\n",
       "      <td>0.0</td>\n",
       "      <td>0.0</td>\n",
       "      <td>0.0</td>\n",
       "      <td>0.0</td>\n",
       "      <td>0.0</td>\n",
       "      <td>0.000000</td>\n",
       "      <td>0.0</td>\n",
       "      <td>0.0</td>\n",
       "      <td>0.000000</td>\n",
       "      <td>...</td>\n",
       "      <td>0.000000</td>\n",
       "      <td>0.0</td>\n",
       "      <td>0.00000</td>\n",
       "      <td>0.0</td>\n",
       "      <td>0.0</td>\n",
       "      <td>0.0</td>\n",
       "      <td>0.0</td>\n",
       "      <td>0.0</td>\n",
       "      <td>0.000000</td>\n",
       "      <td>0.0</td>\n",
       "    </tr>\n",
       "    <tr>\n",
       "      <th>2</th>\n",
       "      <td>0.0</td>\n",
       "      <td>0.0</td>\n",
       "      <td>0.0</td>\n",
       "      <td>0.0</td>\n",
       "      <td>0.0</td>\n",
       "      <td>0.0</td>\n",
       "      <td>0.000000</td>\n",
       "      <td>0.0</td>\n",
       "      <td>0.0</td>\n",
       "      <td>0.000000</td>\n",
       "      <td>...</td>\n",
       "      <td>0.000000</td>\n",
       "      <td>0.0</td>\n",
       "      <td>0.00000</td>\n",
       "      <td>0.0</td>\n",
       "      <td>0.0</td>\n",
       "      <td>0.0</td>\n",
       "      <td>0.0</td>\n",
       "      <td>0.0</td>\n",
       "      <td>0.133627</td>\n",
       "      <td>0.0</td>\n",
       "    </tr>\n",
       "    <tr>\n",
       "      <th>3</th>\n",
       "      <td>0.0</td>\n",
       "      <td>0.0</td>\n",
       "      <td>0.0</td>\n",
       "      <td>0.0</td>\n",
       "      <td>0.0</td>\n",
       "      <td>0.0</td>\n",
       "      <td>0.000000</td>\n",
       "      <td>0.0</td>\n",
       "      <td>0.0</td>\n",
       "      <td>0.000000</td>\n",
       "      <td>...</td>\n",
       "      <td>0.115806</td>\n",
       "      <td>0.0</td>\n",
       "      <td>0.00000</td>\n",
       "      <td>0.0</td>\n",
       "      <td>0.0</td>\n",
       "      <td>0.0</td>\n",
       "      <td>0.0</td>\n",
       "      <td>0.0</td>\n",
       "      <td>0.000000</td>\n",
       "      <td>0.0</td>\n",
       "    </tr>\n",
       "    <tr>\n",
       "      <th>4</th>\n",
       "      <td>0.0</td>\n",
       "      <td>0.0</td>\n",
       "      <td>0.0</td>\n",
       "      <td>0.0</td>\n",
       "      <td>0.0</td>\n",
       "      <td>0.0</td>\n",
       "      <td>0.072114</td>\n",
       "      <td>0.0</td>\n",
       "      <td>0.0</td>\n",
       "      <td>0.064535</td>\n",
       "      <td>...</td>\n",
       "      <td>0.000000</td>\n",
       "      <td>0.0</td>\n",
       "      <td>0.03813</td>\n",
       "      <td>0.0</td>\n",
       "      <td>0.0</td>\n",
       "      <td>0.0</td>\n",
       "      <td>0.0</td>\n",
       "      <td>0.0</td>\n",
       "      <td>0.000000</td>\n",
       "      <td>0.0</td>\n",
       "    </tr>\n",
       "  </tbody>\n",
       "</table>\n",
       "<p>5 rows × 945 columns</p>\n",
       "</div>"
      ],
      "text/plain": [
       "   ability  abnormalities  absence  absorptiometry  absorption  according  \\\n",
       "0      0.0            0.0      0.0             0.0         0.0        0.0   \n",
       "1      0.0            0.0      0.0             0.0         0.0        0.0   \n",
       "2      0.0            0.0      0.0             0.0         0.0        0.0   \n",
       "3      0.0            0.0      0.0             0.0         0.0        0.0   \n",
       "4      0.0            0.0      0.0             0.0         0.0        0.0   \n",
       "\n",
       "   achieved  acid  action  activation  ...       wiley  winter    women  \\\n",
       "0  0.000000   0.0     0.0    0.000000  ...    0.000000     0.0  0.00000   \n",
       "1  0.000000   0.0     0.0    0.000000  ...    0.000000     0.0  0.00000   \n",
       "2  0.000000   0.0     0.0    0.000000  ...    0.000000     0.0  0.00000   \n",
       "3  0.000000   0.0     0.0    0.000000  ...    0.115806     0.0  0.00000   \n",
       "4  0.072114   0.0     0.0    0.064535  ...    0.000000     0.0  0.03813   \n",
       "\n",
       "   womens  xray  year  years  york     young  zhang  \n",
       "0     0.0   0.0   0.0    0.0   0.0  0.000000    0.0  \n",
       "1     0.0   0.0   0.0    0.0   0.0  0.000000    0.0  \n",
       "2     0.0   0.0   0.0    0.0   0.0  0.133627    0.0  \n",
       "3     0.0   0.0   0.0    0.0   0.0  0.000000    0.0  \n",
       "4     0.0   0.0   0.0    0.0   0.0  0.000000    0.0  \n",
       "\n",
       "[5 rows x 945 columns]"
      ]
     },
     "execution_count": 20,
     "metadata": {},
     "output_type": "execute_result"
    }
   ],
   "source": [
    "tf_train_df.head()"
   ]
  },
  {
   "cell_type": "markdown",
   "metadata": {},
   "source": [
    "### Checking for linearity"
   ]
  },
  {
   "cell_type": "code",
   "execution_count": 21,
   "metadata": {},
   "outputs": [],
   "source": [
    "cv_train_df.reset_index(drop=True, inplace=True)\n",
    "y_train.reset_index(drop=True, inplace=True)"
   ]
  },
  {
   "cell_type": "code",
   "execution_count": 22,
   "metadata": {},
   "outputs": [],
   "source": [
    "cv_df = pd.concat((cv_train_df, y_train), axis=1)"
   ]
  },
  {
   "cell_type": "code",
   "execution_count": 23,
   "metadata": {},
   "outputs": [],
   "source": [
    "tf_train_df.reset_index(drop=True, inplace=True)"
   ]
  },
  {
   "cell_type": "code",
   "execution_count": 24,
   "metadata": {},
   "outputs": [],
   "source": [
    "tf_df = pd.concat((tf_train_df, y_train), axis=1)"
   ]
  },
  {
   "cell_type": "code",
   "execution_count": 25,
   "metadata": {},
   "outputs": [
    {
     "data": {
      "text/plain": [
       "significant      1.000000\n",
       "statistically    0.245461\n",
       "difference       0.232387\n",
       "differences      0.175333\n",
       "observed         0.151545\n",
       "correlation      0.139672\n",
       "reduction        0.127332\n",
       "increase         0.121363\n",
       "decrease         0.121075\n",
       "showed           0.120268\n",
       "association      0.117615\n",
       "improvement      0.106613\n",
       "study            0.104781\n",
       "changes          0.099856\n",
       "groups           0.098712\n",
       "iran             0.096864\n",
       "correlations     0.092166\n",
       "months           0.090632\n",
       "bmd              0.089947\n",
       "spine            0.089406\n",
       "lumbar           0.088751\n",
       "placebo          0.087528\n",
       "inverse          0.086779\n",
       "studies          0.086728\n",
       "group            0.086232\n",
       "effect           0.085799\n",
       "randomized       0.083800\n",
       "positive         0.082937\n",
       "change           0.076879\n",
       "total            0.075705\n",
       "                   ...   \n",
       "calcitriol      -0.037160\n",
       "inhibition      -0.038124\n",
       "involved        -0.039362\n",
       "vitro           -0.039402\n",
       "induced         -0.041417\n",
       "rat             -0.041497\n",
       "protein         -0.044577\n",
       "mouse           -0.045860\n",
       "stimulated      -0.046786\n",
       "mrna            -0.046823\n",
       "suppressed      -0.046907\n",
       "activation      -0.047248\n",
       "differ          -0.047409\n",
       "mechanism       -0.047628\n",
       "rats            -0.048931\n",
       "cell            -0.050336\n",
       "enhanced        -0.051151\n",
       "production      -0.051915\n",
       "decreased       -0.052867\n",
       "human           -0.054619\n",
       "mice            -0.058329\n",
       "inhibited       -0.061203\n",
       "reduced         -0.062488\n",
       "higher          -0.065130\n",
       "lower           -0.068776\n",
       "expression      -0.069714\n",
       "increased       -0.079519\n",
       "cells           -0.080520\n",
       "significantly   -0.275789\n",
       "pmid                  NaN\n",
       "Name: significant, Length: 945, dtype: float64"
      ]
     },
     "execution_count": 25,
     "metadata": {},
     "output_type": "execute_result"
    }
   ],
   "source": [
    "corr_matrix = cv_df.corr()\n",
    "corr_matrix['significant'].sort_values(ascending=False)"
   ]
  },
  {
   "cell_type": "code",
   "execution_count": 26,
   "metadata": {},
   "outputs": [
    {
     "data": {
      "text/plain": [
       "significant      1.000000\n",
       "statistically    0.216156\n",
       "difference       0.215813\n",
       "differences      0.162295\n",
       "pmid             0.152889\n",
       "observed         0.141773\n",
       "correlation      0.137859\n",
       "increase         0.134501\n",
       "decrease         0.132965\n",
       "showed           0.116469\n",
       "improvement      0.114398\n",
       "reduction        0.103604\n",
       "changes          0.095679\n",
       "medline          0.093882\n",
       "indexed          0.090399\n",
       "association      0.088037\n",
       "groups           0.084126\n",
       "effect           0.081179\n",
       "correlations     0.079756\n",
       "months           0.076212\n",
       "change           0.074505\n",
       "positive         0.071444\n",
       "resulted         0.070563\n",
       "study            0.070532\n",
       "inverse          0.067217\n",
       "iran             0.061939\n",
       "seen             0.061301\n",
       "noted            0.059647\n",
       "treatment        0.057754\n",
       "placebo          0.055577\n",
       "                   ...   \n",
       "protein         -0.039348\n",
       "production      -0.039377\n",
       "fold            -0.039649\n",
       "inhibitor       -0.039890\n",
       "school          -0.039903\n",
       "stimulated      -0.039991\n",
       "compared        -0.040862\n",
       "university      -0.041579\n",
       "mechanism       -0.041617\n",
       "activation      -0.043951\n",
       "mouse           -0.044640\n",
       "suppressed      -0.044791\n",
       "associated      -0.046073\n",
       "correlated      -0.047623\n",
       "differ          -0.048795\n",
       "rats            -0.048918\n",
       "enhanced        -0.049412\n",
       "human           -0.051474\n",
       "cell            -0.051696\n",
       "mrna            -0.058548\n",
       "inhibited       -0.061056\n",
       "decreased       -0.064508\n",
       "mice            -0.074331\n",
       "reduced         -0.074950\n",
       "cells           -0.078285\n",
       "expression      -0.084910\n",
       "higher          -0.094617\n",
       "increased       -0.095125\n",
       "lower           -0.099260\n",
       "significantly   -0.318368\n",
       "Name: significant, Length: 945, dtype: float64"
      ]
     },
     "execution_count": 26,
     "metadata": {},
     "output_type": "execute_result"
    }
   ],
   "source": [
    "corr_matrix = tf_df.corr()\n",
    "corr_matrix['significant'].sort_values(ascending=False)"
   ]
  },
  {
   "cell_type": "markdown",
   "metadata": {},
   "source": [
    "There is a weak linear correlation between statistically, difference, significantly, differences, observed, \n",
    "correlation, reduction, increase, decrease, showed, association, improvement, study and the target - not surprisingly as these words are usually part of a statement of significance."
   ]
  },
  {
   "cell_type": "markdown",
   "metadata": {},
   "source": [
    "### MVP - Logistic Regression\n",
    "- Logistic Regression is a first, easy model to classify data\n",
    "- there is a linear relationship between three features and the target\n",
    "\n",
    "Using count vectorized input data."
   ]
  },
  {
   "cell_type": "code",
   "execution_count": 27,
   "metadata": {},
   "outputs": [],
   "source": [
    "logreg_cv = LogisticRegression(random_state=42).fit(cv_train_df, y_train)"
   ]
  },
  {
   "cell_type": "code",
   "execution_count": 28,
   "metadata": {},
   "outputs": [],
   "source": [
    "def cm(y_train, y_train_predict, y_val, y_val_predict):\n",
    "    cm_train = confusion_matrix(y_train, y_train_predict, labels=['yes', 'no', 'both'])\n",
    "    cm_train_percentage = cm_train/(cm_train.sum(axis=1, keepdims=True))\n",
    "\n",
    "    cm_val = confusion_matrix(y_val, y_val_predict, labels=['yes', 'no', 'both'])\n",
    "    cm_val_percentage = cm_val/(cm_val.sum(axis=1, keepdims=True))\n",
    "    \n",
    "    sns.set(font_scale=1.3)\n",
    "    \n",
    "    plt.figure(figsize=(20,10))\n",
    "    plt.subplot(1,2,1)\n",
    "    sns.heatmap(cm_train_percentage, annot=True, xticklabels=['yes', 'no', 'both'],\n",
    "                yticklabels=['yes', 'no', 'both'], fmt='.2f')\n",
    "    plt.title('TRAIN')\n",
    "    plt.subplot(1,2,2)\n",
    "    sns.heatmap(cm_val_percentage, annot=True, xticklabels=['yes', 'no', 'both'],\n",
    "                yticklabels=['yes', 'no', 'both'], fmt='.2f')\n",
    "    plt.title('VALIDATE')\n",
    "    plt.show()\n",
    "    \n",
    "    \n",
    "def evaluate_model(model, X_train, y_train, X_val, y_val):\n",
    "    train_score = model.score(X_train, y_train)\n",
    "    val_score = model.score(X_val, y_val)\n",
    "    \n",
    "    print(f'Accuracy for predicting the train labels: {np.round(train_score, decimals=2)}')\n",
    "    print(f'Accuracy for predicting the validate labels: {np.round(val_score, decimals=2)}')\n",
    "    \n",
    "    predict_train = model.predict(X_train)\n",
    "    predict_val = model.predict(X_val)\n",
    "    \n",
    "    cm(y_train, predict_train, y_val, predict_val)\n",
    "    \n",
    "    print(classification_report(y_val, predict_val))"
   ]
  },
  {
   "cell_type": "code",
   "execution_count": 29,
   "metadata": {},
   "outputs": [
    {
     "name": "stdout",
     "output_type": "stream",
     "text": [
      "Accuracy for predicting the train labels: 0.8\n",
      "Accuracy for predicting the validate labels: 0.75\n"
     ]
    },
    {
     "data": {
      "image/png": "[encoded data removed]",
      "text/plain": [
       "<Figure size 1440x720 with 4 Axes>"
      ]
     },
     "metadata": {},
     "output_type": "display_data"
    },
    {
     "name": "stdout",
     "output_type": "stream",
     "text": [
      "             precision    recall  f1-score   support\n",
      "\n",
      "       both       0.56      0.33      0.42       658\n",
      "         no       0.44      0.19      0.26       228\n",
      "        yes       0.79      0.92      0.85      2377\n",
      "\n",
      "avg / total       0.72      0.75      0.72      3263\n",
      "\n"
     ]
    }
   ],
   "source": [
    "evaluate_model(logreg_cv, cv_train_df, y_train, cv_val_df, y_val)"
   ]
  },
  {
   "cell_type": "markdown",
   "metadata": {},
   "source": [
    "Most of the 'yes' papers were correctly classified (92 %), however, 'no' (18 %) and 'both' (33 %) posed difficulties, especially 'no'. Maybe this is because the major proportion of papers in the training data are labelled as 'yes'."
   ]
  },
  {
   "cell_type": "markdown",
   "metadata": {},
   "source": [
    "Precision: 69 % is correctly classified as 'both', 32 % is classified as 'both' even though it's truly 'no' or 'yes'.\n",
    "\n",
    "Recall: 24 % is correctly classified as both, but 76 % of 'both' is wrongly classified as 'yes' or 'no'.\n",
    "\n",
    "f1-score: harmonic mean of precision and recall."
   ]
  },
  {
   "cell_type": "markdown",
   "metadata": {},
   "source": [
    "#### Logistic regression is trained with TF-IDF pre-processed data."
   ]
  },
  {
   "cell_type": "code",
   "execution_count": 30,
   "metadata": {},
   "outputs": [],
   "source": [
    "logreg_tf = LogisticRegression(random_state=42).fit(tf_train_df, y_train)"
   ]
  },
  {
   "cell_type": "code",
   "execution_count": 31,
   "metadata": {},
   "outputs": [
    {
     "name": "stdout",
     "output_type": "stream",
     "text": [
      "Accuracy for predicting the train labels: 0.76\n",
      "Accuracy for predicting the validate labels: 0.74\n"
     ]
    },
    {
     "data": {
      "image/png": "[encoded data removed]",
      "text/plain": [
       "<Figure size 1440x720 with 4 Axes>"
      ]
     },
     "metadata": {},
     "output_type": "display_data"
    },
    {
     "name": "stdout",
     "output_type": "stream",
     "text": [
      "             precision    recall  f1-score   support\n",
      "\n",
      "       both       0.55      0.17      0.25       658\n",
      "         no       0.57      0.02      0.03       228\n",
      "        yes       0.75      0.97      0.85      2377\n",
      "\n",
      "avg / total       0.70      0.74      0.67      3263\n",
      "\n"
     ]
    }
   ],
   "source": [
    "evaluate_model(logreg_tf, tf_train_df, y_train, tf_val_df, y_val)"
   ]
  },
  {
   "cell_type": "markdown",
   "metadata": {},
   "source": [
    "TF-IDF was better with classifying the 'yes' (97 % correct), however much worse with 'no' (1.3 % correct) and 'both' (17% correct). CountVectorize will be used for data preprocessing from here on out."
   ]
  },
  {
   "cell_type": "markdown",
   "metadata": {},
   "source": [
    "### Support Vector Machines\n",
    "- Support Vector Machines do very well on wide data (lots of features) without overfitting\n",
    "- they are able to work with unbalanced classes by balancing them automatically as is the case with this data\n",
    "- This paper (http://www.cs.cornell.edu/~tj/publications/joachims_98a.pdf) suggested the kernel 'poly' and 'rbf' work very well for text"
   ]
  },
  {
   "cell_type": "code",
   "execution_count": 32,
   "metadata": {},
   "outputs": [],
   "source": [
    "sv_poly = SVC(kernel='poly', class_weight='balanced', C=1.0, random_state=42).fit(cv_train_df, y_train)"
   ]
  },
  {
   "cell_type": "code",
   "execution_count": 33,
   "metadata": {},
   "outputs": [
    {
     "name": "stdout",
     "output_type": "stream",
     "text": [
      "Accuracy for predicting the train labels: 0.76\n",
      "Accuracy for predicting the validate labels: 0.71\n"
     ]
    },
    {
     "data": {
      "image/png": "[encoded data removed]",
      "text/plain": [
       "<Figure size 1440x720 with 4 Axes>"
      ]
     },
     "metadata": {},
     "output_type": "display_data"
    },
    {
     "name": "stdout",
     "output_type": "stream",
     "text": [
      "             precision    recall  f1-score   support\n",
      "\n",
      "       both       0.43      0.14      0.21       658\n",
      "         no       0.20      0.12      0.15       228\n",
      "        yes       0.76      0.92      0.83      2377\n",
      "\n",
      "avg / total       0.65      0.71      0.66      3263\n",
      "\n"
     ]
    }
   ],
   "source": [
    "evaluate_model(sv_poly, cv_train_df, y_train, cv_val_df, y_val)"
   ]
  },
  {
   "cell_type": "markdown",
   "metadata": {},
   "source": [
    "Support Vector Machine with polynomial kernel does worse than the Logistic Regression."
   ]
  },
  {
   "cell_type": "markdown",
   "metadata": {},
   "source": [
    "#### Support Vector Machine with rbf-kernel"
   ]
  },
  {
   "cell_type": "code",
   "execution_count": 34,
   "metadata": {},
   "outputs": [],
   "source": [
    "sv_rbf = SVC(kernel='rbf', class_weight='balanced', C=1.0, random_state=42).fit(cv_train_df, y_train)"
   ]
  },
  {
   "cell_type": "code",
   "execution_count": 35,
   "metadata": {},
   "outputs": [
    {
     "name": "stdout",
     "output_type": "stream",
     "text": [
      "Accuracy for predicting the train labels: 0.71\n",
      "Accuracy for predicting the validate labels: 0.64\n"
     ]
    },
    {
     "data": {
      "image/png": "[encoded data removed]",
      "text/plain": [
       "<Figure size 1440x720 with 4 Axes>"
      ]
     },
     "metadata": {},
     "output_type": "display_data"
    },
    {
     "name": "stdout",
     "output_type": "stream",
     "text": [
      "             precision    recall  f1-score   support\n",
      "\n",
      "       both       0.45      0.60      0.51       658\n",
      "         no       0.26      0.71      0.38       228\n",
      "        yes       0.87      0.64      0.74      2377\n",
      "\n",
      "avg / total       0.74      0.64      0.67      3263\n",
      "\n"
     ]
    }
   ],
   "source": [
    "evaluate_model(sv_rbf, cv_train_df, y_train, cv_val_df, y_val)"
   ]
  },
  {
   "cell_type": "markdown",
   "metadata": {},
   "source": [
    "The rbf kernel does quite well. It's much worse than Logistic Regression at recognising 'yes' publications but is able to classify 'no' and 'both' quite okay."
   ]
  },
  {
   "cell_type": "markdown",
   "metadata": {},
   "source": [
    "#### Support Vector Machine with linear-kernel\n",
    "Since Logistic Regression as a linear algorithm does kind of okay, the linear kernel is also tried."
   ]
  },
  {
   "cell_type": "code",
   "execution_count": 36,
   "metadata": {},
   "outputs": [],
   "source": [
    "sv_linear = SVC(kernel='linear', class_weight='balanced', C=1.0, random_state=42).fit(cv_train_df, y_train)"
   ]
  },
  {
   "cell_type": "code",
   "execution_count": 37,
   "metadata": {},
   "outputs": [
    {
     "name": "stdout",
     "output_type": "stream",
     "text": [
      "Accuracy for predicting the train labels: 0.74\n",
      "Accuracy for predicting the validate labels: 0.62\n"
     ]
    },
    {
     "data": {
      "image/png": "[encoded data removed]",
      "text/plain": [
       "<Figure size 1440x720 with 4 Axes>"
      ]
     },
     "metadata": {},
     "output_type": "display_data"
    },
    {
     "name": "stdout",
     "output_type": "stream",
     "text": [
      "             precision    recall  f1-score   support\n",
      "\n",
      "       both       0.40      0.64      0.49       658\n",
      "         no       0.23      0.46      0.30       228\n",
      "        yes       0.86      0.63      0.73      2377\n",
      "\n",
      "avg / total       0.72      0.62      0.65      3263\n",
      "\n"
     ]
    }
   ],
   "source": [
    "evaluate_model(sv_linear, cv_train_df, y_train, cv_val_df, y_val)"
   ]
  },
  {
   "cell_type": "markdown",
   "metadata": {},
   "source": [
    "SVM with linear kernel performs better than Logistic Regression."
   ]
  },
  {
   "cell_type": "markdown",
   "metadata": {},
   "source": [
    "### Logistic Regression with balanced classes\n",
    "- the classes are equally balanced in the following as highly unbalanced classes might pose a problem"
   ]
  },
  {
   "cell_type": "code",
   "execution_count": 38,
   "metadata": {},
   "outputs": [
    {
     "data": {
      "text/html": [
       "<div>\n",
       "<style scoped>\n",
       "    .dataframe tbody tr th:only-of-type {\n",
       "        vertical-align: middle;\n",
       "    }\n",
       "\n",
       "    .dataframe tbody tr th {\n",
       "        vertical-align: top;\n",
       "    }\n",
       "\n",
       "    .dataframe thead th {\n",
       "        text-align: right;\n",
       "    }\n",
       "</style>\n",
       "<table border=\"1\" class=\"dataframe\">\n",
       "  <thead>\n",
       "    <tr style=\"text-align: right;\">\n",
       "      <th></th>\n",
       "      <th>abstract</th>\n",
       "    </tr>\n",
       "    <tr>\n",
       "      <th>significant</th>\n",
       "      <th></th>\n",
       "    </tr>\n",
       "  </thead>\n",
       "  <tbody>\n",
       "    <tr>\n",
       "      <th>both</th>\n",
       "      <td>4279</td>\n",
       "    </tr>\n",
       "    <tr>\n",
       "      <th>no</th>\n",
       "      <td>1656</td>\n",
       "    </tr>\n",
       "    <tr>\n",
       "      <th>yes</th>\n",
       "      <td>15817</td>\n",
       "    </tr>\n",
       "  </tbody>\n",
       "</table>\n",
       "</div>"
      ],
      "text/plain": [
       "             abstract\n",
       "significant          \n",
       "both             4279\n",
       "no               1656\n",
       "yes             15817"
      ]
     },
     "execution_count": 38,
     "metadata": {},
     "output_type": "execute_result"
    }
   ],
   "source": [
    "labelled_abstracts.groupby('significant').count()"
   ]
  },
  {
   "cell_type": "code",
   "execution_count": 39,
   "metadata": {},
   "outputs": [],
   "source": [
    "yes = labelled_abstracts[labelled_abstracts['significant'] == 'yes']"
   ]
  },
  {
   "cell_type": "code",
   "execution_count": 40,
   "metadata": {},
   "outputs": [],
   "source": [
    "yes_sample = yes.sample(n=1656, random_state=42)"
   ]
  },
  {
   "cell_type": "code",
   "execution_count": 41,
   "metadata": {},
   "outputs": [],
   "source": [
    "both = labelled_abstracts[labelled_abstracts['significant'] == 'both']"
   ]
  },
  {
   "cell_type": "code",
   "execution_count": 42,
   "metadata": {},
   "outputs": [],
   "source": [
    "both_sample = both.sample(n=1656, random_state=42)"
   ]
  },
  {
   "cell_type": "code",
   "execution_count": 43,
   "metadata": {},
   "outputs": [],
   "source": [
    "no = labelled_abstracts[labelled_abstracts['significant'] == 'no']"
   ]
  },
  {
   "cell_type": "code",
   "execution_count": 44,
   "metadata": {},
   "outputs": [],
   "source": [
    "yes_sample.reset_index(drop=True, inplace=True)\n",
    "both_sample.reset_index(drop=True, inplace=True)\n",
    "no.reset_index(drop=True, inplace=True)"
   ]
  },
  {
   "cell_type": "code",
   "execution_count": 45,
   "metadata": {},
   "outputs": [],
   "source": [
    "equal_data = pd.concat((yes_sample, both_sample, no), axis=0)"
   ]
  },
  {
   "cell_type": "code",
   "execution_count": 46,
   "metadata": {},
   "outputs": [],
   "source": [
    "equal_data = equal_data.sample(frac=1)\n",
    "equal_data.reset_index(drop=True, inplace=True)"
   ]
  },
  {
   "cell_type": "code",
   "execution_count": 47,
   "metadata": {},
   "outputs": [],
   "source": [
    "y_equal = equal_data['significant']"
   ]
  },
  {
   "cell_type": "code",
   "execution_count": 48,
   "metadata": {},
   "outputs": [],
   "source": [
    "X_equal = equal_data.drop('significant', axis=1)"
   ]
  },
  {
   "cell_type": "code",
   "execution_count": 49,
   "metadata": {},
   "outputs": [],
   "source": [
    "X_equal_cv = count_vect(X_equal['abstract'])"
   ]
  },
  {
   "cell_type": "code",
   "execution_count": 50,
   "metadata": {},
   "outputs": [],
   "source": [
    "logreg_equal = LogisticRegression(random_state=42).fit(X_equal_cv, y_equal)"
   ]
  },
  {
   "cell_type": "code",
   "execution_count": 51,
   "metadata": {},
   "outputs": [
    {
     "name": "stdout",
     "output_type": "stream",
     "text": [
      "Accuracy for predicting the train labels: 0.81\n",
      "Accuracy for predicting the validate labels: 0.61\n"
     ]
    },
    {
     "data": {
      "image/png": "[encoded data removed]",
      "text/plain": [
       "<Figure size 1440x720 with 4 Axes>"
      ]
     },
     "metadata": {},
     "output_type": "display_data"
    },
    {
     "name": "stdout",
     "output_type": "stream",
     "text": [
      "             precision    recall  f1-score   support\n",
      "\n",
      "       both       0.43      0.67      0.53       658\n",
      "         no       0.28      0.89      0.43       228\n",
      "        yes       0.89      0.57      0.70      2377\n",
      "\n",
      "avg / total       0.76      0.61      0.64      3263\n",
      "\n"
     ]
    }
   ],
   "source": [
    "evaluate_model(logreg_equal, X_equal_cv, y_equal, cv_val_df, y_val)"
   ]
  },
  {
   "cell_type": "markdown",
   "metadata": {},
   "source": [
    "With balanced classes the model is better able to differentiate between the different classes. However, SVM with kernel rbf still perform better."
   ]
  },
  {
   "cell_type": "markdown",
   "metadata": {},
   "source": [
    "### Logistic Regression with only the correlated features\n",
    "- all features that do not have a linear realationship with the target are removed from the DataFrame\n",
    "- remaining features: statistically, difference and significantly\n",
    "- the data with balanced classes are used"
   ]
  },
  {
   "cell_type": "code",
   "execution_count": 52,
   "metadata": {},
   "outputs": [],
   "source": [
    "def lin_features(df):\n",
    "    lf = pd.DataFrame()\n",
    "    lf['statistically'] = df['statistically']\n",
    "    lf['difference'] = df['difference']\n",
    "    lf['significantly'] = df['significantly']\n",
    "    lf['differences'] = df['differences']\n",
    "    lf['observed'] = df['observed']\n",
    "    lf['correlation'] = df['correlation']\n",
    "    lf['reduction'] = df['reduction']\n",
    "    lf['increase'] = df['increase']\n",
    "    lf['decrease'] = df['decrease']\n",
    "    lf['showed'] = df['showed']\n",
    "    lf['association'] = df['association']\n",
    "    lf['improvement'] = df['improvement']\n",
    "    lf['study'] = df['study']\n",
    "    return lf"
   ]
  },
  {
   "cell_type": "code",
   "execution_count": 53,
   "metadata": {},
   "outputs": [],
   "source": [
    "train_lin = lin_features(X_equal_cv)\n",
    "val_lin = lin_features(cv_val_df)"
   ]
  },
  {
   "cell_type": "code",
   "execution_count": 54,
   "metadata": {},
   "outputs": [],
   "source": [
    "logreg_lin = LogisticRegression(random_state=42).fit(train_lin, y_equal)"
   ]
  },
  {
   "cell_type": "code",
   "execution_count": 55,
   "metadata": {},
   "outputs": [
    {
     "name": "stdout",
     "output_type": "stream",
     "text": [
      "Accuracy for predicting the train labels: 0.62\n",
      "Accuracy for predicting the validate labels: 0.5\n"
     ]
    },
    {
     "data": {
      "image/png": "[encoded data removed]",
      "text/plain": [
       "<Figure size 1440x720 with 4 Axes>"
      ]
     },
     "metadata": {},
     "output_type": "display_data"
    },
    {
     "name": "stdout",
     "output_type": "stream",
     "text": [
      "             precision    recall  f1-score   support\n",
      "\n",
      "       both       0.33      0.52      0.41       658\n",
      "         no       0.22      0.86      0.35       228\n",
      "        yes       0.84      0.46      0.60      2377\n",
      "\n",
      "avg / total       0.69      0.50      0.54      3263\n",
      "\n"
     ]
    }
   ],
   "source": [
    "evaluate_model(logreg_lin, train_lin, y_equal, val_lin, y_val)"
   ]
  },
  {
   "cell_type": "markdown",
   "metadata": {},
   "source": [
    " Using only features with linear correlation did not improve performance."
   ]
  }
 ],
 "metadata": {
  "kernelspec": {
   "display_name": "Python 3",
   "language": "python",
   "name": "python3"
  },
  "language_info": {
   "codemirror_mode": {
    "name": "ipython",
    "version": 3
   },
   "file_extension": ".py",
   "mimetype": "text/x-python",
   "name": "python",
   "nbconvert_exporter": "python",
   "pygments_lexer": "ipython3",
   "version": "3.6.5"
  }
 },
 "nbformat": 4,
 "nbformat_minor": 2
}
