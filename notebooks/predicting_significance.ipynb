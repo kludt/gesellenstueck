{
 "cells": [
  {
   "cell_type": "code",
   "execution_count": 1,
   "metadata": {},
   "outputs": [],
   "source": [
    "import pandas as pd\n",
    "import numpy as np\n",
    "from sklearn.model_selection import train_test_split\n",
    "from sklearn.feature_extraction.text import TfidfVectorizer, CountVectorizer\n",
    "from sklearn.linear_model import LogisticRegression\n",
    "from sklearn.metrics import confusion_matrix\n",
    "from sklearn.metrics import classification_report\n",
    "import matplotlib.pyplot as plt\n",
    "import seaborn as sns\n",
    "pd.options.mode.chained_assignment = None"
   ]
  },
  {
   "cell_type": "markdown",
   "metadata": {},
   "source": [
    "By opening the file that way, the Chinese characters will be removed:"
   ]
  },
  {
   "cell_type": "code",
   "execution_count": 2,
   "metadata": {},
   "outputs": [],
   "source": [
    "with open('../data/labelled_data.csv', encoding='ascii', errors='ignore') as myfile:\n",
    "    abstracts = pd.read_csv(myfile, index_col=0)"
   ]
  },
  {
   "cell_type": "code",
   "execution_count": 3,
   "metadata": {},
   "outputs": [
    {
     "data": {
      "text/html": [
       "<div>\n",
       "<style scoped>\n",
       "    .dataframe tbody tr th:only-of-type {\n",
       "        vertical-align: middle;\n",
       "    }\n",
       "\n",
       "    .dataframe tbody tr th {\n",
       "        vertical-align: top;\n",
       "    }\n",
       "\n",
       "    .dataframe thead th {\n",
       "        text-align: right;\n",
       "    }\n",
       "</style>\n",
       "<table border=\"1\" class=\"dataframe\">\n",
       "  <thead>\n",
       "    <tr style=\"text-align: right;\">\n",
       "      <th></th>\n",
       "      <th>abstract</th>\n",
       "      <th>significant</th>\n",
       "    </tr>\n",
       "  </thead>\n",
       "  <tbody>\n",
       "    <tr>\n",
       "      <th>0</th>\n",
       "      <td>bone. 2018 sep 24. pii: s8756-3282(18)30355-7....</td>\n",
       "      <td>0.0</td>\n",
       "    </tr>\n",
       "    <tr>\n",
       "      <th>1</th>\n",
       "      <td>neurosci lett. 2018 sep 24. pii: s0304-3940(18...</td>\n",
       "      <td>yes</td>\n",
       "    </tr>\n",
       "    <tr>\n",
       "      <th>2</th>\n",
       "      <td>fetal pediatr pathol. 2018 sep 27:1-11. doi: 1...</td>\n",
       "      <td>yes</td>\n",
       "    </tr>\n",
       "    <tr>\n",
       "      <th>3</th>\n",
       "      <td>per med. 2018 sep 27. doi: 10.2217/pme-2018-00...</td>\n",
       "      <td>both</td>\n",
       "    </tr>\n",
       "    <tr>\n",
       "      <th>4</th>\n",
       "      <td>endokrynol pol. 2018 sep 27. doi: 10.5603/ep.a...</td>\n",
       "      <td>yes</td>\n",
       "    </tr>\n",
       "  </tbody>\n",
       "</table>\n",
       "</div>"
      ],
      "text/plain": [
       "                                            abstract significant\n",
       "0  bone. 2018 sep 24. pii: s8756-3282(18)30355-7....         0.0\n",
       "1  neurosci lett. 2018 sep 24. pii: s0304-3940(18...         yes\n",
       "2  fetal pediatr pathol. 2018 sep 27:1-11. doi: 1...         yes\n",
       "3  per med. 2018 sep 27. doi: 10.2217/pme-2018-00...        both\n",
       "4  endokrynol pol. 2018 sep 27. doi: 10.5603/ep.a...         yes"
      ]
     },
     "execution_count": 3,
     "metadata": {},
     "output_type": "execute_result"
    }
   ],
   "source": [
    "abstracts.head()"
   ]
  },
  {
   "cell_type": "markdown",
   "metadata": {},
   "source": [
    "### Cleaning of abstracts\n",
    "Abstracts which are shorter than 500 characters (see labelling_of_significance_of_results for details) are removed, numbers in words are transformed to a synonyme and words are fused or expanded to not be removed by the cleaning, numbers are removed, punctuation is removed and words shorter than three characters are removed."
   ]
  },
  {
   "cell_type": "code",
   "execution_count": 4,
   "metadata": {},
   "outputs": [],
   "source": [
    "# removing abstracts shorter than 500 characters - for details see labelling_of_significance_of_results\n",
    "abstracts['abstract_length'] = abstracts.abstract.str.len()\n",
    "abstracts = abstracts[abstracts['abstract_length'] > 500]\n",
    "abstracts = abstracts.drop('abstract_length', axis=1)"
   ]
  },
  {
   "cell_type": "code",
   "execution_count": 5,
   "metadata": {},
   "outputs": [],
   "source": [
    "def easy_words(column):\n",
    "    text = column.str.lower()\n",
    "    \n",
    "    text = text.str.replace('1,25\\S+ vitamin d', 'calcitriol')\n",
    "    text = text.str.replace('1,25\\S+ vit d', 'calcitriol')\n",
    "    text = text.str.replace('1,25\\S+', 'calcitriol')\n",
    "\n",
    "    text = text.str.replace('1,25 vitamin d', 'calcitriol')\n",
    "    text = text.str.replace('1,25 vit d', 'calcitriol')\n",
    "    text = text.str.replace('1,25 \\S+ vitamin d', 'calcitriol')\n",
    "    text = text.str.replace('1,25 \\S+ vit d', 'calcitriol')\n",
    "    text = text.str.replace('1,25 \\S+ d', 'calcitriol')\n",
    "    text = text.str.replace('1,25 \\S+', 'calcitriol')\n",
    "    \n",
    "    text = text.str.replace('25\\S+ vitamin d', 'calcitriol')\n",
    "    text = text.str.replace('25\\S+ vit d', 'calcitriol')\n",
    "    text = text.str.replace('25\\S+', 'calcitriol')\n",
    " \n",
    "    text = text.str.replace('vitamin d', 'vitamind')\n",
    "    text = text.str.replace('vit d', 'vitamind')\n",
    "    \n",
    "    text = text.str.replace('tb', 'tuberculosis')\n",
    "    \n",
    "    return text"
   ]
  },
  {
   "cell_type": "code",
   "execution_count": 6,
   "metadata": {},
   "outputs": [],
   "source": [
    "abstracts['abstract'] = easy_words(abstracts['abstract'])"
   ]
  },
  {
   "cell_type": "code",
   "execution_count": 7,
   "metadata": {},
   "outputs": [],
   "source": [
    "abstracts['abstract'] = abstracts.abstract.str.replace('\\d+', '')"
   ]
  },
  {
   "cell_type": "code",
   "execution_count": 8,
   "metadata": {},
   "outputs": [],
   "source": [
    "abstracts['abstract'] = abstracts.abstract.str.replace('[^\\w\\s]', '')"
   ]
  },
  {
   "cell_type": "code",
   "execution_count": 9,
   "metadata": {},
   "outputs": [],
   "source": [
    "abstracts['abstract'] = abstracts.abstract.str.findall('\\w{3,}').str.join(' ')"
   ]
  },
  {
   "cell_type": "markdown",
   "metadata": {},
   "source": [
    "### Split labelled from unlabelled data"
   ]
  },
  {
   "cell_type": "code",
   "execution_count": 10,
   "metadata": {},
   "outputs": [],
   "source": [
    "unlabelled_abstracts = abstracts[abstracts['significant'] == '0.0']\n",
    "unlabelled_abstracts = unlabelled_abstracts.drop('significant', axis=1)\n",
    "\n",
    "labelled_abstracts = abstracts[abstracts['significant'] != '0.0']"
   ]
  },
  {
   "cell_type": "code",
   "execution_count": 11,
   "metadata": {},
   "outputs": [
    {
     "name": "stdout",
     "output_type": "stream",
     "text": [
      "21752 labelled abstracts.\n",
      "3228 unlabelled abstracts.\n"
     ]
    }
   ],
   "source": [
    "print(f'{len(labelled_abstracts)} labelled abstracts.')\n",
    "print(f'{len(unlabelled_abstracts)} unlabelled abstracts.')"
   ]
  },
  {
   "cell_type": "markdown",
   "metadata": {},
   "source": [
    "### Splitting data in train, validate, test"
   ]
  },
  {
   "cell_type": "code",
   "execution_count": 12,
   "metadata": {},
   "outputs": [],
   "source": [
    "def split_train_val_test(data, targetname, percentages):\n",
    "    \"\"\"percentages = list with percentage of train,val,test. e.g. [0.6,0.2,0.2]\n",
    "    targetname = column name of target (string). data is a dataframe\"\"\"\n",
    "    train_perc = percentages[0]\n",
    "    test_perc = percentages[2]\n",
    "    val_perc = test_perc/(train_perc + test_perc)\n",
    "\n",
    "    if sum(percentages) > 1:\n",
    "        print('percentages don\\'t sum up to more than 1! calculate again :) ')\n",
    "        return None\n",
    "    else:\n",
    "        X_train, X_test, y_train, y_test = train_test_split(\n",
    "            data.loc[:, data.columns != targetname], data[targetname],\n",
    "            test_size=test_perc, random_state=42)\n",
    "        X_train, X_val, y_train, y_val = train_test_split(\n",
    "            X_train, y_train, test_size=val_perc, random_state=42)\n",
    "        return [X_train, X_val, X_test, y_train, y_val, y_test]"
   ]
  },
  {
   "cell_type": "code",
   "execution_count": 13,
   "metadata": {},
   "outputs": [],
   "source": [
    "X_train, X_val, X_test, y_train, y_val, y_test = split_train_val_test(labelled_abstracts, 'significant',\n",
    "                                                                      [0.7, 0.15, 0.15])"
   ]
  },
  {
   "cell_type": "markdown",
   "metadata": {},
   "source": [
    "### CountVectorizing vs. TF-IDF for getting a word/frequency matrix\n",
    "min_df was set to 0.02 to ensure the very low frequency words (in our case probably authors and university names) are removed."
   ]
  },
  {
   "cell_type": "code",
   "execution_count": 14,
   "metadata": {},
   "outputs": [],
   "source": [
    "cv = CountVectorizer(min_df=0.02, max_features=300000, stop_words='english').fit(X_train['abstract'])"
   ]
  },
  {
   "cell_type": "code",
   "execution_count": 15,
   "metadata": {},
   "outputs": [],
   "source": [
    "tf = TfidfVectorizer(min_df=0.02, max_features=300000, stop_words='english').fit(X_train['abstract'])"
   ]
  },
  {
   "cell_type": "code",
   "execution_count": 16,
   "metadata": {},
   "outputs": [],
   "source": [
    "def count_vect(series):\n",
    "    matrix = cv.transform(series)\n",
    "    features = cv.get_feature_names()\n",
    "    df = pd.DataFrame(matrix.todense(), columns=features)\n",
    "    return df\n",
    "\n",
    "\n",
    "def tf_idf(series):\n",
    "    matrix = tf.transform(series)\n",
    "    features = tf.get_feature_names()\n",
    "    df = pd.DataFrame(matrix.todense(), columns=features)\n",
    "    return df"
   ]
  },
  {
   "cell_type": "code",
   "execution_count": 17,
   "metadata": {},
   "outputs": [],
   "source": [
    "cv_train_df = count_vect(X_train['abstract'])\n",
    "cv_val_df = count_vect(X_val['abstract'])\n",
    "cv_test_df = count_vect(X_test['abstract'])"
   ]
  },
  {
   "cell_type": "code",
   "execution_count": 18,
   "metadata": {},
   "outputs": [
    {
     "data": {
      "text/html": [
       "<div>\n",
       "<style scoped>\n",
       "    .dataframe tbody tr th:only-of-type {\n",
       "        vertical-align: middle;\n",
       "    }\n",
       "\n",
       "    .dataframe tbody tr th {\n",
       "        vertical-align: top;\n",
       "    }\n",
       "\n",
       "    .dataframe thead th {\n",
       "        text-align: right;\n",
       "    }\n",
       "</style>\n",
       "<table border=\"1\" class=\"dataframe\">\n",
       "  <thead>\n",
       "    <tr style=\"text-align: right;\">\n",
       "      <th></th>\n",
       "      <th>ability</th>\n",
       "      <th>abnormalities</th>\n",
       "      <th>absence</th>\n",
       "      <th>absorptiometry</th>\n",
       "      <th>absorption</th>\n",
       "      <th>according</th>\n",
       "      <th>achieved</th>\n",
       "      <th>acid</th>\n",
       "      <th>action</th>\n",
       "      <th>activation</th>\n",
       "      <th>...</th>\n",
       "      <th>wiley</th>\n",
       "      <th>winter</th>\n",
       "      <th>women</th>\n",
       "      <th>womens</th>\n",
       "      <th>xray</th>\n",
       "      <th>year</th>\n",
       "      <th>years</th>\n",
       "      <th>york</th>\n",
       "      <th>young</th>\n",
       "      <th>zhang</th>\n",
       "    </tr>\n",
       "  </thead>\n",
       "  <tbody>\n",
       "    <tr>\n",
       "      <th>0</th>\n",
       "      <td>0</td>\n",
       "      <td>0</td>\n",
       "      <td>0</td>\n",
       "      <td>0</td>\n",
       "      <td>0</td>\n",
       "      <td>0</td>\n",
       "      <td>0</td>\n",
       "      <td>0</td>\n",
       "      <td>0</td>\n",
       "      <td>0</td>\n",
       "      <td>...</td>\n",
       "      <td>0</td>\n",
       "      <td>0</td>\n",
       "      <td>0</td>\n",
       "      <td>0</td>\n",
       "      <td>0</td>\n",
       "      <td>0</td>\n",
       "      <td>0</td>\n",
       "      <td>0</td>\n",
       "      <td>0</td>\n",
       "      <td>0</td>\n",
       "    </tr>\n",
       "    <tr>\n",
       "      <th>1</th>\n",
       "      <td>0</td>\n",
       "      <td>0</td>\n",
       "      <td>0</td>\n",
       "      <td>0</td>\n",
       "      <td>0</td>\n",
       "      <td>0</td>\n",
       "      <td>0</td>\n",
       "      <td>0</td>\n",
       "      <td>0</td>\n",
       "      <td>0</td>\n",
       "      <td>...</td>\n",
       "      <td>0</td>\n",
       "      <td>0</td>\n",
       "      <td>0</td>\n",
       "      <td>0</td>\n",
       "      <td>0</td>\n",
       "      <td>0</td>\n",
       "      <td>0</td>\n",
       "      <td>0</td>\n",
       "      <td>0</td>\n",
       "      <td>0</td>\n",
       "    </tr>\n",
       "    <tr>\n",
       "      <th>2</th>\n",
       "      <td>0</td>\n",
       "      <td>0</td>\n",
       "      <td>0</td>\n",
       "      <td>0</td>\n",
       "      <td>0</td>\n",
       "      <td>0</td>\n",
       "      <td>0</td>\n",
       "      <td>0</td>\n",
       "      <td>0</td>\n",
       "      <td>0</td>\n",
       "      <td>...</td>\n",
       "      <td>0</td>\n",
       "      <td>0</td>\n",
       "      <td>0</td>\n",
       "      <td>0</td>\n",
       "      <td>0</td>\n",
       "      <td>0</td>\n",
       "      <td>0</td>\n",
       "      <td>0</td>\n",
       "      <td>1</td>\n",
       "      <td>0</td>\n",
       "    </tr>\n",
       "    <tr>\n",
       "      <th>3</th>\n",
       "      <td>0</td>\n",
       "      <td>0</td>\n",
       "      <td>0</td>\n",
       "      <td>0</td>\n",
       "      <td>0</td>\n",
       "      <td>0</td>\n",
       "      <td>0</td>\n",
       "      <td>0</td>\n",
       "      <td>0</td>\n",
       "      <td>0</td>\n",
       "      <td>...</td>\n",
       "      <td>1</td>\n",
       "      <td>0</td>\n",
       "      <td>0</td>\n",
       "      <td>0</td>\n",
       "      <td>0</td>\n",
       "      <td>0</td>\n",
       "      <td>0</td>\n",
       "      <td>0</td>\n",
       "      <td>0</td>\n",
       "      <td>0</td>\n",
       "    </tr>\n",
       "    <tr>\n",
       "      <th>4</th>\n",
       "      <td>0</td>\n",
       "      <td>0</td>\n",
       "      <td>0</td>\n",
       "      <td>0</td>\n",
       "      <td>0</td>\n",
       "      <td>0</td>\n",
       "      <td>1</td>\n",
       "      <td>0</td>\n",
       "      <td>0</td>\n",
       "      <td>1</td>\n",
       "      <td>...</td>\n",
       "      <td>0</td>\n",
       "      <td>0</td>\n",
       "      <td>1</td>\n",
       "      <td>0</td>\n",
       "      <td>0</td>\n",
       "      <td>0</td>\n",
       "      <td>0</td>\n",
       "      <td>0</td>\n",
       "      <td>0</td>\n",
       "      <td>0</td>\n",
       "    </tr>\n",
       "  </tbody>\n",
       "</table>\n",
       "<p>5 rows × 945 columns</p>\n",
       "</div>"
      ],
      "text/plain": [
       "   ability  abnormalities  absence  absorptiometry  absorption  according  \\\n",
       "0        0              0        0               0           0          0   \n",
       "1        0              0        0               0           0          0   \n",
       "2        0              0        0               0           0          0   \n",
       "3        0              0        0               0           0          0   \n",
       "4        0              0        0               0           0          0   \n",
       "\n",
       "   achieved  acid  action  activation  ...    wiley  winter  women  womens  \\\n",
       "0         0     0       0           0  ...        0       0      0       0   \n",
       "1         0     0       0           0  ...        0       0      0       0   \n",
       "2         0     0       0           0  ...        0       0      0       0   \n",
       "3         0     0       0           0  ...        1       0      0       0   \n",
       "4         1     0       0           1  ...        0       0      1       0   \n",
       "\n",
       "   xray  year  years  york  young  zhang  \n",
       "0     0     0      0     0      0      0  \n",
       "1     0     0      0     0      0      0  \n",
       "2     0     0      0     0      1      0  \n",
       "3     0     0      0     0      0      0  \n",
       "4     0     0      0     0      0      0  \n",
       "\n",
       "[5 rows x 945 columns]"
      ]
     },
     "execution_count": 18,
     "metadata": {},
     "output_type": "execute_result"
    }
   ],
   "source": [
    "cv_train_df.head()"
   ]
  },
  {
   "cell_type": "code",
   "execution_count": 19,
   "metadata": {},
   "outputs": [],
   "source": [
    "tf_train_df = tf_idf(X_train['abstract'])\n",
    "tf_val_df = tf_idf(X_val['abstract'])\n",
    "tf_test_df = tf_idf(X_test['abstract'])"
   ]
  },
  {
   "cell_type": "code",
   "execution_count": 20,
   "metadata": {},
   "outputs": [
    {
     "data": {
      "text/html": [
       "<div>\n",
       "<style scoped>\n",
       "    .dataframe tbody tr th:only-of-type {\n",
       "        vertical-align: middle;\n",
       "    }\n",
       "\n",
       "    .dataframe tbody tr th {\n",
       "        vertical-align: top;\n",
       "    }\n",
       "\n",
       "    .dataframe thead th {\n",
       "        text-align: right;\n",
       "    }\n",
       "</style>\n",
       "<table border=\"1\" class=\"dataframe\">\n",
       "  <thead>\n",
       "    <tr style=\"text-align: right;\">\n",
       "      <th></th>\n",
       "      <th>ability</th>\n",
       "      <th>abnormalities</th>\n",
       "      <th>absence</th>\n",
       "      <th>absorptiometry</th>\n",
       "      <th>absorption</th>\n",
       "      <th>according</th>\n",
       "      <th>achieved</th>\n",
       "      <th>acid</th>\n",
       "      <th>action</th>\n",
       "      <th>activation</th>\n",
       "      <th>...</th>\n",
       "      <th>wiley</th>\n",
       "      <th>winter</th>\n",
       "      <th>women</th>\n",
       "      <th>womens</th>\n",
       "      <th>xray</th>\n",
       "      <th>year</th>\n",
       "      <th>years</th>\n",
       "      <th>york</th>\n",
       "      <th>young</th>\n",
       "      <th>zhang</th>\n",
       "    </tr>\n",
       "  </thead>\n",
       "  <tbody>\n",
       "    <tr>\n",
       "      <th>0</th>\n",
       "      <td>0.0</td>\n",
       "      <td>0.0</td>\n",
       "      <td>0.0</td>\n",
       "      <td>0.0</td>\n",
       "      <td>0.0</td>\n",
       "      <td>0.0</td>\n",
       "      <td>0.000000</td>\n",
       "      <td>0.0</td>\n",
       "      <td>0.0</td>\n",
       "      <td>0.000000</td>\n",
       "      <td>...</td>\n",
       "      <td>0.000000</td>\n",
       "      <td>0.0</td>\n",
       "      <td>0.00000</td>\n",
       "      <td>0.0</td>\n",
       "      <td>0.0</td>\n",
       "      <td>0.0</td>\n",
       "      <td>0.0</td>\n",
       "      <td>0.0</td>\n",
       "      <td>0.000000</td>\n",
       "      <td>0.0</td>\n",
       "    </tr>\n",
       "    <tr>\n",
       "      <th>1</th>\n",
       "      <td>0.0</td>\n",
       "      <td>0.0</td>\n",
       "      <td>0.0</td>\n",
       "      <td>0.0</td>\n",
       "      <td>0.0</td>\n",
       "      <td>0.0</td>\n",
       "      <td>0.000000</td>\n",
       "      <td>0.0</td>\n",
       "      <td>0.0</td>\n",
       "      <td>0.000000</td>\n",
       "      <td>...</td>\n",
       "      <td>0.000000</td>\n",
       "      <td>0.0</td>\n",
       "      <td>0.00000</td>\n",
       "      <td>0.0</td>\n",
       "      <td>0.0</td>\n",
       "      <td>0.0</td>\n",
       "      <td>0.0</td>\n",
       "      <td>0.0</td>\n",
       "      <td>0.000000</td>\n",
       "      <td>0.0</td>\n",
       "    </tr>\n",
       "    <tr>\n",
       "      <th>2</th>\n",
       "      <td>0.0</td>\n",
       "      <td>0.0</td>\n",
       "      <td>0.0</td>\n",
       "      <td>0.0</td>\n",
       "      <td>0.0</td>\n",
       "      <td>0.0</td>\n",
       "      <td>0.000000</td>\n",
       "      <td>0.0</td>\n",
       "      <td>0.0</td>\n",
       "      <td>0.000000</td>\n",
       "      <td>...</td>\n",
       "      <td>0.000000</td>\n",
       "      <td>0.0</td>\n",
       "      <td>0.00000</td>\n",
       "      <td>0.0</td>\n",
       "      <td>0.0</td>\n",
       "      <td>0.0</td>\n",
       "      <td>0.0</td>\n",
       "      <td>0.0</td>\n",
       "      <td>0.133627</td>\n",
       "      <td>0.0</td>\n",
       "    </tr>\n",
       "    <tr>\n",
       "      <th>3</th>\n",
       "      <td>0.0</td>\n",
       "      <td>0.0</td>\n",
       "      <td>0.0</td>\n",
       "      <td>0.0</td>\n",
       "      <td>0.0</td>\n",
       "      <td>0.0</td>\n",
       "      <td>0.000000</td>\n",
       "      <td>0.0</td>\n",
       "      <td>0.0</td>\n",
       "      <td>0.000000</td>\n",
       "      <td>...</td>\n",
       "      <td>0.115806</td>\n",
       "      <td>0.0</td>\n",
       "      <td>0.00000</td>\n",
       "      <td>0.0</td>\n",
       "      <td>0.0</td>\n",
       "      <td>0.0</td>\n",
       "      <td>0.0</td>\n",
       "      <td>0.0</td>\n",
       "      <td>0.000000</td>\n",
       "      <td>0.0</td>\n",
       "    </tr>\n",
       "    <tr>\n",
       "      <th>4</th>\n",
       "      <td>0.0</td>\n",
       "      <td>0.0</td>\n",
       "      <td>0.0</td>\n",
       "      <td>0.0</td>\n",
       "      <td>0.0</td>\n",
       "      <td>0.0</td>\n",
       "      <td>0.072114</td>\n",
       "      <td>0.0</td>\n",
       "      <td>0.0</td>\n",
       "      <td>0.064535</td>\n",
       "      <td>...</td>\n",
       "      <td>0.000000</td>\n",
       "      <td>0.0</td>\n",
       "      <td>0.03813</td>\n",
       "      <td>0.0</td>\n",
       "      <td>0.0</td>\n",
       "      <td>0.0</td>\n",
       "      <td>0.0</td>\n",
       "      <td>0.0</td>\n",
       "      <td>0.000000</td>\n",
       "      <td>0.0</td>\n",
       "    </tr>\n",
       "  </tbody>\n",
       "</table>\n",
       "<p>5 rows × 945 columns</p>\n",
       "</div>"
      ],
      "text/plain": [
       "   ability  abnormalities  absence  absorptiometry  absorption  according  \\\n",
       "0      0.0            0.0      0.0             0.0         0.0        0.0   \n",
       "1      0.0            0.0      0.0             0.0         0.0        0.0   \n",
       "2      0.0            0.0      0.0             0.0         0.0        0.0   \n",
       "3      0.0            0.0      0.0             0.0         0.0        0.0   \n",
       "4      0.0            0.0      0.0             0.0         0.0        0.0   \n",
       "\n",
       "   achieved  acid  action  activation  ...       wiley  winter    women  \\\n",
       "0  0.000000   0.0     0.0    0.000000  ...    0.000000     0.0  0.00000   \n",
       "1  0.000000   0.0     0.0    0.000000  ...    0.000000     0.0  0.00000   \n",
       "2  0.000000   0.0     0.0    0.000000  ...    0.000000     0.0  0.00000   \n",
       "3  0.000000   0.0     0.0    0.000000  ...    0.115806     0.0  0.00000   \n",
       "4  0.072114   0.0     0.0    0.064535  ...    0.000000     0.0  0.03813   \n",
       "\n",
       "   womens  xray  year  years  york     young  zhang  \n",
       "0     0.0   0.0   0.0    0.0   0.0  0.000000    0.0  \n",
       "1     0.0   0.0   0.0    0.0   0.0  0.000000    0.0  \n",
       "2     0.0   0.0   0.0    0.0   0.0  0.133627    0.0  \n",
       "3     0.0   0.0   0.0    0.0   0.0  0.000000    0.0  \n",
       "4     0.0   0.0   0.0    0.0   0.0  0.000000    0.0  \n",
       "\n",
       "[5 rows x 945 columns]"
      ]
     },
     "execution_count": 20,
     "metadata": {},
     "output_type": "execute_result"
    }
   ],
   "source": [
    "tf_train_df.head()"
   ]
  },
  {
   "cell_type": "markdown",
   "metadata": {},
   "source": [
    "### MVP - Logistic Regression\n",
    "Using count vectorized input data."
   ]
  },
  {
   "cell_type": "code",
   "execution_count": 21,
   "metadata": {},
   "outputs": [],
   "source": [
    "logreg_cv = LogisticRegression(random_state=42).fit(cv_train_df, y_train)"
   ]
  },
  {
   "cell_type": "code",
   "execution_count": 22,
   "metadata": {},
   "outputs": [],
   "source": [
    "train_score = logreg_cv.score(cv_train_df, y_train)\n",
    "val_score = logreg_cv.score(cv_val_df, y_val)"
   ]
  },
  {
   "cell_type": "code",
   "execution_count": 23,
   "metadata": {},
   "outputs": [
    {
     "name": "stdout",
     "output_type": "stream",
     "text": [
      "Accuracy for predicting the train labels: 0.8\n",
      "Accuracy for predicting the validate labels: 0.75\n"
     ]
    }
   ],
   "source": [
    "print(f'Accuracy for predicting the train labels: {np.round(train_score, decimals=2)}')\n",
    "print(f'Accuracy for predicting the validate labels: {np.round(val_score, decimals=2)}')"
   ]
  },
  {
   "cell_type": "code",
   "execution_count": 24,
   "metadata": {},
   "outputs": [],
   "source": [
    "predict_train_cv = logreg_cv.predict(cv_train_df)\n",
    "predict_val_cv = logreg_cv.predict(cv_val_df)"
   ]
  },
  {
   "cell_type": "code",
   "execution_count": 62,
   "metadata": {},
   "outputs": [],
   "source": [
    "def cm(y_train, y_train_predict, y_val, y_val_predict):\n",
    "    cm_train = confusion_matrix(y_train, y_train_predict, labels=['yes', 'no', 'both'])\n",
    "    cm_train_percentage = cm_train/(cm_train.sum(axis=1, keepdims=True))\n",
    "\n",
    "    cm_val = confusion_matrix(y_val, y_val_predict, labels=['yes', 'no', 'both'])\n",
    "    cm_val_percentage = cm_val/(cm_val.sum(axis=1, keepdims=True))\n",
    "    \n",
    "    sns.set(font_scale=1.3)\n",
    "    \n",
    "    plt.figure(figsize=(20,10))\n",
    "    plt.subplot(1,2,1)\n",
    "    sns.heatmap(cm_train_percentage, annot=True, xticklabels=['yes', 'no', 'both'],\n",
    "                yticklabels=['yes', 'no', 'both'], fmt='.2f')\n",
    "    plt.title('TRAIN')\n",
    "    plt.subplot(1,2,2)\n",
    "    sns.heatmap(cm_val_percentage, annot=True, xticklabels=['yes', 'no', 'both'],\n",
    "                yticklabels=['yes', 'no', 'both'], fmt='.2f')\n",
    "    plt.title('VALIDATE')\n",
    "    plt.show()"
   ]
  },
  {
   "cell_type": "code",
   "execution_count": 63,
   "metadata": {},
   "outputs": [
    {
     "data": {
      "image/png": "[encoded data removed]",
      "text/plain": [
       "<Figure size 1440x720 with 4 Axes>"
      ]
     },
     "metadata": {},
     "output_type": "display_data"
    }
   ],
   "source": [
    "cm(y_train, predict_train_cv, y_val, predict_val_cv)"
   ]
  },
  {
   "cell_type": "markdown",
   "metadata": {},
   "source": [
    "Most of the 'yes' papers were correctly classified (92 %), however, 'no' (18 %) and 'both' (33 %) posed difficulties, especially 'no'. Maybe this is because the major proportion of papers in the training data are labelled as 'yes'."
   ]
  },
  {
   "cell_type": "code",
   "execution_count": 65,
   "metadata": {},
   "outputs": [
    {
     "name": "stdout",
     "output_type": "stream",
     "text": [
      "             precision    recall  f1-score   support\n",
      "\n",
      "       both       0.69      0.43      0.53      2990\n",
      "         no       0.79      0.40      0.53      1156\n",
      "        yes       0.82      0.94      0.88     11080\n",
      "\n",
      "avg / total       0.79      0.80      0.78     15226\n",
      "\n"
     ]
    }
   ],
   "source": [
    "print(classification_report(y_train, predict_train_cv))"
   ]
  },
  {
   "cell_type": "markdown",
   "metadata": {},
   "source": [
    "Precision: 69 % is correctly classified as 'both', 32 % is classified as 'both' even though it's truly 'no' or 'yes'.\n",
    "\n",
    "Recall: 24 % is correctly classified as both, but 76 % of 'both' is wrongly classified as 'yes' or 'no'.\n",
    "\n",
    "f1-score: harmonic mean of precision and recall."
   ]
  },
  {
   "cell_type": "markdown",
   "metadata": {},
   "source": [
    "#### Logistic regression is trained with TF-IDF pre-processed data."
   ]
  },
  {
   "cell_type": "code",
   "execution_count": 56,
   "metadata": {},
   "outputs": [],
   "source": [
    "logreg_tf = LogisticRegression(random_state=42).fit(tf_train_df, y_train)"
   ]
  },
  {
   "cell_type": "code",
   "execution_count": 57,
   "metadata": {},
   "outputs": [],
   "source": [
    "train_score = logreg_tf.score(tf_train_df, y_train)\n",
    "val_score = logreg_tf.score(tf_val_df, y_val)"
   ]
  },
  {
   "cell_type": "code",
   "execution_count": 58,
   "metadata": {},
   "outputs": [
    {
     "name": "stdout",
     "output_type": "stream",
     "text": [
      "Accuracy for predicting the train labels: 0.76\n",
      "Accuracy for predicting the validate labels: 0.74\n"
     ]
    }
   ],
   "source": [
    "print(f'Accuracy for predicting the train labels: {np.round(train_score, decimals=2)}')\n",
    "print(f'Accuracy for predicting the validate labels: {np.round(val_score, decimals=2)}')"
   ]
  },
  {
   "cell_type": "code",
   "execution_count": 59,
   "metadata": {},
   "outputs": [],
   "source": [
    "predict_train_tf = logreg_tf.predict(tf_train_df)\n",
    "predict_val_tf = logreg_tf.predict(tf_val_df)"
   ]
  },
  {
   "cell_type": "code",
   "execution_count": 64,
   "metadata": {},
   "outputs": [
    {
     "data": {
      "image/png": "[encoded data removed]",
      "text/plain": [
       "<Figure size 1440x720 with 4 Axes>"
      ]
     },
     "metadata": {},
     "output_type": "display_data"
    }
   ],
   "source": [
    "cm(y_train, predict_train_tf, y_val, predict_val_tf)"
   ]
  },
  {
   "cell_type": "markdown",
   "metadata": {},
   "source": [
    "TF-IDF was better with classifying the 'yes' (97 % correct), however much worse with 'no' (1.3 % correct) and 'both' (17% correct). CountVectorize will be used for data preprocessing from here on out."
   ]
  },
  {
   "cell_type": "code",
   "execution_count": 67,
   "metadata": {},
   "outputs": [
    {
     "name": "stdout",
     "output_type": "stream",
     "text": [
      "             precision    recall  f1-score   support\n",
      "\n",
      "       both       0.68      0.24      0.35      2990\n",
      "         no       0.94      0.04      0.08      1156\n",
      "        yes       0.77      0.98      0.86     11080\n",
      "\n",
      "avg / total       0.76      0.76      0.70     15226\n",
      "\n"
     ]
    }
   ],
   "source": [
    "print(classification_report(y_train, predict_train_tf))"
   ]
  },
  {
   "cell_type": "markdown",
   "metadata": {},
   "source": []
  }
 ],
 "metadata": {
  "kernelspec": {
   "display_name": "Python 3",
   "language": "python",
   "name": "python3"
  },
  "language_info": {
   "codemirror_mode": {
    "name": "ipython",
    "version": 3
   },
   "file_extension": ".py",
   "mimetype": "text/x-python",
   "name": "python",
   "nbconvert_exporter": "python",
   "pygments_lexer": "ipython3",
   "version": "3.6.5"
  }
 },
 "nbformat": 4,
 "nbformat_minor": 2
}
