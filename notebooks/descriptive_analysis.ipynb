{
 "cells": [
  {
   "cell_type": "code",
   "execution_count": 1,
   "metadata": {},
   "outputs": [
    {
     "data": {
      "text/html": [
       "<style>\n",
       "div.cell:nth-child(36) .output {\n",
       "    flex-direction: row;\n",
       "}\n",
       "</style>"
      ],
      "text/plain": [
       "<IPython.core.display.HTML object>"
      ]
     },
     "execution_count": 1,
     "metadata": {},
     "output_type": "execute_result"
    }
   ],
   "source": [
    "import pandas as pd\n",
    "import numpy as np\n",
    "import matplotlib.pyplot as plt\n",
    "import seaborn as sns\n",
    "from IPython.display import display, HTML\n",
    "\n",
    "CSS = \"\"\"\n",
    "div.cell:nth-child(36) .output {\n",
    "    flex-direction: row;\n",
    "}\n",
    "\"\"\"\n",
    "\n",
    "HTML('<style>{}</style>'.format(CSS))"
   ]
  },
  {
   "cell_type": "code",
   "execution_count": 2,
   "metadata": {},
   "outputs": [],
   "source": [
    "pd.options.mode.chained_assignment = None"
   ]
  },
  {
   "cell_type": "code",
   "execution_count": 3,
   "metadata": {},
   "outputs": [
    {
     "name": "stdout",
     "output_type": "stream",
     "text": [
      "\n",
      "1. Bone. 2018 Sep 24. pii: S8756-3282(18)30355-7. doi: 10.1016/j.bone.2018.09.017.\n",
      "[Epub ahead of print]\n",
      "\n",
      "Quality of life in hypoparathyroidism.\n",
      "\n",
      "Vokes T(1).\n",
      "\n",
      "Author information: \n",
      "(1)The University of Chicago, Chicago, IL, United States. Electronic address:\n",
      "tvokes@medicine.bsd.uchicago.edu.\n",
      "\n",
      "Hypoparathyroidism is a rare endocrine disorder where deficiency (or lack of\n",
      "effect) of parathyroid hormone results in disordered mineral metabolism leading\n",
      "to hypocalcemia and hyperphosphatemia. Many patients with this disorder have\n",
      "physical, emotional and cognitive complaints suggestive of impaired quality of\n",
      "life (QOL). Several recent studies have demonstrated that hypoparathyroid\n",
      "patients treated with calcium and vitamin D (conventional therapy) have reduced\n",
      "QOL compared to either suitable controls or general population. QOL has also been\n",
      "studied during treatment with PTH1-84, which has been FDA approved in the USA as \n",
      "an adjunct to calcium and vitamin D in patients not adequately controlled on\n",
      "conventional therapy. In open label studies, PTH therapy has resulted in dramatic\n",
      "improvements in SF-36 scores. In placebo-controlled, double-blinded studies the\n",
      "effect of PTH on QOL has been less striking. In one such study there was no\n",
      "improvement, possibly due to high incidence of hypercalcemia in the PTH-treated\n",
      "group. In contrast, in the pivotal trial leading to PTH1-84 approval, were\n",
      "hypercalcemia was less common, SF36 scores improved in the PTH-treated but not in\n",
      "the placebo group although between-group differences were not statistically\n",
      "significant. In the same study, patients who started with lower baseline QOL\n",
      "scores had greater improvements, suggesting that patients with poor wellbeing may\n",
      "be particularly suitable for this new therapy. In the future, it will be\n",
      "necessary to develop disease specific instruments to better define the nature of \n",
      "QOL impairments in this disease. In addition, further studies should focus on the\n",
      "possible relationship between biochemical variables and QOL parameters during\n",
      "treatment with different regimens.\n",
      "\n",
      "Copyright Â© 2018. Published by Elsevier Inc.\n",
      "\n",
      "DOI: 10.1016/j.bone.2018.09.017 \n",
      "PMID: 30261328 \n",
      "\n",
      "\n",
      "2. Neurosci Lett. 2018 Sep 24. pii: S0304-3940(18)30650-5. doi:\n",
      "10.1016/j.neulet.2018.09.046. [Epub ahead of print]\n",
      "\n",
      "Vitamin D status and its association with season, depression in stroke.\n",
      "\n",
      "Gu Y(1), Zhu Z(2), Luan X(2), He J(3).\n",
      "\n",
      "Author information: \n",
      "(1)Department of Psychiatry, the First Affiliated Hospital of Wenzhou Medical\n",
      "University, Wenzhou 325000, Zhejiang Province, China.\n",
      "(2)Department of Neurology, the First Affiliated Hospital of Wenzhou Medical\n",
      "University, Wenzhou 325000, Zhejiang Province, China.\n",
      "(3)Department of Neurology, the First Affiliated Hospital of Wenzhou Medical\n",
      "University, Wenzhou 325000, Zhejiang Province, China. Electronic address:\n",
      "hjc@wmu.edu.cn.\n",
      "\n",
      "BACKGROUND: Vitamin D plays a key role in depression. In this study, we aimed to \n",
      "assess the prevalence of vitamin D deficiency or insufficiency and the\n",
      "association between vitamin D status and depression in patients with acute\n",
      "stroke.\n",
      "METHODS: From September 2013 to May 2015, consecutive patients with acute stroke \n",
      "were enrolled in this study within 7 days of symptom onset. Clinical information \n",
      "was collected during admission, and stroke severity was assessed at discharge.\n",
      "Depressive symptoms were measured by the 17-item Hamilton Rating Scale for\n",
      "Depression at 1 month after stroke. Based on the depressive symptoms, diagnoses\n",
      "of depression were made in accordance with DSM-IV criteria. Serum vitamin D\n",
      "levels were measured at admission. Binary logistic regression models were used to\n",
      "determine the association between depression and vitamin D levels treated as\n",
      "either absolute values (categorized as deficiency, insufficiency and sufficiency)\n",
      "or month-specific tertiles. Vitamin D levels were categorized by month-specific\n",
      "tertiles (high, intermediate, low) to reflect seasonal variation of serum vitamin\n",
      "D levels.\n",
      "RESULTS: A total of 442 patients were enrolled in this study. The prevalence of\n",
      "vitamin D deficiency (< 30ânmol/L) or insufficiency (30-49.99ânmol/L) was 46%.\n",
      "The prevalence of vitamin D deficiency was significantly different in winter\n",
      "compared to summer months (p < 0.001). One hundred seven patients (26.6%) were\n",
      "diagnosed with depression at 1 month. In multivariable analyses, after fully\n",
      "adjusting for other potential confounders, the prevalence of depression was\n",
      "significantly higher in patients in the low tertile (odds ratio(OR) 2.24, 95%\n",
      "confidence interval (CI)1.18 to 4.26; p = 0.014) compared to the high tertile,\n",
      "and the prevalence of depression was also significantly higher in patients with\n",
      "vitamin D deficiency (OR 2.66, 95% CI 1.48 to 4.77; p = 0.001) and insufficiency \n",
      "(OR 1.93, 95% CI 1.00 to 3.74; p = 0.049) compared to those with vitamin D\n",
      "sufficiency.\n",
      "CONCLUSIONS: Vitamin D deficiency and insufficiency occur at high rates in acute \n",
      "stroke patients. Low serum vitamin D levels were associated with depression in\n",
      "patients with acute stroke as analyzed by both the absolute level of vitamin D\n",
      "and month-specific tertiles. Intervention studies are needed to determine the\n",
      "benefits of vitamin D supplementation for depression in poststroke patients.\n",
      "\n",
      "Copyright Â© 2018. Published by Elsevier B.V.\n",
      "\n",
      "DOI: 10.1016/j.neulet.2018.09.046 \n",
      "PMID: 30261231 \n",
      "\n",
      "\n",
      "3. Antivir Ther. 2018 Sep 27. doi: 10.3851/IMP3269. [Epub ahead of print]\n",
      "\n",
      "Tenofovir disoproxil fumarate appears to disrupt the relationship of vitamin D\n",
      "and parathyroid hormone.\n",
      "\n",
      "Havens PL(1), Long D(2), Schuster GU(3), Gordon CM(4), Price G(5), Wilson CM(6), \n",
      "Kapogiannis BG(7), Mulligan K(8), Stephensen CB(9); Adolescent Medicine Trials\n",
      "Network for HIV/AIDS Interventions (ATN) 117 and 109 study teams.\n",
      "\n",
      "Author information: \n",
      "(1)Department of Pediatrics, Medical College of Wisconsin/Children's Hospital of \n",
      "Wisconsin, Milwaukee, WI, USA.\n",
      "(2)Department of Biostatistics, University of Alabama at Birmingham, Birmingham, \n",
      "AL, USA.\n",
      "(3)Department of Nutrition, University of California-Davis, Davis, CA, USA.\n",
      "(4)Department of Pediatrics, University of Cincinnati College of\n",
      "Medicine/Cincinnati Children's Hospital Medical Center, Cincinnati, OH, USA.\n",
      "(5)Westat, Rockville, MD, USA.\n",
      "(6)Department of Epidemiology, University of Alabama at Birmingham, Birmingham,\n",
      "AL, USA.\n",
      "(7)Maternal and Pediatric Infectious Disease Branch, Eunice Kennedy Shriver\n",
      "National Institute of Child Health and Human Development, Bethesda, MD, USA.\n",
      "(8)Department of Medicine, Division of Endocrinology, Zuckerberg San Francisco\n",
      "General Hospital, University of California, San Francisco, San Francisco, CA,\n",
      "USA.\n",
      "(9)USDA, Agricultural Research Service, Western Human Nutrition Research Center, \n",
      "Davis, CA, USA.\n",
      "\n",
      "BACKGROUND: Tenofovir disoproxil fumarate (TDF) increases serum parathyroid\n",
      "hormone (PTH) and 1,25 dihydroxy vitamin D (1,25-(OH)2D), and decreases bone\n",
      "mineral density (BMD). Optimal treatment of TDF-associated BMD loss requires an\n",
      "understanding of the primary cause of these abnormalities.\n",
      "METHODS: Secondary review of data from two studies of TDF use in youth, comparing\n",
      "the relationship of PTH, 25-hydroxy vitamin D (25-OHD), and 1,25-(OH)2D in 3\n",
      "groups with varying exposures to TDF: Youth without HIV enrolled in a trial of\n",
      "TDF/emtricitabine (FTC) for HIV pre-exposure prophylaxis (PrEP) at baseline (no\n",
      "TDF exposure) and after 12 weeks of TDF (short-term TDF exposure); and youth with\n",
      "HIV treated with TDF-containing combination antiretroviral therapy (cART) for at \n",
      "least 6 months at study entry (long-term TDF exposure). Relationships were\n",
      "evaluated by correlation analyses.\n",
      "RESULTS: Participants ranged in age from 17-24 years and >50% were Black/African \n",
      "American. In persons not treated with TDF, PTH had the physiologically\n",
      "appropriate negative correlation with 25-OHD (r= -.3504, P=0.004). Correlations\n",
      "between PTH and 25-OHD in groups treated with TDF were weaker or absent. With\n",
      "longer-term TDF treatment in persons with HIV, 25-OHD and 1,25-(OH)2D had the\n",
      "positive correlation similar to that found in vitamin D deficiency.\n",
      "CONCLUSIONS: TDF changes the relationship of 25-OHD to PTH, suggesting that in\n",
      "persons using TDF for PrEP or cART, a higher than usual target for serum 25-OHD\n",
      "concentration might be needed to reduce PTH and optimize bone health.\n",
      "\n",
      "DOI: 10.3851/IMP3269 \n",
      "PMID: 302607\n"
     ]
    }
   ],
   "source": [
    "with open('../data/pubmed_result.txt', 'r', encoding=\"latin1\") as myfile:\n",
    "    data = myfile.read()\n",
    "\n",
    "test_slice = data[:8331]\n",
    "print(test_slice)"
   ]
  },
  {
   "cell_type": "code",
   "execution_count": 4,
   "metadata": {},
   "outputs": [],
   "source": [
    "df = pd.read_csv('../data/labelled_data.csv', low_memory=False, index_col=0)"
   ]
  },
  {
   "cell_type": "code",
   "execution_count": 57,
   "metadata": {},
   "outputs": [
    {
     "data": {
      "text/html": [
       "<div>\n",
       "<style scoped>\n",
       "    .dataframe tbody tr th:only-of-type {\n",
       "        vertical-align: middle;\n",
       "    }\n",
       "\n",
       "    .dataframe tbody tr th {\n",
       "        vertical-align: top;\n",
       "    }\n",
       "\n",
       "    .dataframe thead th {\n",
       "        text-align: right;\n",
       "    }\n",
       "</style>\n",
       "<table border=\"1\" class=\"dataframe\">\n",
       "  <thead>\n",
       "    <tr style=\"text-align: right;\">\n",
       "      <th></th>\n",
       "      <th>abstract</th>\n",
       "      <th>PMID</th>\n",
       "      <th>year</th>\n",
       "      <th>journal</th>\n",
       "      <th>title</th>\n",
       "      <th>author</th>\n",
       "      <th>prof</th>\n",
       "      <th>blood</th>\n",
       "      <th>dosage</th>\n",
       "      <th>clean_abstracts</th>\n",
       "      <th>significant</th>\n",
       "    </tr>\n",
       "  </thead>\n",
       "  <tbody>\n",
       "    <tr>\n",
       "      <th>0</th>\n",
       "      <td>quality life hypoparathyroidism vokes author i...</td>\n",
       "      <td>30261328</td>\n",
       "      <td>2018.0</td>\n",
       "      <td>Bone</td>\n",
       "      <td>Quality of life in hypoparathyroidism</td>\n",
       "      <td>VokesT</td>\n",
       "      <td>VokesT</td>\n",
       "      <td>0.0</td>\n",
       "      <td>0.0</td>\n",
       "      <td>Hypoparathyroidism is a rare endocrine disorde...</td>\n",
       "      <td>no</td>\n",
       "    </tr>\n",
       "    <tr>\n",
       "      <th>1</th>\n",
       "      <td>vitamind status and its association with seaso...</td>\n",
       "      <td>30261231</td>\n",
       "      <td>2018.0</td>\n",
       "      <td>Neurosci Lett</td>\n",
       "      <td>Vitamin D status and its association with seas...</td>\n",
       "      <td>GuY ZhuZ LuanX HeJ</td>\n",
       "      <td>HeJ</td>\n",
       "      <td>1.0</td>\n",
       "      <td>0.0</td>\n",
       "      <td>BACKGROUND: Vitamin D plays a key role in depr...</td>\n",
       "      <td>yes</td>\n",
       "    </tr>\n",
       "    <tr>\n",
       "      <th>2</th>\n",
       "      <td>vitamind levels active tuberculosis latent tub...</td>\n",
       "      <td>30260729</td>\n",
       "      <td>2018.0</td>\n",
       "      <td>Fetal Pediatr Pathol</td>\n",
       "      <td>Vitamin D Levels in Active TB Latent TB Non-TB...</td>\n",
       "      <td>BuonsensoD SaliM PataD MasielloE SalernoG Cecc...</td>\n",
       "      <td>ValentiniP</td>\n",
       "      <td>0.0</td>\n",
       "      <td>0.0</td>\n",
       "      <td>BACKGROUND: Growing evidence suggests that vit...</td>\n",
       "      <td>yes</td>\n",
       "    </tr>\n",
       "    <tr>\n",
       "      <th>3</th>\n",
       "      <td>correlation vitamind binding protein gene poly...</td>\n",
       "      <td>30259785</td>\n",
       "      <td>2018.0</td>\n",
       "      <td>Per Med</td>\n",
       "      <td>Correlation of vitamin D binding protein gene ...</td>\n",
       "      <td>ChuaychooB TungtrongchitrR KriengsinyosW Tunti...</td>\n",
       "      <td>ChupeerachC</td>\n",
       "      <td>0.0</td>\n",
       "      <td>0.0</td>\n",
       "      <td>AIM: The risk of vitamin D binding protein (DB...</td>\n",
       "      <td>both</td>\n",
       "    </tr>\n",
       "    <tr>\n",
       "      <th>4</th>\n",
       "      <td>vitamind status including epicalcitriol among ...</td>\n",
       "      <td>30259504</td>\n",
       "      <td>2018.0</td>\n",
       "      <td>Endokrynol Pol</td>\n",
       "      <td>Vitamin D status including 3-epi-25OHD3 among ...</td>\n",
       "      <td>KmieP MinkiewiczI SworczakK mijewskiMA KowalskiK</td>\n",
       "      <td>KowalskiK</td>\n",
       "      <td>1.0</td>\n",
       "      <td>0.0</td>\n",
       "      <td>INTRODUCTION: In the context of pleiotropic vi...</td>\n",
       "      <td>yes</td>\n",
       "    </tr>\n",
       "  </tbody>\n",
       "</table>\n",
       "</div>"
      ],
      "text/plain": [
       "                                            abstract      PMID    year  \\\n",
       "0  quality life hypoparathyroidism vokes author i...  30261328  2018.0   \n",
       "1  vitamind status and its association with seaso...  30261231  2018.0   \n",
       "2  vitamind levels active tuberculosis latent tub...  30260729  2018.0   \n",
       "3  correlation vitamind binding protein gene poly...  30259785  2018.0   \n",
       "4  vitamind status including epicalcitriol among ...  30259504  2018.0   \n",
       "\n",
       "                journal                                              title  \\\n",
       "0                  Bone              Quality of life in hypoparathyroidism   \n",
       "1         Neurosci Lett  Vitamin D status and its association with seas...   \n",
       "2  Fetal Pediatr Pathol  Vitamin D Levels in Active TB Latent TB Non-TB...   \n",
       "3               Per Med  Correlation of vitamin D binding protein gene ...   \n",
       "4        Endokrynol Pol  Vitamin D status including 3-epi-25OHD3 among ...   \n",
       "\n",
       "                                              author         prof  blood  \\\n",
       "0                                             VokesT       VokesT    0.0   \n",
       "1                                 GuY ZhuZ LuanX HeJ          HeJ    1.0   \n",
       "2  BuonsensoD SaliM PataD MasielloE SalernoG Cecc...   ValentiniP    0.0   \n",
       "3  ChuaychooB TungtrongchitrR KriengsinyosW Tunti...  ChupeerachC    0.0   \n",
       "4   KmieP MinkiewiczI SworczakK mijewskiMA KowalskiK    KowalskiK    1.0   \n",
       "\n",
       "   dosage                                    clean_abstracts significant  \n",
       "0     0.0  Hypoparathyroidism is a rare endocrine disorde...          no  \n",
       "1     0.0  BACKGROUND: Vitamin D plays a key role in depr...         yes  \n",
       "2     0.0  BACKGROUND: Growing evidence suggests that vit...         yes  \n",
       "3     0.0  AIM: The risk of vitamin D binding protein (DB...        both  \n",
       "4     0.0  INTRODUCTION: In the context of pleiotropic vi...         yes  "
      ]
     },
     "execution_count": 57,
     "metadata": {},
     "output_type": "execute_result"
    }
   ],
   "source": [
    "df.head()"
   ]
  },
  {
   "cell_type": "markdown",
   "metadata": {},
   "source": [
    "### Number of publications over the years"
   ]
  },
  {
   "cell_type": "code",
   "execution_count": 6,
   "metadata": {},
   "outputs": [
    {
     "data": {
      "image/png": "[encoded data removed]",
      "text/plain": [
       "<Figure size 864x576 with 1 Axes>"
      ]
     },
     "metadata": {
      "needs_background": "light"
     },
     "output_type": "display_data"
    }
   ],
   "source": [
    "abstracts_year = df.groupby('year').count().reset_index()\n",
    "plt.figure(figsize=(12,8))\n",
    "plt.bar(abstracts_year['year'], abstracts_year['abstract'], color='b')\n",
    "plt.xlabel('year')\n",
    "plt.ylabel('number of abstracts')\n",
    "plt.show()"
   ]
  },
  {
   "cell_type": "markdown",
   "metadata": {},
   "source": [
    "The amount of publications on the subject of vitamin D. The interest has continously inscread sinde the 60s and basically exploded at around 2010."
   ]
  },
  {
   "cell_type": "markdown",
   "metadata": {},
   "source": [
    "### Length of abstracts"
   ]
  },
  {
   "cell_type": "code",
   "execution_count": 7,
   "metadata": {},
   "outputs": [
    {
     "data": {
      "image/png": "[encoded data removed]",
      "text/plain": [
       "<Figure size 1440x576 with 1 Axes>"
      ]
     },
     "metadata": {
      "needs_background": "light"
     },
     "output_type": "display_data"
    }
   ],
   "source": [
    "len_abstracts = df.clean_abstracts.str.len()\n",
    "\n",
    "plt.figure(figsize=(20,8))\n",
    "len_abstracts.hist(bins=1000, color='m')\n",
    "plt.xlim(0,3500)\n",
    "plt.xlabel('length of abstract')\n",
    "plt.ylabel('number of abstracts')\n",
    "plt.show()"
   ]
  },
  {
   "cell_type": "markdown",
   "metadata": {},
   "source": [
    "There is an unexpected peak in the beginning. This due to the fact that very old abstracts are only indexed for reference and do not contain text."
   ]
  },
  {
   "cell_type": "code",
   "execution_count": 8,
   "metadata": {},
   "outputs": [],
   "source": [
    "df_len_abstracts = pd.DataFrame()\n",
    "df_len_abstracts['year'] = df.year\n",
    "df_len_abstracts['len'] = len_abstracts"
   ]
  },
  {
   "cell_type": "code",
   "execution_count": 9,
   "metadata": {},
   "outputs": [],
   "source": [
    "year_len = pd.DataFrame(df_len_abstracts.groupby('year')['len'].mean())"
   ]
  },
  {
   "cell_type": "code",
   "execution_count": 10,
   "metadata": {},
   "outputs": [
    {
     "data": {
      "image/png": "[encoded data removed]",
      "text/plain": [
       "<Figure size 720x360 with 1 Axes>"
      ]
     },
     "metadata": {
      "needs_background": "light"
     },
     "output_type": "display_data"
    }
   ],
   "source": [
    "plt.figure(figsize=(10,5))\n",
    "plt.bar(year_len.index, year_len['len'], color='c')\n",
    "plt.xlabel('year')\n",
    "plt.ylabel('mean length of abstracts')\n",
    "plt.show()"
   ]
  },
  {
   "cell_type": "markdown",
   "metadata": {},
   "source": [
    "At around 1975 abstracts are not just indexed but actually contain text."
   ]
  },
  {
   "cell_type": "markdown",
   "metadata": {},
   "source": [
    "### Length distribution of PMID"
   ]
  },
  {
   "cell_type": "code",
   "execution_count": 11,
   "metadata": {},
   "outputs": [],
   "source": [
    "df['PMID'] = df.PMID.apply(lambda x: str(x))\n",
    "\n",
    "len_PMID = pd.DataFrame()\n",
    "len_PMID['abstract'] = df.abstract\n",
    "len_PMID['len'] = df.PMID.str.len()\n",
    "\n",
    "len_PMID_group = len_PMID.groupby('len').count().reset_index()"
   ]
  },
  {
   "cell_type": "code",
   "execution_count": 12,
   "metadata": {},
   "outputs": [
    {
     "data": {
      "image/png": "[encoded data removed]",
      "text/plain": [
       "<Figure size 432x288 with 1 Axes>"
      ]
     },
     "metadata": {
      "needs_background": "light"
     },
     "output_type": "display_data"
    }
   ],
   "source": [
    "plt.bar(len_PMID_group['len'], len_PMID_group['abstract'], color='y')\n",
    "plt.xlabel('length of PMID')\n",
    "plt.ylabel('number of abstracts')\n",
    "plt.show()"
   ]
  },
  {
   "cell_type": "markdown",
   "metadata": {},
   "source": [
    "The PMID legnth ranges between 3 and 8 digits. Most abstracts have a PMID with a length of 8 digits."
   ]
  },
  {
   "cell_type": "markdown",
   "metadata": {},
   "source": [
    "### Is there a relationship between year of publication and length of PMID?\n",
    "E.g. was the PMID shorter in the beginning?"
   ]
  },
  {
   "cell_type": "code",
   "execution_count": 13,
   "metadata": {},
   "outputs": [
    {
     "data": {
      "image/png": "[encoded data removed]",
      "text/plain": [
       "<Figure size 1440x360 with 1 Axes>"
      ]
     },
     "metadata": {
      "needs_background": "light"
     },
     "output_type": "display_data"
    }
   ],
   "source": [
    "plt.figure(figsize=(20,5))\n",
    "plt.scatter(df['year'],len_PMID.len, c='g')\n",
    "plt.xlabel('year')\n",
    "plt.ylabel('length of PMID')\n",
    "plt.show()"
   ]
  },
  {
   "cell_type": "markdown",
   "metadata": {},
   "source": [
    "There is no relationship between length of PMID and year of publication. Most abstracts have a PMID of 8 digits, and those abstracts are equally spaced between the years."
   ]
  },
  {
   "cell_type": "markdown",
   "metadata": {},
   "source": [
    "### Does the number of authors increase with time?"
   ]
  },
  {
   "cell_type": "code",
   "execution_count": 14,
   "metadata": {},
   "outputs": [
    {
     "name": "stderr",
     "output_type": "stream",
     "text": [
      "C:\\Users\\Kaddi\\Anaconda3\\lib\\site-packages\\ipykernel_launcher.py:1: UserWarning: This pattern has match groups. To actually get the groups, use str.extract.\n",
      "  \"\"\"Entry point for launching an IPython kernel.\n"
     ]
    }
   ],
   "source": [
    "number_authors = df[df['author'].str.contains('NaN|(no authors listed)') == False]"
   ]
  },
  {
   "cell_type": "code",
   "execution_count": 15,
   "metadata": {},
   "outputs": [],
   "source": [
    "number_authors['author_count'] = number_authors.author.str.count(' ')"
   ]
  },
  {
   "cell_type": "code",
   "execution_count": 16,
   "metadata": {},
   "outputs": [],
   "source": [
    "number_authors['author_count'] = number_authors['author_count'].apply(lambda x: x + 1)"
   ]
  },
  {
   "cell_type": "code",
   "execution_count": 17,
   "metadata": {},
   "outputs": [
    {
     "data": {
      "image/png": "[encoded data removed]",
      "text/plain": [
       "<Figure size 1440x360 with 1 Axes>"
      ]
     },
     "metadata": {
      "needs_background": "light"
     },
     "output_type": "display_data"
    }
   ],
   "source": [
    "plt.figure(figsize=(20,5))\n",
    "plt.scatter(number_authors['year'], number_authors['author_count'], color='r')\n",
    "plt.xlabel('year')\n",
    "plt.ylabel('number of authors')\n",
    "plt.show()"
   ]
  },
  {
   "cell_type": "markdown",
   "metadata": {},
   "source": [
    "The number of author a publication has gradually increased over the years. This is expected, since sience is becoming ever more complicated."
   ]
  },
  {
   "cell_type": "markdown",
   "metadata": {},
   "source": [
    "### Top 15 Journals"
   ]
  },
  {
   "cell_type": "code",
   "execution_count": 18,
   "metadata": {},
   "outputs": [
    {
     "data": {
      "text/html": [
       "<div>\n",
       "<style scoped>\n",
       "    .dataframe tbody tr th:only-of-type {\n",
       "        vertical-align: middle;\n",
       "    }\n",
       "\n",
       "    .dataframe tbody tr th {\n",
       "        vertical-align: top;\n",
       "    }\n",
       "\n",
       "    .dataframe thead th {\n",
       "        text-align: right;\n",
       "    }\n",
       "</style>\n",
       "<table border=\"1\" class=\"dataframe\">\n",
       "  <thead>\n",
       "    <tr style=\"text-align: right;\">\n",
       "      <th></th>\n",
       "      <th>abstract</th>\n",
       "    </tr>\n",
       "    <tr>\n",
       "      <th>journal</th>\n",
       "      <th></th>\n",
       "    </tr>\n",
       "  </thead>\n",
       "  <tbody>\n",
       "    <tr>\n",
       "      <th>J Steroid Biochem Mol Biol</th>\n",
       "      <td>1071</td>\n",
       "    </tr>\n",
       "    <tr>\n",
       "      <th>J Clin Endocrinol Metab</th>\n",
       "      <td>1037</td>\n",
       "    </tr>\n",
       "    <tr>\n",
       "      <th>J Bone Miner Res</th>\n",
       "      <td>866</td>\n",
       "    </tr>\n",
       "    <tr>\n",
       "      <th>PLoS One</th>\n",
       "      <td>780</td>\n",
       "    </tr>\n",
       "    <tr>\n",
       "      <th>Endocrinology</th>\n",
       "      <td>736</td>\n",
       "    </tr>\n",
       "    <tr>\n",
       "      <th>Osteoporos Int</th>\n",
       "      <td>676</td>\n",
       "    </tr>\n",
       "    <tr>\n",
       "      <th>Calcif Tissue Int</th>\n",
       "      <td>671</td>\n",
       "    </tr>\n",
       "    <tr>\n",
       "      <th>Bone</th>\n",
       "      <td>565</td>\n",
       "    </tr>\n",
       "    <tr>\n",
       "      <th>Am J Clin Nutr</th>\n",
       "      <td>560</td>\n",
       "    </tr>\n",
       "    <tr>\n",
       "      <th>J Biol Chem</th>\n",
       "      <td>529</td>\n",
       "    </tr>\n",
       "    <tr>\n",
       "      <th>J Nutr</th>\n",
       "      <td>423</td>\n",
       "    </tr>\n",
       "    <tr>\n",
       "      <th>Biochem Biophys Res Commun</th>\n",
       "      <td>416</td>\n",
       "    </tr>\n",
       "    <tr>\n",
       "      <th>Nutrients</th>\n",
       "      <td>410</td>\n",
       "    </tr>\n",
       "    <tr>\n",
       "      <th>Kidney Int</th>\n",
       "      <td>358</td>\n",
       "    </tr>\n",
       "    <tr>\n",
       "      <th>Am J Physiol</th>\n",
       "      <td>318</td>\n",
       "    </tr>\n",
       "  </tbody>\n",
       "</table>\n",
       "</div>"
      ],
      "text/plain": [
       "                            abstract\n",
       "journal                             \n",
       "J Steroid Biochem Mol Biol      1071\n",
       "J Clin Endocrinol Metab         1037\n",
       "J Bone Miner Res                 866\n",
       "PLoS One                         780\n",
       "Endocrinology                    736\n",
       "Osteoporos Int                   676\n",
       "Calcif Tissue Int                671\n",
       "Bone                             565\n",
       "Am J Clin Nutr                   560\n",
       "J Biol Chem                      529\n",
       "J Nutr                           423\n",
       "Biochem Biophys Res Commun       416\n",
       "Nutrients                        410\n",
       "Kidney Int                       358\n",
       "Am J Physiol                     318"
      ]
     },
     "execution_count": 18,
     "metadata": {},
     "output_type": "execute_result"
    }
   ],
   "source": [
    "journal = df.groupby('journal').count().sort_values('abstract', ascending=False).iloc[:15,:1]\n",
    "journal"
   ]
  },
  {
   "cell_type": "markdown",
   "metadata": {},
   "source": [
    "### Who are the vitamin D experts?\n",
    "For determining the experts, the last author (usually the professor) is used."
   ]
  },
  {
   "cell_type": "code",
   "execution_count": 19,
   "metadata": {},
   "outputs": [],
   "source": [
    "df['prof'] = df.prof.str.replace('.', ' ', regex=False)\n",
    "df['prof'] = df.prof.str.strip()"
   ]
  },
  {
   "cell_type": "code",
   "execution_count": 20,
   "metadata": {},
   "outputs": [],
   "source": [
    "df_clean = df[df.prof.str.contains('etal') == False]\n",
    "signi = df_clean[df_clean.significant.str.contains('0.0') == False]\n",
    "no_signi = df_clean[df_clean.significant.str.contains('0.0') == True]"
   ]
  },
  {
   "cell_type": "code",
   "execution_count": 21,
   "metadata": {},
   "outputs": [],
   "source": [
    "prof_all = df_clean.groupby('prof').count().sort_values('abstract', ascending=False)\n",
    "prof_signi = signi.groupby('prof').count().sort_values('abstract', ascending=False)\n",
    "prof_no_signi = no_signi.groupby('prof').count().sort_values('abstract', ascending=False)"
   ]
  },
  {
   "cell_type": "markdown",
   "metadata": {},
   "source": [
    "#### The top 10 experts are:"
   ]
  },
  {
   "cell_type": "code",
   "execution_count": 22,
   "metadata": {},
   "outputs": [
    {
     "data": {
      "text/html": [
       "<div>\n",
       "<style scoped>\n",
       "    .dataframe tbody tr th:only-of-type {\n",
       "        vertical-align: middle;\n",
       "    }\n",
       "\n",
       "    .dataframe tbody tr th {\n",
       "        vertical-align: top;\n",
       "    }\n",
       "\n",
       "    .dataframe thead th {\n",
       "        text-align: right;\n",
       "    }\n",
       "</style>\n",
       "<table border=\"1\" class=\"dataframe\">\n",
       "  <thead>\n",
       "    <tr style=\"text-align: right;\">\n",
       "      <th></th>\n",
       "      <th>abstract</th>\n",
       "    </tr>\n",
       "    <tr>\n",
       "      <th>prof</th>\n",
       "      <th></th>\n",
       "    </tr>\n",
       "  </thead>\n",
       "  <tbody>\n",
       "    <tr>\n",
       "      <th>DeLucaHF</th>\n",
       "      <td>404</td>\n",
       "    </tr>\n",
       "    <tr>\n",
       "      <th>HolickMF</th>\n",
       "      <td>199</td>\n",
       "    </tr>\n",
       "    <tr>\n",
       "      <th>NormanAW</th>\n",
       "      <td>194</td>\n",
       "    </tr>\n",
       "    <tr>\n",
       "      <th>FeldmanD</th>\n",
       "      <td>117</td>\n",
       "    </tr>\n",
       "    <tr>\n",
       "      <th>SudaT</th>\n",
       "      <td>97</td>\n",
       "    </tr>\n",
       "    <tr>\n",
       "      <th>KumarR</th>\n",
       "      <td>96</td>\n",
       "    </tr>\n",
       "    <tr>\n",
       "      <th>BouillonR</th>\n",
       "      <td>95</td>\n",
       "    </tr>\n",
       "    <tr>\n",
       "      <th>CarlbergC</th>\n",
       "      <td>94</td>\n",
       "    </tr>\n",
       "    <tr>\n",
       "      <th>JonesG</th>\n",
       "      <td>83</td>\n",
       "    </tr>\n",
       "    <tr>\n",
       "      <th>StudzinskiGP</th>\n",
       "      <td>78</td>\n",
       "    </tr>\n",
       "  </tbody>\n",
       "</table>\n",
       "</div>"
      ],
      "text/plain": [
       "              abstract\n",
       "prof                  \n",
       "DeLucaHF           404\n",
       "HolickMF           199\n",
       "NormanAW           194\n",
       "FeldmanD           117\n",
       "SudaT               97\n",
       "KumarR              96\n",
       "BouillonR           95\n",
       "CarlbergC           94\n",
       "JonesG              83\n",
       "StudzinskiGP        78"
      ]
     },
     "metadata": {},
     "output_type": "display_data"
    },
    {
     "data": {
      "text/html": [
       "<div>\n",
       "<style scoped>\n",
       "    .dataframe tbody tr th:only-of-type {\n",
       "        vertical-align: middle;\n",
       "    }\n",
       "\n",
       "    .dataframe tbody tr th {\n",
       "        vertical-align: top;\n",
       "    }\n",
       "\n",
       "    .dataframe thead th {\n",
       "        text-align: right;\n",
       "    }\n",
       "</style>\n",
       "<table border=\"1\" class=\"dataframe\">\n",
       "  <thead>\n",
       "    <tr style=\"text-align: right;\">\n",
       "      <th></th>\n",
       "      <th>abstract</th>\n",
       "    </tr>\n",
       "    <tr>\n",
       "      <th>prof</th>\n",
       "      <th></th>\n",
       "    </tr>\n",
       "  </thead>\n",
       "  <tbody>\n",
       "    <tr>\n",
       "      <th>DeLucaHF</th>\n",
       "      <td>91</td>\n",
       "    </tr>\n",
       "    <tr>\n",
       "      <th>HolickMF</th>\n",
       "      <td>57</td>\n",
       "    </tr>\n",
       "    <tr>\n",
       "      <th>NormanAW</th>\n",
       "      <td>50</td>\n",
       "    </tr>\n",
       "    <tr>\n",
       "      <th>FeldmanD</th>\n",
       "      <td>36</td>\n",
       "    </tr>\n",
       "    <tr>\n",
       "      <th>SlatopolskyE</th>\n",
       "      <td>32</td>\n",
       "    </tr>\n",
       "    <tr>\n",
       "      <th>PakCY</th>\n",
       "      <td>31</td>\n",
       "    </tr>\n",
       "    <tr>\n",
       "      <th>AsemiZ</th>\n",
       "      <td>30</td>\n",
       "    </tr>\n",
       "    <tr>\n",
       "      <th>HollisBW</th>\n",
       "      <td>30</td>\n",
       "    </tr>\n",
       "    <tr>\n",
       "      <th>ReidIR</th>\n",
       "      <td>29</td>\n",
       "    </tr>\n",
       "    <tr>\n",
       "      <th>BouillonR</th>\n",
       "      <td>28</td>\n",
       "    </tr>\n",
       "  </tbody>\n",
       "</table>\n",
       "</div>"
      ],
      "text/plain": [
       "              abstract\n",
       "prof                  \n",
       "DeLucaHF            91\n",
       "HolickMF            57\n",
       "NormanAW            50\n",
       "FeldmanD            36\n",
       "SlatopolskyE        32\n",
       "PakCY               31\n",
       "AsemiZ              30\n",
       "HollisBW            30\n",
       "ReidIR              29\n",
       "BouillonR           28"
      ]
     },
     "metadata": {},
     "output_type": "display_data"
    },
    {
     "data": {
      "text/html": [
       "<div>\n",
       "<style scoped>\n",
       "    .dataframe tbody tr th:only-of-type {\n",
       "        vertical-align: middle;\n",
       "    }\n",
       "\n",
       "    .dataframe tbody tr th {\n",
       "        vertical-align: top;\n",
       "    }\n",
       "\n",
       "    .dataframe thead th {\n",
       "        text-align: right;\n",
       "    }\n",
       "</style>\n",
       "<table border=\"1\" class=\"dataframe\">\n",
       "  <thead>\n",
       "    <tr style=\"text-align: right;\">\n",
       "      <th></th>\n",
       "      <th>abstract</th>\n",
       "    </tr>\n",
       "    <tr>\n",
       "      <th>prof</th>\n",
       "      <th></th>\n",
       "    </tr>\n",
       "  </thead>\n",
       "  <tbody>\n",
       "    <tr>\n",
       "      <th>DeLucaHF</th>\n",
       "      <td>313</td>\n",
       "    </tr>\n",
       "    <tr>\n",
       "      <th>NormanAW</th>\n",
       "      <td>144</td>\n",
       "    </tr>\n",
       "    <tr>\n",
       "      <th>HolickMF</th>\n",
       "      <td>142</td>\n",
       "    </tr>\n",
       "    <tr>\n",
       "      <th>FeldmanD</th>\n",
       "      <td>81</td>\n",
       "    </tr>\n",
       "    <tr>\n",
       "      <th>SudaT</th>\n",
       "      <td>81</td>\n",
       "    </tr>\n",
       "    <tr>\n",
       "      <th>KumarR</th>\n",
       "      <td>74</td>\n",
       "    </tr>\n",
       "    <tr>\n",
       "      <th>CarlbergC</th>\n",
       "      <td>73</td>\n",
       "    </tr>\n",
       "    <tr>\n",
       "      <th>StudzinskiGP</th>\n",
       "      <td>72</td>\n",
       "    </tr>\n",
       "    <tr>\n",
       "      <th>BouillonR</th>\n",
       "      <td>67</td>\n",
       "    </tr>\n",
       "    <tr>\n",
       "      <th>JonesG</th>\n",
       "      <td>60</td>\n",
       "    </tr>\n",
       "  </tbody>\n",
       "</table>\n",
       "</div>"
      ],
      "text/plain": [
       "              abstract\n",
       "prof                  \n",
       "DeLucaHF           313\n",
       "NormanAW           144\n",
       "HolickMF           142\n",
       "FeldmanD            81\n",
       "SudaT               81\n",
       "KumarR              74\n",
       "CarlbergC           73\n",
       "StudzinskiGP        72\n",
       "BouillonR           67\n",
       "JonesG              60"
      ]
     },
     "metadata": {},
     "output_type": "display_data"
    }
   ],
   "source": [
    "display(prof_all.iloc[:10,:1])\n",
    "display(prof_signi.iloc[:10,:1])\n",
    "display(prof_no_signi.iloc[:10,:1])"
   ]
  },
  {
   "cell_type": "code",
   "execution_count": 23,
   "metadata": {},
   "outputs": [
    {
     "data": {
      "image/png": "[encoded data removed]",
      "text/plain": [
       "<Figure size 1440x288 with 3 Axes>"
      ]
     },
     "metadata": {
      "needs_background": "light"
     },
     "output_type": "display_data"
    }
   ],
   "source": [
    "plt.figure(figsize=(20,4))\n",
    "\n",
    "plt.subplot(1,3,1)\n",
    "x1 = plt.bar(prof_all.index[:10], prof_all['abstract'][:10])\n",
    "x1[0].set_color('r')\n",
    "x1[1].set_color('#f4a442')\n",
    "x1[2].set_color('#f4f141')\n",
    "x1[3].set_color('#9af441')\n",
    "x1[4].set_color('#37cc57')\n",
    "x1[5].set_color('#41f2d7')\n",
    "x1[6].set_color('#1fc7e0')\n",
    "x1[7].set_color('#1e6ce0')\n",
    "x1[8].set_color('#7348d6')\n",
    "x1[9].set_color('#cc5be5')\n",
    "plt.title('all abstracts')\n",
    "plt.xlabel('author')\n",
    "plt.ylabel('number of publications')\n",
    "plt.xticks(rotation=45)\n",
    "\n",
    "plt.subplot(1,3,2)\n",
    "x2= plt.bar(prof_signi.index[:10], prof_signi['abstract'][:10])\n",
    "x2[0].set_color('r')\n",
    "x2[1].set_color('#f4f141')\n",
    "x2[2].set_color('#f4a442')\n",
    "x2[3].set_color('#9af441')\n",
    "x2[4].set_color('k')\n",
    "x2[6].set_color('#5a5b5b')\n",
    "x2[7].set_color('#a3a3a3')\n",
    "x2[8].set_color('#d3d3d3')\n",
    "x2[9].set_color('#37cc57')\n",
    "plt.title('all (non-)significant abstract')\n",
    "plt.xlabel('author')\n",
    "plt.ylabel('number of publications')\n",
    "plt.xticks(rotation=45)\n",
    "\n",
    "plt.subplot(1,3,3)\n",
    "x3 = plt.bar(prof_no_signi.index[:10], prof_no_signi['abstract'][:10])\n",
    "x3[0].set_color('r')\n",
    "x3[1].set_color('#f4a442')\n",
    "x3[2].set_color('#f4f141')\n",
    "x3[3].set_color('#41f2d7')\n",
    "x3[4].set_color('#9af441')\n",
    "x3[5].set_color('#37cc57')\n",
    "x3[6].set_color('#1fc7e0')\n",
    "x3[7].set_color('#7348d6')\n",
    "x3[8].set_color('#ff8ef0')\n",
    "x3[9].set_color('#1e6ce0')\n",
    "plt.title('all non (non-)significant abstract')\n",
    "plt.xlabel('author')\n",
    "plt.ylabel('number of publications')\n",
    "plt.xticks(rotation=45)\n",
    "\n",
    "plt.show()"
   ]
  },
  {
   "cell_type": "markdown",
   "metadata": {},
   "source": [
    "### Who are the most proliferent authors?\n",
    "- the last authors are removed (usually the professor)\n",
    "- the top 10 vitamin D experts are removed"
   ]
  },
  {
   "cell_type": "code",
   "execution_count": 24,
   "metadata": {},
   "outputs": [],
   "source": [
    "no_prof = df.author.str.rsplit(' ', n=1).str.get(0)"
   ]
  },
  {
   "cell_type": "code",
   "execution_count": 25,
   "metadata": {},
   "outputs": [],
   "source": [
    "authors_only = pd.DataFrame()\n",
    "authors_only['authors'] = no_prof\n",
    "authors_only['authors'] = authors_only.authors.str.replace('DeLucaHF|NormanAW|HolickMF|FeldmanD|BouillonR|KumarR|\\\n",
    "SudaT|CarlbergC|JonesG|HausslerMR', 'None', regex=True)\n",
    "single_authors = authors_only.authors.str.split(' ', expand=True)"
   ]
  },
  {
   "cell_type": "code",
   "execution_count": 26,
   "metadata": {},
   "outputs": [],
   "source": [
    "authors = pd.DataFrame()\n",
    "\n",
    "for column in range(single_authors.shape[1]):\n",
    "    authors = pd.concat((authors,single_authors[column]), axis=0)"
   ]
  },
  {
   "cell_type": "code",
   "execution_count": 27,
   "metadata": {},
   "outputs": [],
   "source": [
    "authors = authors[authors[0].str.contains('None') == False]"
   ]
  },
  {
   "cell_type": "code",
   "execution_count": 28,
   "metadata": {},
   "outputs": [],
   "source": [
    "authors['count'] = np.zeros((len(authors),1))"
   ]
  },
  {
   "cell_type": "code",
   "execution_count": 29,
   "metadata": {},
   "outputs": [
    {
     "data": {
      "text/html": [
       "<div>\n",
       "<style scoped>\n",
       "    .dataframe tbody tr th:only-of-type {\n",
       "        vertical-align: middle;\n",
       "    }\n",
       "\n",
       "    .dataframe tbody tr th {\n",
       "        vertical-align: top;\n",
       "    }\n",
       "\n",
       "    .dataframe thead th {\n",
       "        text-align: right;\n",
       "    }\n",
       "</style>\n",
       "<table border=\"1\" class=\"dataframe\">\n",
       "  <thead>\n",
       "    <tr style=\"text-align: right;\">\n",
       "      <th></th>\n",
       "      <th>count</th>\n",
       "    </tr>\n",
       "    <tr>\n",
       "      <th>0</th>\n",
       "      <th></th>\n",
       "    </tr>\n",
       "  </thead>\n",
       "  <tbody>\n",
       "    <tr>\n",
       "      <th>HollisBW</th>\n",
       "      <td>194</td>\n",
       "    </tr>\n",
       "    <tr>\n",
       "      <th>HorstRL</th>\n",
       "      <td>151</td>\n",
       "    </tr>\n",
       "    <tr>\n",
       "      <th>WangX</th>\n",
       "      <td>149</td>\n",
       "    </tr>\n",
       "    <tr>\n",
       "      <th>WangY</th>\n",
       "      <td>140</td>\n",
       "    </tr>\n",
       "    <tr>\n",
       "      <th>ZhangY</th>\n",
       "      <td>129</td>\n",
       "    </tr>\n",
       "    <tr>\n",
       "      <th>WangJ</th>\n",
       "      <td>129</td>\n",
       "    </tr>\n",
       "    <tr>\n",
       "      <th>BikleDD</th>\n",
       "      <td>128</td>\n",
       "    </tr>\n",
       "    <tr>\n",
       "      <th>GrantWB</th>\n",
       "      <td>117</td>\n",
       "    </tr>\n",
       "    <tr>\n",
       "      <th>WangL</th>\n",
       "      <td>117</td>\n",
       "    </tr>\n",
       "    <tr>\n",
       "      <th>LipsP</th>\n",
       "      <td>114</td>\n",
       "    </tr>\n",
       "  </tbody>\n",
       "</table>\n",
       "</div>"
      ],
      "text/plain": [
       "          count\n",
       "0              \n",
       "HollisBW    194\n",
       "HorstRL     151\n",
       "WangX       149\n",
       "WangY       140\n",
       "ZhangY      129\n",
       "WangJ       129\n",
       "BikleDD     128\n",
       "GrantWB     117\n",
       "WangL       117\n",
       "LipsP       114"
      ]
     },
     "execution_count": 29,
     "metadata": {},
     "output_type": "execute_result"
    }
   ],
   "source": [
    "prolif_author = authors.groupby(0).count().sort_values('count',ascending=False)[:10]\n",
    "prolif_author"
   ]
  },
  {
   "cell_type": "code",
   "execution_count": 30,
   "metadata": {},
   "outputs": [
    {
     "data": {
      "image/png": "[encoded data removed]",
      "text/plain": [
       "<Figure size 432x288 with 1 Axes>"
      ]
     },
     "metadata": {
      "needs_background": "light"
     },
     "output_type": "display_data"
    }
   ],
   "source": [
    "sns.barplot(prolif_author.index, y = prolif_author['count'], data = prolif_author, palette='hsv')\n",
    "plt.xlabel('author')\n",
    "plt.ylabel('number of publications')\n",
    "plt.xticks(rotation=45)\n",
    "plt.show()"
   ]
  },
  {
   "cell_type": "markdown",
   "metadata": {},
   "source": [
    "### In which journals do the experts prefer to publish?"
   ]
  },
  {
   "cell_type": "code",
   "execution_count": 31,
   "metadata": {},
   "outputs": [],
   "source": [
    "prof_10 = df[df.prof.str.contains('DeLucaHF|NormanAW|HolickMF|FeldmanD|BouillonR|KumarR|SudaT|CarlbergC|JonesG\\\n",
    "|HausslerMR') == True]"
   ]
  },
  {
   "cell_type": "code",
   "execution_count": 32,
   "metadata": {},
   "outputs": [],
   "source": [
    "prof_10_journal = prof_10.groupby('journal').count().sort_values('abstract', ascending=False).iloc[:15,:1]\n",
    "prof_10_journal['Top 15 Journal'] = np.zeros((len(prof_10_journal),1))"
   ]
  },
  {
   "cell_type": "code",
   "execution_count": 33,
   "metadata": {},
   "outputs": [],
   "source": [
    "same = 0\n",
    "\n",
    "for entry in range(len(journal.index)):\n",
    "    if prof_10_journal.index[entry] in journal.index:\n",
    "        same += 1\n",
    "    prof_10_journal.loc[prof_10_journal.index[entry], 'Top 15 Journal'] = prof_10_journal.index[entry] in journal.index"
   ]
  },
  {
   "cell_type": "code",
   "execution_count": 34,
   "metadata": {},
   "outputs": [
    {
     "data": {
      "text/html": [
       "<div>\n",
       "<style scoped>\n",
       "    .dataframe tbody tr th:only-of-type {\n",
       "        vertical-align: middle;\n",
       "    }\n",
       "\n",
       "    .dataframe tbody tr th {\n",
       "        vertical-align: top;\n",
       "    }\n",
       "\n",
       "    .dataframe thead th {\n",
       "        text-align: right;\n",
       "    }\n",
       "</style>\n",
       "<table border=\"1\" class=\"dataframe\">\n",
       "  <thead>\n",
       "    <tr style=\"text-align: right;\">\n",
       "      <th></th>\n",
       "      <th>abstract</th>\n",
       "      <th>Top 15 Journal</th>\n",
       "    </tr>\n",
       "    <tr>\n",
       "      <th>journal</th>\n",
       "      <th></th>\n",
       "      <th></th>\n",
       "    </tr>\n",
       "  </thead>\n",
       "  <tbody>\n",
       "    <tr>\n",
       "      <th>J Biol Chem</th>\n",
       "      <td>97</td>\n",
       "      <td>True</td>\n",
       "    </tr>\n",
       "    <tr>\n",
       "      <th>Endocrinology</th>\n",
       "      <td>88</td>\n",
       "      <td>True</td>\n",
       "    </tr>\n",
       "    <tr>\n",
       "      <th>Proc Natl Acad Sci U S A</th>\n",
       "      <td>73</td>\n",
       "      <td>False</td>\n",
       "    </tr>\n",
       "    <tr>\n",
       "      <th>Arch Biochem Biophys</th>\n",
       "      <td>68</td>\n",
       "      <td>False</td>\n",
       "    </tr>\n",
       "    <tr>\n",
       "      <th>J Steroid Biochem Mol Biol</th>\n",
       "      <td>63</td>\n",
       "      <td>True</td>\n",
       "    </tr>\n",
       "    <tr>\n",
       "      <th>Biochem Biophys Res Commun</th>\n",
       "      <td>54</td>\n",
       "      <td>True</td>\n",
       "    </tr>\n",
       "    <tr>\n",
       "      <th>J Bone Miner Res</th>\n",
       "      <td>48</td>\n",
       "      <td>True</td>\n",
       "    </tr>\n",
       "    <tr>\n",
       "      <th>Biochemistry</th>\n",
       "      <td>38</td>\n",
       "      <td>False</td>\n",
       "    </tr>\n",
       "    <tr>\n",
       "      <th>J Clin Endocrinol Metab</th>\n",
       "      <td>38</td>\n",
       "      <td>True</td>\n",
       "    </tr>\n",
       "    <tr>\n",
       "      <th>Am J Physiol</th>\n",
       "      <td>35</td>\n",
       "      <td>True</td>\n",
       "    </tr>\n",
       "    <tr>\n",
       "      <th>J Cell Biochem</th>\n",
       "      <td>34</td>\n",
       "      <td>False</td>\n",
       "    </tr>\n",
       "    <tr>\n",
       "      <th>J Nutr</th>\n",
       "      <td>30</td>\n",
       "      <td>True</td>\n",
       "    </tr>\n",
       "    <tr>\n",
       "      <th>J Clin Invest</th>\n",
       "      <td>26</td>\n",
       "      <td>False</td>\n",
       "    </tr>\n",
       "    <tr>\n",
       "      <th>Science</th>\n",
       "      <td>25</td>\n",
       "      <td>False</td>\n",
       "    </tr>\n",
       "    <tr>\n",
       "      <th>Mol Cell Endocrinol</th>\n",
       "      <td>23</td>\n",
       "      <td>False</td>\n",
       "    </tr>\n",
       "  </tbody>\n",
       "</table>\n",
       "</div>"
      ],
      "text/plain": [
       "                            abstract  Top 15 Journal\n",
       "journal                                             \n",
       "J Biol Chem                       97            True\n",
       "Endocrinology                     88            True\n",
       "Proc Natl Acad Sci U S A          73           False\n",
       "Arch Biochem Biophys              68           False\n",
       "J Steroid Biochem Mol Biol        63            True\n",
       "Biochem Biophys Res Commun        54            True\n",
       "J Bone Miner Res                  48            True\n",
       "Biochemistry                      38           False\n",
       "J Clin Endocrinol Metab           38            True\n",
       "Am J Physiol                      35            True\n",
       "J Cell Biochem                    34           False\n",
       "J Nutr                            30            True\n",
       "J Clin Invest                     26           False\n",
       "Science                           25           False\n",
       "Mol Cell Endocrinol               23           False"
      ]
     },
     "execution_count": 34,
     "metadata": {},
     "output_type": "execute_result"
    }
   ],
   "source": [
    "prof_10_journal"
   ]
  },
  {
   "cell_type": "code",
   "execution_count": 35,
   "metadata": {},
   "outputs": [
    {
     "name": "stdout",
     "output_type": "stream",
     "text": [
      "Number of journals that are preferred by the experts and are also on the Top 15 journal list: 8\n"
     ]
    }
   ],
   "source": [
    "print(f'Number of journals that are preferred by the experts and are also on the Top 15 journal list: {same}')"
   ]
  },
  {
   "cell_type": "markdown",
   "metadata": {},
   "source": [
    "### Is there a relationship between number of authors and journal\n",
    "E.g. Nature is known for its ridiculously long author lists"
   ]
  },
  {
   "cell_type": "code",
   "execution_count": 36,
   "metadata": {},
   "outputs": [],
   "source": [
    "author_journal = pd.DataFrame()\n",
    "author_journal['abstract'] = df['abstract']\n",
    "author_journal['journal'] = df['journal']\n",
    "author_journal['author_count'] = number_authors['author_count']"
   ]
  },
  {
   "cell_type": "code",
   "execution_count": 37,
   "metadata": {},
   "outputs": [
    {
     "data": {
      "text/html": [
       "<div>\n",
       "<style scoped>\n",
       "    .dataframe tbody tr th:only-of-type {\n",
       "        vertical-align: middle;\n",
       "    }\n",
       "\n",
       "    .dataframe tbody tr th {\n",
       "        vertical-align: top;\n",
       "    }\n",
       "\n",
       "    .dataframe thead th {\n",
       "        text-align: right;\n",
       "    }\n",
       "</style>\n",
       "<table border=\"1\" class=\"dataframe\">\n",
       "  <thead>\n",
       "    <tr style=\"text-align: right;\">\n",
       "      <th></th>\n",
       "      <th>abstract</th>\n",
       "      <th>journal</th>\n",
       "      <th>author_count</th>\n",
       "    </tr>\n",
       "  </thead>\n",
       "  <tbody>\n",
       "    <tr>\n",
       "      <th>1260</th>\n",
       "      <td>genomewide association study europeanancestry ...</td>\n",
       "      <td>Nat Commun</td>\n",
       "      <td>104.0</td>\n",
       "    </tr>\n",
       "    <tr>\n",
       "      <th>30599</th>\n",
       "      <td>conversion from clinically isolated syndrome t...</td>\n",
       "      <td>Mult Scler</td>\n",
       "      <td>99.0</td>\n",
       "    </tr>\n",
       "    <tr>\n",
       "      <th>27295</th>\n",
       "      <td>french law: what about a reasoned reimbursemen...</td>\n",
       "      <td>Geriatr Psychol Neuropsychiatr Vieil</td>\n",
       "      <td>93.0</td>\n",
       "    </tr>\n",
       "    <tr>\n",
       "      <th>28514</th>\n",
       "      <td>genetic evidence for causal relationships betw...</td>\n",
       "      <td>JAMA</td>\n",
       "      <td>64.0</td>\n",
       "    </tr>\n",
       "    <tr>\n",
       "      <th>25023</th>\n",
       "      <td>transethnic evaluation identifies low-frequenc...</td>\n",
       "      <td>J Clin Endocrinol Metab</td>\n",
       "      <td>60.0</td>\n",
       "    </tr>\n",
       "    <tr>\n",
       "      <th>488</th>\n",
       "      <td>circulating vitamind and colorectal cancer ris...</td>\n",
       "      <td>J Natl Cancer Inst</td>\n",
       "      <td>56.0</td>\n",
       "    </tr>\n",
       "    <tr>\n",
       "      <th>4906</th>\n",
       "      <td>cypa variant modifies the association between ...</td>\n",
       "      <td>Br J Cancer</td>\n",
       "      <td>56.0</td>\n",
       "    </tr>\n",
       "    <tr>\n",
       "      <th>29999</th>\n",
       "      <td>correction: vitamin d metabolic pathway genes ...</td>\n",
       "      <td>PLoS One</td>\n",
       "      <td>55.0</td>\n",
       "    </tr>\n",
       "    <tr>\n",
       "      <th>26419</th>\n",
       "      <td>circulating concentrations of biomarkers and m...</td>\n",
       "      <td>Am J Clin Nutr</td>\n",
       "      <td>54.0</td>\n",
       "    </tr>\n",
       "    <tr>\n",
       "      <th>25875</th>\n",
       "      <td>low-frequency synonymous coding variation in c...</td>\n",
       "      <td>Am J Hum Genet</td>\n",
       "      <td>53.0</td>\n",
       "    </tr>\n",
       "    <tr>\n",
       "      <th>1605</th>\n",
       "      <td>circulating concentrations vitamind relation p...</td>\n",
       "      <td>Int J Cancer</td>\n",
       "      <td>52.0</td>\n",
       "    </tr>\n",
       "    <tr>\n",
       "      <th>6371</th>\n",
       "      <td>vitamind metabolic pathway genes and pancreati...</td>\n",
       "      <td>PLoS One</td>\n",
       "      <td>52.0</td>\n",
       "    </tr>\n",
       "    <tr>\n",
       "      <th>39293</th>\n",
       "      <td>vitamin d receptor and calcium sensing recepto...</td>\n",
       "      <td>Cancer Epidemiol Biomarkers Prev</td>\n",
       "      <td>49.0</td>\n",
       "    </tr>\n",
       "    <tr>\n",
       "      <th>1728</th>\n",
       "      <td>vitamind and cognitive function mendelian rand...</td>\n",
       "      <td>Sci Rep</td>\n",
       "      <td>49.0</td>\n",
       "    </tr>\n",
       "    <tr>\n",
       "      <th>32221</th>\n",
       "      <td>prediagnostic circulating vitamin d levels and...</td>\n",
       "      <td>Hepatology</td>\n",
       "      <td>49.0</td>\n",
       "    </tr>\n",
       "  </tbody>\n",
       "</table>\n",
       "</div>"
      ],
      "text/plain": [
       "                                                abstract  \\\n",
       "1260   genomewide association study europeanancestry ...   \n",
       "30599  conversion from clinically isolated syndrome t...   \n",
       "27295  french law: what about a reasoned reimbursemen...   \n",
       "28514  genetic evidence for causal relationships betw...   \n",
       "25023  transethnic evaluation identifies low-frequenc...   \n",
       "488    circulating vitamind and colorectal cancer ris...   \n",
       "4906   cypa variant modifies the association between ...   \n",
       "29999  correction: vitamin d metabolic pathway genes ...   \n",
       "26419  circulating concentrations of biomarkers and m...   \n",
       "25875  low-frequency synonymous coding variation in c...   \n",
       "1605   circulating concentrations vitamind relation p...   \n",
       "6371   vitamind metabolic pathway genes and pancreati...   \n",
       "39293  vitamin d receptor and calcium sensing recepto...   \n",
       "1728   vitamind and cognitive function mendelian rand...   \n",
       "32221  prediagnostic circulating vitamin d levels and...   \n",
       "\n",
       "                                    journal  author_count  \n",
       "1260                             Nat Commun         104.0  \n",
       "30599                            Mult Scler          99.0  \n",
       "27295  Geriatr Psychol Neuropsychiatr Vieil          93.0  \n",
       "28514                                  JAMA          64.0  \n",
       "25023               J Clin Endocrinol Metab          60.0  \n",
       "488                      J Natl Cancer Inst          56.0  \n",
       "4906                            Br J Cancer          56.0  \n",
       "29999                              PLoS One          55.0  \n",
       "26419                        Am J Clin Nutr          54.0  \n",
       "25875                        Am J Hum Genet          53.0  \n",
       "1605                           Int J Cancer          52.0  \n",
       "6371                               PLoS One          52.0  \n",
       "39293      Cancer Epidemiol Biomarkers Prev          49.0  \n",
       "1728                                Sci Rep          49.0  \n",
       "32221                            Hepatology          49.0  "
      ]
     },
     "execution_count": 37,
     "metadata": {},
     "output_type": "execute_result"
    }
   ],
   "source": [
    "author_journal.sort_values('author_count', ascending=False).iloc[:15,:]"
   ]
  },
  {
   "cell_type": "markdown",
   "metadata": {},
   "source": [
    "Top 15 of abstracts with most authors."
   ]
  },
  {
   "cell_type": "code",
   "execution_count": 38,
   "metadata": {},
   "outputs": [],
   "source": [
    "aj_median = pd.DataFrame(author_journal.groupby('journal')['author_count'].median())"
   ]
  },
  {
   "cell_type": "code",
   "execution_count": 39,
   "metadata": {},
   "outputs": [],
   "source": [
    "median_authors = aj_median.sort_values('author_count', ascending=False).iloc[:50,:]"
   ]
  },
  {
   "cell_type": "code",
   "execution_count": 40,
   "metadata": {},
   "outputs": [
    {
     "data": {
      "image/png": "[encoded data removed]",
      "text/plain": [
       "<Figure size 1440x576 with 1 Axes>"
      ]
     },
     "metadata": {
      "needs_background": "light"
     },
     "output_type": "display_data"
    }
   ],
   "source": [
    "plt.figure(figsize=(20,8))\n",
    "median_authors['author_count'].plot.bar()\n",
    "plt.ylabel('median number of authors')\n",
    "plt.yticks(np.arange(0,50,2))\n",
    "plt.tick_params(labelright=True, right=True)\n",
    "plt.show()"
   ]
  },
  {
   "cell_type": "markdown",
   "metadata": {},
   "source": [
    "Maximum median of authors are 46 authors (A Systematic Review)."
   ]
  },
  {
   "cell_type": "markdown",
   "metadata": {},
   "source": [
    "### Are abstracts with a vitamin D dose more likely to report of (non-)significant results?"
   ]
  },
  {
   "cell_type": "code",
   "execution_count": 41,
   "metadata": {},
   "outputs": [],
   "source": [
    "dosage_signi = pd.DataFrame(df.groupby(['dosage','significant']).count().iloc[:,0])"
   ]
  },
  {
   "cell_type": "code",
   "execution_count": 42,
   "metadata": {},
   "outputs": [],
   "source": [
    "percent = []\n",
    "\n",
    "for entry in range(int(len(dosage_signi)/2)):\n",
    "    count = int(len(dosage_signi)/2)\n",
    "    percent.append(np.round((dosage_signi.iloc[entry,0]/(dosage_signi.iloc[0:4,0].sum()) * 100),1))\n",
    "\n",
    "for entry in range(int(len(dosage_signi)/2)):\n",
    "    count = entry + int(len(dosage_signi)/2)\n",
    "    percent.append(np.round((dosage_signi.iloc[count,0]/(dosage_signi.iloc[4:8,0].sum()) * 100),1))"
   ]
  },
  {
   "cell_type": "code",
   "execution_count": 43,
   "metadata": {},
   "outputs": [],
   "source": [
    "dosage_signi['%'] = percent"
   ]
  },
  {
   "cell_type": "code",
   "execution_count": 44,
   "metadata": {},
   "outputs": [
    {
     "data": {
      "text/html": [
       "<div>\n",
       "<style scoped>\n",
       "    .dataframe tbody tr th:only-of-type {\n",
       "        vertical-align: middle;\n",
       "    }\n",
       "\n",
       "    .dataframe tbody tr th {\n",
       "        vertical-align: top;\n",
       "    }\n",
       "\n",
       "    .dataframe thead th {\n",
       "        text-align: right;\n",
       "    }\n",
       "</style>\n",
       "<table border=\"1\" class=\"dataframe\">\n",
       "  <thead>\n",
       "    <tr style=\"text-align: right;\">\n",
       "      <th></th>\n",
       "      <th></th>\n",
       "      <th>abstract</th>\n",
       "      <th>%</th>\n",
       "    </tr>\n",
       "    <tr>\n",
       "      <th>dosage</th>\n",
       "      <th>significant</th>\n",
       "      <th></th>\n",
       "      <th></th>\n",
       "    </tr>\n",
       "  </thead>\n",
       "  <tbody>\n",
       "    <tr>\n",
       "      <th rowspan=\"4\" valign=\"top\">0.0</th>\n",
       "      <th>0.0</th>\n",
       "      <td>30908</td>\n",
       "      <td>59.1</td>\n",
       "    </tr>\n",
       "    <tr>\n",
       "      <th>both</th>\n",
       "      <td>3662</td>\n",
       "      <td>7.0</td>\n",
       "    </tr>\n",
       "    <tr>\n",
       "      <th>no</th>\n",
       "      <td>2902</td>\n",
       "      <td>5.6</td>\n",
       "    </tr>\n",
       "    <tr>\n",
       "      <th>yes</th>\n",
       "      <td>14808</td>\n",
       "      <td>28.3</td>\n",
       "    </tr>\n",
       "    <tr>\n",
       "      <th rowspan=\"4\" valign=\"top\">1.0</th>\n",
       "      <th>0.0</th>\n",
       "      <td>1800</td>\n",
       "      <td>43.1</td>\n",
       "    </tr>\n",
       "    <tr>\n",
       "      <th>both</th>\n",
       "      <td>589</td>\n",
       "      <td>14.1</td>\n",
       "    </tr>\n",
       "    <tr>\n",
       "      <th>no</th>\n",
       "      <td>405</td>\n",
       "      <td>9.7</td>\n",
       "    </tr>\n",
       "    <tr>\n",
       "      <th>yes</th>\n",
       "      <td>1378</td>\n",
       "      <td>33.0</td>\n",
       "    </tr>\n",
       "  </tbody>\n",
       "</table>\n",
       "</div>"
      ],
      "text/plain": [
       "                    abstract     %\n",
       "dosage significant                \n",
       "0.0    0.0             30908  59.1\n",
       "       both             3662   7.0\n",
       "       no               2902   5.6\n",
       "       yes             14808  28.3\n",
       "1.0    0.0              1800  43.1\n",
       "       both              589  14.1\n",
       "       no                405   9.7\n",
       "       yes              1378  33.0"
      ]
     },
     "execution_count": 44,
     "metadata": {},
     "output_type": "execute_result"
    }
   ],
   "source": [
    "dosage_signi"
   ]
  },
  {
   "cell_type": "markdown",
   "metadata": {},
   "source": [
    "Abstracts with a vitamin D doses are more likely to report (non-)significant results."
   ]
  },
  {
   "cell_type": "markdown",
   "metadata": {},
   "source": [
    "### Are abstracts with vitamin D blood serum measurement more likely to report of (non-)significant results?"
   ]
  },
  {
   "cell_type": "code",
   "execution_count": 45,
   "metadata": {},
   "outputs": [],
   "source": [
    "blood_signi = pd.DataFrame(df.groupby(['blood','significant']).count().iloc[:,0])"
   ]
  },
  {
   "cell_type": "code",
   "execution_count": 46,
   "metadata": {},
   "outputs": [],
   "source": [
    "percent = []\n",
    "start = 0\n",
    "end = 4\n",
    "\n",
    "for entry in range(len(blood_signi)):\n",
    "    if (entry % 4 == 0 and entry > 0):\n",
    "        start += 4\n",
    "        end += 4\n",
    "    percent.append(np.round(blood_signi.iloc[entry,0]/blood_signi.iloc[start:end,0].sum() * 100,1))"
   ]
  },
  {
   "cell_type": "code",
   "execution_count": 47,
   "metadata": {},
   "outputs": [],
   "source": [
    "blood_signi['%'] = percent"
   ]
  },
  {
   "cell_type": "code",
   "execution_count": 48,
   "metadata": {},
   "outputs": [
    {
     "data": {
      "text/html": [
       "<div>\n",
       "<style scoped>\n",
       "    .dataframe tbody tr th:only-of-type {\n",
       "        vertical-align: middle;\n",
       "    }\n",
       "\n",
       "    .dataframe tbody tr th {\n",
       "        vertical-align: top;\n",
       "    }\n",
       "\n",
       "    .dataframe thead th {\n",
       "        text-align: right;\n",
       "    }\n",
       "</style>\n",
       "<table border=\"1\" class=\"dataframe\">\n",
       "  <thead>\n",
       "    <tr style=\"text-align: right;\">\n",
       "      <th></th>\n",
       "      <th></th>\n",
       "      <th>abstract</th>\n",
       "      <th>%</th>\n",
       "    </tr>\n",
       "    <tr>\n",
       "      <th>blood</th>\n",
       "      <th>significant</th>\n",
       "      <th></th>\n",
       "      <th></th>\n",
       "    </tr>\n",
       "  </thead>\n",
       "  <tbody>\n",
       "    <tr>\n",
       "      <th rowspan=\"4\" valign=\"top\">0.0</th>\n",
       "      <th>0.0</th>\n",
       "      <td>29999</td>\n",
       "      <td>59.9</td>\n",
       "    </tr>\n",
       "    <tr>\n",
       "      <th>both</th>\n",
       "      <td>3472</td>\n",
       "      <td>6.9</td>\n",
       "    </tr>\n",
       "    <tr>\n",
       "      <th>no</th>\n",
       "      <td>2832</td>\n",
       "      <td>5.7</td>\n",
       "    </tr>\n",
       "    <tr>\n",
       "      <th>yes</th>\n",
       "      <td>13818</td>\n",
       "      <td>27.6</td>\n",
       "    </tr>\n",
       "    <tr>\n",
       "      <th rowspan=\"4\" valign=\"top\">1.0</th>\n",
       "      <th>0.0</th>\n",
       "      <td>2709</td>\n",
       "      <td>42.8</td>\n",
       "    </tr>\n",
       "    <tr>\n",
       "      <th>both</th>\n",
       "      <td>779</td>\n",
       "      <td>12.3</td>\n",
       "    </tr>\n",
       "    <tr>\n",
       "      <th>no</th>\n",
       "      <td>475</td>\n",
       "      <td>7.5</td>\n",
       "    </tr>\n",
       "    <tr>\n",
       "      <th>yes</th>\n",
       "      <td>2368</td>\n",
       "      <td>37.4</td>\n",
       "    </tr>\n",
       "  </tbody>\n",
       "</table>\n",
       "</div>"
      ],
      "text/plain": [
       "                   abstract     %\n",
       "blood significant                \n",
       "0.0   0.0             29999  59.9\n",
       "      both             3472   6.9\n",
       "      no               2832   5.7\n",
       "      yes             13818  27.6\n",
       "1.0   0.0              2709  42.8\n",
       "      both              779  12.3\n",
       "      no                475   7.5\n",
       "      yes              2368  37.4"
      ]
     },
     "execution_count": 48,
     "metadata": {},
     "output_type": "execute_result"
    }
   ],
   "source": [
    "blood_signi"
   ]
  },
  {
   "cell_type": "markdown",
   "metadata": {},
   "source": [
    "Abstracts with a vitamin D blood serum measurement are more likely to report (non-)significant results."
   ]
  },
  {
   "cell_type": "markdown",
   "metadata": {},
   "source": [
    "### How often is a blood serum measurement taken after vitamin D administration?"
   ]
  },
  {
   "cell_type": "code",
   "execution_count": 49,
   "metadata": {},
   "outputs": [],
   "source": [
    "dose_blood = pd.DataFrame(df.groupby(['dosage','blood']).count().iloc[:,0])"
   ]
  },
  {
   "cell_type": "code",
   "execution_count": 50,
   "metadata": {},
   "outputs": [],
   "source": [
    "percent = []\n",
    "start = 0\n",
    "end = 2\n",
    "\n",
    "for entry in range(len(dose_blood)):\n",
    "    if (entry % 2 == 0 and entry > 0):\n",
    "        start += 2\n",
    "        end += 2\n",
    "    percent.append(np.round(dose_blood.iloc[entry,0]/dose_blood.iloc[start:end,0].sum() * 100,1))"
   ]
  },
  {
   "cell_type": "code",
   "execution_count": 51,
   "metadata": {},
   "outputs": [],
   "source": [
    "dose_blood['%'] = percent"
   ]
  },
  {
   "cell_type": "code",
   "execution_count": 52,
   "metadata": {},
   "outputs": [
    {
     "data": {
      "text/html": [
       "<div>\n",
       "<style scoped>\n",
       "    .dataframe tbody tr th:only-of-type {\n",
       "        vertical-align: middle;\n",
       "    }\n",
       "\n",
       "    .dataframe tbody tr th {\n",
       "        vertical-align: top;\n",
       "    }\n",
       "\n",
       "    .dataframe thead th {\n",
       "        text-align: right;\n",
       "    }\n",
       "</style>\n",
       "<table border=\"1\" class=\"dataframe\">\n",
       "  <thead>\n",
       "    <tr style=\"text-align: right;\">\n",
       "      <th></th>\n",
       "      <th></th>\n",
       "      <th>abstract</th>\n",
       "      <th>%</th>\n",
       "    </tr>\n",
       "    <tr>\n",
       "      <th>dosage</th>\n",
       "      <th>blood</th>\n",
       "      <th></th>\n",
       "      <th></th>\n",
       "    </tr>\n",
       "  </thead>\n",
       "  <tbody>\n",
       "    <tr>\n",
       "      <th rowspan=\"2\" valign=\"top\">1.0</th>\n",
       "      <th>0.0</th>\n",
       "      <td>3046</td>\n",
       "      <td>73.0</td>\n",
       "    </tr>\n",
       "    <tr>\n",
       "      <th>1.0</th>\n",
       "      <td>1126</td>\n",
       "      <td>27.0</td>\n",
       "    </tr>\n",
       "  </tbody>\n",
       "</table>\n",
       "</div>"
      ],
      "text/plain": [
       "              abstract     %\n",
       "dosage blood                \n",
       "1.0    0.0        3046  73.0\n",
       "       1.0        1126  27.0"
      ]
     },
     "execution_count": 52,
     "metadata": {},
     "output_type": "execute_result"
    }
   ],
   "source": [
    "dose_blood[2:4]"
   ]
  },
  {
   "cell_type": "markdown",
   "metadata": {},
   "source": [
    "Only in 26 % of all cases is a vitamin D blood serum measurement taken after vitamin D administration. That is a rather low number, considering that every human takes a different dose to reach a certain serum level. This might make results non-significant, even though they would be if they would have checked if the dose had the desired effect on serum level."
   ]
  },
  {
   "cell_type": "markdown",
   "metadata": {},
   "source": [
    "### Does the comibination of serum level measurement after dosage administration result in more positive significant results?"
   ]
  },
  {
   "cell_type": "code",
   "execution_count": 53,
   "metadata": {},
   "outputs": [],
   "source": [
    "dose_blood_signi = pd.DataFrame(df.groupby(['dosage','blood', 'significant']).count().iloc[:,0])"
   ]
  },
  {
   "cell_type": "code",
   "execution_count": 54,
   "metadata": {},
   "outputs": [],
   "source": [
    "percent = []\n",
    "start = 0\n",
    "end = 4\n",
    "\n",
    "for entry in range(len(dose_blood_signi)):\n",
    "    if (entry % 4 == 0 and entry > 0):\n",
    "        start += 4\n",
    "        end += 4\n",
    "    percent.append(np.round(dose_blood_signi.iloc[entry,0]/dose_blood_signi.iloc[start:end,0].sum() * 100,1))"
   ]
  },
  {
   "cell_type": "code",
   "execution_count": 55,
   "metadata": {},
   "outputs": [],
   "source": [
    "dose_blood_signi['%'] = percent"
   ]
  },
  {
   "cell_type": "code",
   "execution_count": 56,
   "metadata": {},
   "outputs": [
    {
     "data": {
      "text/html": [
       "<div>\n",
       "<style scoped>\n",
       "    .dataframe tbody tr th:only-of-type {\n",
       "        vertical-align: middle;\n",
       "    }\n",
       "\n",
       "    .dataframe tbody tr th {\n",
       "        vertical-align: top;\n",
       "    }\n",
       "\n",
       "    .dataframe thead th {\n",
       "        text-align: right;\n",
       "    }\n",
       "</style>\n",
       "<table border=\"1\" class=\"dataframe\">\n",
       "  <thead>\n",
       "    <tr style=\"text-align: right;\">\n",
       "      <th></th>\n",
       "      <th></th>\n",
       "      <th></th>\n",
       "      <th>abstract</th>\n",
       "      <th>%</th>\n",
       "    </tr>\n",
       "    <tr>\n",
       "      <th>dosage</th>\n",
       "      <th>blood</th>\n",
       "      <th>significant</th>\n",
       "      <th></th>\n",
       "      <th></th>\n",
       "    </tr>\n",
       "  </thead>\n",
       "  <tbody>\n",
       "    <tr>\n",
       "      <th rowspan=\"8\" valign=\"top\">0.0</th>\n",
       "      <th rowspan=\"4\" valign=\"top\">0.0</th>\n",
       "      <th>0.0</th>\n",
       "      <td>28654</td>\n",
       "      <td>60.9</td>\n",
       "    </tr>\n",
       "    <tr>\n",
       "      <th>both</th>\n",
       "      <td>3051</td>\n",
       "      <td>6.5</td>\n",
       "    </tr>\n",
       "    <tr>\n",
       "      <th>no</th>\n",
       "      <td>2551</td>\n",
       "      <td>5.4</td>\n",
       "    </tr>\n",
       "    <tr>\n",
       "      <th>yes</th>\n",
       "      <td>12819</td>\n",
       "      <td>27.2</td>\n",
       "    </tr>\n",
       "    <tr>\n",
       "      <th rowspan=\"4\" valign=\"top\">1.0</th>\n",
       "      <th>0.0</th>\n",
       "      <td>2254</td>\n",
       "      <td>43.3</td>\n",
       "    </tr>\n",
       "    <tr>\n",
       "      <th>both</th>\n",
       "      <td>611</td>\n",
       "      <td>11.7</td>\n",
       "    </tr>\n",
       "    <tr>\n",
       "      <th>no</th>\n",
       "      <td>351</td>\n",
       "      <td>6.7</td>\n",
       "    </tr>\n",
       "    <tr>\n",
       "      <th>yes</th>\n",
       "      <td>1989</td>\n",
       "      <td>38.2</td>\n",
       "    </tr>\n",
       "    <tr>\n",
       "      <th rowspan=\"8\" valign=\"top\">1.0</th>\n",
       "      <th rowspan=\"4\" valign=\"top\">0.0</th>\n",
       "      <th>0.0</th>\n",
       "      <td>1345</td>\n",
       "      <td>44.2</td>\n",
       "    </tr>\n",
       "    <tr>\n",
       "      <th>both</th>\n",
       "      <td>421</td>\n",
       "      <td>13.8</td>\n",
       "    </tr>\n",
       "    <tr>\n",
       "      <th>no</th>\n",
       "      <td>281</td>\n",
       "      <td>9.2</td>\n",
       "    </tr>\n",
       "    <tr>\n",
       "      <th>yes</th>\n",
       "      <td>999</td>\n",
       "      <td>32.8</td>\n",
       "    </tr>\n",
       "    <tr>\n",
       "      <th rowspan=\"4\" valign=\"top\">1.0</th>\n",
       "      <th>0.0</th>\n",
       "      <td>455</td>\n",
       "      <td>40.4</td>\n",
       "    </tr>\n",
       "    <tr>\n",
       "      <th>both</th>\n",
       "      <td>168</td>\n",
       "      <td>14.9</td>\n",
       "    </tr>\n",
       "    <tr>\n",
       "      <th>no</th>\n",
       "      <td>124</td>\n",
       "      <td>11.0</td>\n",
       "    </tr>\n",
       "    <tr>\n",
       "      <th>yes</th>\n",
       "      <td>379</td>\n",
       "      <td>33.7</td>\n",
       "    </tr>\n",
       "  </tbody>\n",
       "</table>\n",
       "</div>"
      ],
      "text/plain": [
       "                          abstract     %\n",
       "dosage blood significant                \n",
       "0.0    0.0   0.0             28654  60.9\n",
       "             both             3051   6.5\n",
       "             no               2551   5.4\n",
       "             yes             12819  27.2\n",
       "       1.0   0.0              2254  43.3\n",
       "             both              611  11.7\n",
       "             no                351   6.7\n",
       "             yes              1989  38.2\n",
       "1.0    0.0   0.0              1345  44.2\n",
       "             both              421  13.8\n",
       "             no                281   9.2\n",
       "             yes               999  32.8\n",
       "       1.0   0.0               455  40.4\n",
       "             both              168  14.9\n",
       "             no                124  11.0\n",
       "             yes               379  33.7"
      ]
     },
     "execution_count": 56,
     "metadata": {},
     "output_type": "execute_result"
    }
   ],
   "source": [
    "dose_blood_signi"
   ]
  },
  {
   "cell_type": "markdown",
   "metadata": {},
   "source": [
    "If blood serum is checked after dose administration, results are more likely to be (non-)significant, however, they are not more likely to report positive significance compared to a missing blood serum measurement. If just the blood serum level is measured, abstracts are even more likely to reporte a positive significance."
   ]
  }
 ],
 "metadata": {
  "kernelspec": {
   "display_name": "Python 3",
   "language": "python",
   "name": "python3"
  },
  "language_info": {
   "codemirror_mode": {
    "name": "ipython",
    "version": 3
   },
   "file_extension": ".py",
   "mimetype": "text/x-python",
   "name": "python",
   "nbconvert_exporter": "python",
   "pygments_lexer": "ipython3",
   "version": "3.7.0"
  }
 },
 "nbformat": 4,
 "nbformat_minor": 2
}
