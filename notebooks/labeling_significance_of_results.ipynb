{
 "cells": [
  {
   "cell_type": "code",
   "execution_count": 1,
   "metadata": {},
   "outputs": [],
   "source": [
    "import pandas as pd\n",
    "import numpy as np\n",
    "import matplotlib.pyplot as plt"
   ]
  },
  {
   "cell_type": "code",
   "execution_count": 2,
   "metadata": {},
   "outputs": [],
   "source": [
    "pd.options.mode.chained_assignment = None"
   ]
  },
  {
   "cell_type": "code",
   "execution_count": 3,
   "metadata": {},
   "outputs": [],
   "source": [
    "abstracts = pd.read_csv('../data/abstracts_df.csv', index_col=0)"
   ]
  },
  {
   "cell_type": "code",
   "execution_count": 4,
   "metadata": {},
   "outputs": [
    {
     "data": {
      "text/html": [
       "<div>\n",
       "<style scoped>\n",
       "    .dataframe tbody tr th:only-of-type {\n",
       "        vertical-align: middle;\n",
       "    }\n",
       "\n",
       "    .dataframe tbody tr th {\n",
       "        vertical-align: top;\n",
       "    }\n",
       "\n",
       "    .dataframe thead th {\n",
       "        text-align: right;\n",
       "    }\n",
       "</style>\n",
       "<table border=\"1\" class=\"dataframe\">\n",
       "  <thead>\n",
       "    <tr style=\"text-align: right;\">\n",
       "      <th></th>\n",
       "      <th>abstract</th>\n",
       "    </tr>\n",
       "  </thead>\n",
       "  <tbody>\n",
       "    <tr>\n",
       "      <th>0</th>\n",
       "      <td>\\n1. Bone. 2018 Sep 24. pii: S8756-3282(18)303...</td>\n",
       "    </tr>\n",
       "    <tr>\n",
       "      <th>1</th>\n",
       "      <td>\\n\\n\\n2. Neurosci Lett. 2018 Sep 24. pii: S03...</td>\n",
       "    </tr>\n",
       "    <tr>\n",
       "      <th>2</th>\n",
       "      <td>\\n\\n\\n3. Antivir Ther. 2018 Sep 27. doi: 10.3...</td>\n",
       "    </tr>\n",
       "    <tr>\n",
       "      <th>3</th>\n",
       "      <td>\\n\\n\\n4. Fetal Pediatr Pathol. 2018 Sep 27:1-...</td>\n",
       "    </tr>\n",
       "    <tr>\n",
       "      <th>4</th>\n",
       "      <td>\\n\\n\\n5. Clin Exp Immunol. 2018 Oct;194(1):17...</td>\n",
       "    </tr>\n",
       "  </tbody>\n",
       "</table>\n",
       "</div>"
      ],
      "text/plain": [
       "                                            abstract\n",
       "0  \\n1. Bone. 2018 Sep 24. pii: S8756-3282(18)303...\n",
       "1   \\n\\n\\n2. Neurosci Lett. 2018 Sep 24. pii: S03...\n",
       "2   \\n\\n\\n3. Antivir Ther. 2018 Sep 27. doi: 10.3...\n",
       "3   \\n\\n\\n4. Fetal Pediatr Pathol. 2018 Sep 27:1-...\n",
       "4   \\n\\n\\n5. Clin Exp Immunol. 2018 Oct;194(1):17..."
      ]
     },
     "execution_count": 4,
     "metadata": {},
     "output_type": "execute_result"
    }
   ],
   "source": [
    "abstracts.head()"
   ]
  },
  {
   "cell_type": "markdown",
   "metadata": {},
   "source": [
    "### removing short abstracts\n",
    "- very old abstracts (from the beginning of the 20th century) are only indexed and do not contain an abstract, just a title and authors\n",
    "    - have no valuable information\n",
    "    - can be cut by removing abstracts that don't meet a certain length\n",
    "- the column with the abstract lengths is dropped at the end because it is not needed anymore"
   ]
  },
  {
   "cell_type": "code",
   "execution_count": 5,
   "metadata": {},
   "outputs": [],
   "source": [
    "abstracts['abstract_length'] = abstracts.abstract.str.len()"
   ]
  },
  {
   "cell_type": "code",
   "execution_count": 6,
   "metadata": {},
   "outputs": [],
   "source": [
    "abstracts_length = abstracts.sort_values('abstract_length', ascending=False)"
   ]
  },
  {
   "cell_type": "code",
   "execution_count": 7,
   "metadata": {},
   "outputs": [
    {
     "data": {
      "text/html": [
       "<div>\n",
       "<style scoped>\n",
       "    .dataframe tbody tr th:only-of-type {\n",
       "        vertical-align: middle;\n",
       "    }\n",
       "\n",
       "    .dataframe tbody tr th {\n",
       "        vertical-align: top;\n",
       "    }\n",
       "\n",
       "    .dataframe thead th {\n",
       "        text-align: right;\n",
       "    }\n",
       "</style>\n",
       "<table border=\"1\" class=\"dataframe\">\n",
       "  <thead>\n",
       "    <tr style=\"text-align: right;\">\n",
       "      <th></th>\n",
       "      <th>abstract_length</th>\n",
       "    </tr>\n",
       "  </thead>\n",
       "  <tbody>\n",
       "    <tr>\n",
       "      <th>count</th>\n",
       "      <td>77886.000000</td>\n",
       "    </tr>\n",
       "    <tr>\n",
       "      <th>mean</th>\n",
       "      <td>1644.860476</td>\n",
       "    </tr>\n",
       "    <tr>\n",
       "      <th>std</th>\n",
       "      <td>971.636945</td>\n",
       "    </tr>\n",
       "    <tr>\n",
       "      <th>min</th>\n",
       "      <td>68.000000</td>\n",
       "    </tr>\n",
       "    <tr>\n",
       "      <th>25%</th>\n",
       "      <td>912.000000</td>\n",
       "    </tr>\n",
       "    <tr>\n",
       "      <th>50%</th>\n",
       "      <td>1782.000000</td>\n",
       "    </tr>\n",
       "    <tr>\n",
       "      <th>75%</th>\n",
       "      <td>2270.000000</td>\n",
       "    </tr>\n",
       "    <tr>\n",
       "      <th>max</th>\n",
       "      <td>15076.000000</td>\n",
       "    </tr>\n",
       "  </tbody>\n",
       "</table>\n",
       "</div>"
      ],
      "text/plain": [
       "       abstract_length\n",
       "count     77886.000000\n",
       "mean       1644.860476\n",
       "std         971.636945\n",
       "min          68.000000\n",
       "25%         912.000000\n",
       "50%        1782.000000\n",
       "75%        2270.000000\n",
       "max       15076.000000"
      ]
     },
     "execution_count": 7,
     "metadata": {},
     "output_type": "execute_result"
    }
   ],
   "source": [
    "abstracts_length.describe()"
   ]
  },
  {
   "cell_type": "markdown",
   "metadata": {},
   "source": [
    "The minimum length of abstract is 68 characters, the maximum is 15076 characters."
   ]
  },
  {
   "cell_type": "code",
   "execution_count": 8,
   "metadata": {},
   "outputs": [
    {
     "data": {
      "text/html": [
       "<div>\n",
       "<style scoped>\n",
       "    .dataframe tbody tr th:only-of-type {\n",
       "        vertical-align: middle;\n",
       "    }\n",
       "\n",
       "    .dataframe tbody tr th {\n",
       "        vertical-align: top;\n",
       "    }\n",
       "\n",
       "    .dataframe thead th {\n",
       "        text-align: right;\n",
       "    }\n",
       "</style>\n",
       "<table border=\"1\" class=\"dataframe\">\n",
       "  <thead>\n",
       "    <tr style=\"text-align: right;\">\n",
       "      <th></th>\n",
       "      <th>abstract</th>\n",
       "      <th>abstract_length</th>\n",
       "    </tr>\n",
       "  </thead>\n",
       "  <tbody>\n",
       "    <tr>\n",
       "      <th>2720</th>\n",
       "      <td>[Indexed for MEDLINE]\\n\\n\\n2719. Nat Commun....</td>\n",
       "      <td>15076</td>\n",
       "    </tr>\n",
       "    <tr>\n",
       "      <th>17569</th>\n",
       "      <td>[Indexed for MEDLINE]\\n\\n\\n17567. Lancet Dia...</td>\n",
       "      <td>14923</td>\n",
       "    </tr>\n",
       "    <tr>\n",
       "      <th>8500</th>\n",
       "      <td>\\n\\n\\n8499. Int J Epidemiol. 2016 Oct;45(5):1...</td>\n",
       "      <td>12420</td>\n",
       "    </tr>\n",
       "    <tr>\n",
       "      <th>10380</th>\n",
       "      <td>[Indexed for MEDLINE]\\n\\n\\n10378. JAMA. 2016...</td>\n",
       "      <td>11557</td>\n",
       "    </tr>\n",
       "    <tr>\n",
       "      <th>27730</th>\n",
       "      <td>[Indexed for MEDLINE]\\n\\n\\n27728. Diabetolog...</td>\n",
       "      <td>10961</td>\n",
       "    </tr>\n",
       "    <tr>\n",
       "      <th>17781</th>\n",
       "      <td>[Indexed for MEDLINE]\\n\\n\\n17779. JAMA. 2014...</td>\n",
       "      <td>10515</td>\n",
       "    </tr>\n",
       "    <tr>\n",
       "      <th>4638</th>\n",
       "      <td>[Indexed for MEDLINE]\\n\\n\\n4637. Am J Hum Ge...</td>\n",
       "      <td>10357</td>\n",
       "    </tr>\n",
       "    <tr>\n",
       "      <th>33364</th>\n",
       "      <td>[Indexed for MEDLINE]\\n\\n\\n33362. Crit Rev F...</td>\n",
       "      <td>10314</td>\n",
       "    </tr>\n",
       "    <tr>\n",
       "      <th>33332</th>\n",
       "      <td>\\n\\n\\n33330. Ont Health Technol Assess Ser. 2...</td>\n",
       "      <td>10204</td>\n",
       "    </tr>\n",
       "    <tr>\n",
       "      <th>43318</th>\n",
       "      <td>\\n\\n\\n43316. Ont Health Technol Assess Ser. 2...</td>\n",
       "      <td>10176</td>\n",
       "    </tr>\n",
       "    <tr>\n",
       "      <th>37737</th>\n",
       "      <td>\\n\\n\\n37735. Ont Health Technol Assess Ser. 2...</td>\n",
       "      <td>10119</td>\n",
       "    </tr>\n",
       "    <tr>\n",
       "      <th>16675</th>\n",
       "      <td>[Indexed for MEDLINE]\\n\\n\\n16673. Ann Surg O...</td>\n",
       "      <td>10086</td>\n",
       "    </tr>\n",
       "    <tr>\n",
       "      <th>44946</th>\n",
       "      <td>[Indexed for MEDLINE]\\n\\n\\n44944. Kekkaku. 2...</td>\n",
       "      <td>10070</td>\n",
       "    </tr>\n",
       "    <tr>\n",
       "      <th>35593</th>\n",
       "      <td>\\n\\n\\n35591. Ont Health Technol Assess Ser. 2...</td>\n",
       "      <td>9889</td>\n",
       "    </tr>\n",
       "    <tr>\n",
       "      <th>24064</th>\n",
       "      <td>[Indexed for MEDLINE]\\n\\n\\n24062. N Engl J M...</td>\n",
       "      <td>9888</td>\n",
       "    </tr>\n",
       "  </tbody>\n",
       "</table>\n",
       "</div>"
      ],
      "text/plain": [
       "                                                abstract  abstract_length\n",
       "2720     [Indexed for MEDLINE]\\n\\n\\n2719. Nat Commun....            15076\n",
       "17569    [Indexed for MEDLINE]\\n\\n\\n17567. Lancet Dia...            14923\n",
       "8500    \\n\\n\\n8499. Int J Epidemiol. 2016 Oct;45(5):1...            12420\n",
       "10380    [Indexed for MEDLINE]\\n\\n\\n10378. JAMA. 2016...            11557\n",
       "27730    [Indexed for MEDLINE]\\n\\n\\n27728. Diabetolog...            10961\n",
       "17781    [Indexed for MEDLINE]\\n\\n\\n17779. JAMA. 2014...            10515\n",
       "4638     [Indexed for MEDLINE]\\n\\n\\n4637. Am J Hum Ge...            10357\n",
       "33364    [Indexed for MEDLINE]\\n\\n\\n33362. Crit Rev F...            10314\n",
       "33332   \\n\\n\\n33330. Ont Health Technol Assess Ser. 2...            10204\n",
       "43318   \\n\\n\\n43316. Ont Health Technol Assess Ser. 2...            10176\n",
       "37737   \\n\\n\\n37735. Ont Health Technol Assess Ser. 2...            10119\n",
       "16675    [Indexed for MEDLINE]\\n\\n\\n16673. Ann Surg O...            10086\n",
       "44946    [Indexed for MEDLINE]\\n\\n\\n44944. Kekkaku. 2...            10070\n",
       "35593   \\n\\n\\n35591. Ont Health Technol Assess Ser. 2...             9889\n",
       "24064    [Indexed for MEDLINE]\\n\\n\\n24062. N Engl J M...             9888"
      ]
     },
     "execution_count": 8,
     "metadata": {},
     "output_type": "execute_result"
    }
   ],
   "source": [
    "abstracts_length.head(15)"
   ]
  },
  {
   "cell_type": "markdown",
   "metadata": {},
   "source": [
    "A few abstracts are really long and are checked if they are properly split."
   ]
  },
  {
   "cell_type": "code",
   "execution_count": 9,
   "metadata": {},
   "outputs": [
    {
     "name": "stdout",
     "output_type": "stream",
     "text": [
      "  [Indexed for MEDLINE]\n",
      "\n",
      "\n",
      "2719. Nat Commun. 2018 Jan 17;9(1):260. doi: 10.1038/s41467-017-02662-2.\n",
      "\n",
      "Genome-wide association study in 79,366 European-ancestry individuals informs the\n",
      "genetic architecture of 25-hydroxyvitamin D levels.\n",
      "\n",
      "Jiang X(1)(2), O'Reilly PF(3), Aschard H(1)(4), Hsu YH(5)(6)(7), Richards JB(8), \n",
      "Dupuis J(9)(10), Ingelsson E(11)(12), Karasik D(5), Pilz S(13), Berry D(14),\n",
      "Kestenbaum B(15), Zheng J(16), Luan J(16), Sofianopoulou E(17), Streeten EA(18), \n",
      "Albanes D(19), Lutsey PL(20), Yao L(20), Tang W(20), Econs MJ(21), Wallaschofski \n",
      "H(22)(23), Völzke H(23)(24), Zhou A(25), Power C(14), McCarthy MI(26)(27)(28),\n",
      "Michos ED(29)(30), Boerwinkle E(31), Weinstein SJ(19), Freedman ND(19), Huang\n",
      "WY(32), Van Schoor NM(33), van der Velde N(34)(35), Groot LCPGM(36), Enneman\n",
      "A(34), Cupples LA(9)(10), Booth SL(37), Vasan RS(10), Liu CT(9), Zhou Y(9),\n",
      "Ripatti S(38), Ohlsson C(39), Vandenput L(39), Lorentzon M(40), Eriksson\n",
      "JG(41)(42), Shea MK(37), Houston DK(43), Kritchevsky SB(43), Liu Y(44), Lohman\n",
      "KK(45), Ferrucci L(46), Peacock M(21), Gieger C(47), Beekman M(48), Slagboom\n",
      "E(48), Deelen J(48)(49), Heemst DV(50), Kleber ME(51), März W(51)(52)(53), de\n",
      "Boer IH(54), Wood AC(55), Rotter JI(56), Rich SS(57)(58), Robinson-Cohen C(59),\n",
      "den Heijer M(60), Jarvelin MR(61)(62)(63)(64), Cavadino A(14)(65), Joshi PK(66), \n",
      "Wilson JF(66)(67), Hayward C(67), Lind L(12), Michaëlsson K(68), Trompet\n",
      "S(50)(69), Zillikens MC(60), Uitterlinden AG(34)(60), Rivadeneira F(34)(60),\n",
      "Broer L(60), Zgaga L(70), Campbell H(66)(71), Theodoratou E(66)(71), Farrington\n",
      "SM(71), Timofeeva M(71), Dunlop MG(71), Valdes AM(72)(73), Tikkanen E(74),\n",
      "Lehtimäki T(75)(76), Lyytikäinen LP(75)(76), Kähönen M(77)(78), Raitakari\n",
      "OT(79)(80), Mikkilä V(81), Ikram MA(34), Sattar N(82), Jukema JW(69)(83), Wareham\n",
      "NJ(16), Langenberg C(16), Forouhi NG(16), Gundersen TE(84), Khaw KT(17),\n",
      "Butterworth AS(17), Danesh J(17)(85), Spector T(72), Wang TJ(86), Hyppönen\n",
      "E(87)(88), Kraft P(1), Kiel DP(89)(90)(91).\n",
      "\n",
      "Author information: \n",
      "(1)Program in Genetic Epidemiology and Statistical Genetics. Department of\n",
      "Epidemiology, Harvard T.H.Chan School of Public Health, 677 Huntington Avenue,\n",
      "Boston, 02115, MA, USA.\n",
      "(2)Unit of Cardiovascular Epidemiology, Institute of Environmental Medicine,\n",
      "Karolinska Institutet, Nobels vagen 13, Stockholm, 17177, Sweden.\n",
      "(3)Department of Social Genetic & Developmental Psychiatry, King's College\n",
      "London, Institute of Psychiatry, De Crespigny Park, London, SE5 8AF, UK.\n",
      "(4)Centre de Bioinformatique, Biostatistique et Biologie Intégrative (C3BI),\n",
      "Institut Pasteur, Paris, 75724, France.\n",
      "(5)Institute for Aging Research, Hebrew SeniorLife, 1200 Centre Street, Boston,\n",
      "MA, 02131, USA.\n",
      "(6)Department of Medicine, Beth Israel Deaconess Medical Center and Harvard\n",
      "Medical School, Boston, MA, 02115, USA.\n",
      "(7)Broad Institute of Harvard and Massachusetts Institute of Technology, Boston, \n",
      "MA, 02142, USA.\n",
      "(8)Departments of Medicine, Human Genetics, Epidemiology and Biostatistics, 3755 \n",
      "Côte Ste-Catherine Road, Suite H-413 Montréal, Québec, H3T 1E2, Canada.\n",
      "(9)Department of Biostatistics, Boston University School of Public Health,\n",
      "Crosstown Center. 801 Massachusetts Avenue 3rd Floor, Boston, MA, 02118, USA.\n",
      "(10)Framingham Heart Study, 73 Mt. Wayte Avenue, Framingham, MA, 01702, USA.\n",
      "(11)Department of Medicine, Division of Cardiovascular Medicine, Stanford\n",
      "University School of Medicine Stanford, Stanford, CA, 94305, USA.\n",
      "(12)Department of Medical Sciences, Uppsala University, 751 85, Uppsala, Sweden.\n",
      "(13)Department of Internal Medicine, Division of Endocrinology and Diabetology,\n",
      "Medical University of Graz, Auenbruggerplatz 15, 8036, Graz, Austria.\n",
      "(14)Population, Policy and Practice, University College London, Great Ormond\n",
      "Street, Institute of Child Health, London, WC1E 6BT, UK.\n",
      "(15)Kidney Research Institute, Division of Nephrology, 325 Ninth Avenue, Seattle,\n",
      "WA, 98104, USA.\n",
      "(16)MRC Epidemiology Unit, University of Cambridge School of Clinical Medicine,\n",
      "Cambridge Biomedical Campus, Cambridge, CB2 0QQ, UK.\n",
      "(17)Department of Public Health & Primary Care, University of Cambridge,\n",
      "Strangeways Research Laboratory, Wort's Causeway, Cambridge, CB1 8RN, UK.\n",
      "(18)Genetics and Personalized Medicine Program, University of Maryland School of \n",
      "Medicine, Howard Hall Room 567, Baltimore, MD, 21201, USA.\n",
      "(19)Metabolic Epidemiology Branch, Division of Cancer Epidemiology and Genetics, \n",
      "National Cancer Institute, NIH, 9609 Medical Center Drive, Bethesda, MD, 20892,\n",
      "USA.\n",
      "(20)Division of Epidemiology & Community Health, School of Public Health,\n",
      "University of Minnesota, 1300S 2nd Street, Suite 300, Minneapolis, MN, 55454,\n",
      "USA.\n",
      "(21)Department of Medicine, Indiana University, Endocrinology, 1120W Michigan\n",
      "Street, Indianapolis, IN, 46202-5124, USA.\n",
      "(22)Institute of Clinical Chemistry and Laboratory Medicine, University Medicine \n",
      "Greifswald, 17489, Greifswald, Germany.\n",
      "(23)DZHK (German Centre for Cardiovascular Research), Partner Site, Greifswald,\n",
      "13316, Berlin, Germany.\n",
      "(24)Institut für Community Medicine, SHIP/Klinisch-Epidemiologische Forschung,\n",
      "Universitätsmedizin Greifswald, Walther-Rathenau-Str. 48, 17475, Greifswald,\n",
      "Germany.\n",
      "(25)Centre for Population Health Research, Sansom Institute for Health Research, \n",
      "University of South Australia, Adelaide, 5001, SA, Australia.\n",
      "(26)Oxford Centre for Diabetes Endocrinology and Metabolism, University of\n",
      "Oxford, Churchill Hospital, Old Road, Headington, Oxford, OX3 7LJ, UK.\n",
      "(27)Wellcome Centre for Human Genetics, University of Oxford, Roosevelt Drive,\n",
      "Headington, Oxford, OX3 7BN, UK.\n",
      "(28)Oxford NIHR Biomedical Research Centre, Churchill Hospital, Old Road,\n",
      "Headington, Oxford, OX3 7LJ, UK.\n",
      "(29)Division of Cardiology, Ciccarone Center for the Prevention of Heart Disease,\n",
      "Johns Hopkins School of Medicine, Baltimore, MD, 21287, USA.\n",
      "(30)Department of Epidemiology, Johns Hopkins Bloomberg School of Public Health, \n",
      "Baltimore, MD, 21205, USA.\n",
      "(31)Human Genetics Center, University of Texas Health Science Center at Houston, \n",
      "Houston, TX, 77030, USA.\n",
      "(32)Occupational and Environmental Epidemiology Branch, Division of Cancer\n",
      "Epidemiology and Genetics, National Cancer Institute, NIH, 9609 Medical Center\n",
      "Drive, Bethesda, MD, 20892, USA.\n",
      "(33)Department of Epidemiology and Biostatistics, Amsterdam Public Health\n",
      "Research Institute, VU University Medical Center, De Boelelaan 1089a, 1081 HV,\n",
      "Amsterdam, The Netherlands.\n",
      "(34)Erasmus MC Department of Epidemiology, Postbus 2040, 3000CA, Rotterdam, The\n",
      "Netherlands.\n",
      "(35)AMC, Internal Medicine, Geriatrics Department, PO Box 22700, 1100 DE,\n",
      "Amsterdam, The Netherlands.\n",
      "(36)Department of Human Nutrition, Wageningen University, PO-box 17, 6700 AA,\n",
      "Wageningen, The Netherlands.\n",
      "(37)Vitamin K Laboratory, Jean Mayer USDA Human Nutrition Research Center on\n",
      "Aging, Tufts University, 711 Washington Street, Boston, MA, 02111, USA.\n",
      "(38)Statistical and Translational Genetics, University of Helsinki, Tukholmankatu\n",
      "8, Building, Biomedicum, Helsinki 2U, Finland.\n",
      "(39)Department of Internal Medicine and Clinical Nutrition, University of\n",
      "Gothenburg, Vita Stråket 11, Gothenburg, 41345, Sweden.\n",
      "(40)Department of Geriatric Medicine, University of Gothenburg and Sahlgrenska\n",
      "University Hospital, Mölndal, 43180, Sweden.\n",
      "(41)Department of General Practice and Primary Health Care, University of\n",
      "Helsinki and Helsinki University Hospital, University of Helsinki, P.O. Box 20,\n",
      "Tukholmankatu, 8 B 00014, Finland.\n",
      "(42)Folkhälsan Research Center, University of Helsinki, Helsinki, PO Box 2000014,\n",
      "Finland.\n",
      "(43)Sticht Center for Healthy Aging and Alzheimer's Prevention, Wake Forest\n",
      "School of Medicine, Medical Center Boulevard, Winston-Salem, NC, 27157, USA.\n",
      "(44)Department of Epidemiology and Prevention, Division of Public Health\n",
      "Sciences, Wake Forest School of Medicine, Medical Center Blvd, Winston-Salem, NC,\n",
      "27157, USA.\n",
      "(45)Department of Biostatistical Sciences, Division of Public Health Sciences,\n",
      "Wake Forest School of Medicine, Medical Center Blvd, Winston-Salem, NC, 27157,\n",
      "USA.\n",
      "(46)Longitudinal Studies Section, Intramural Research Program of the National\n",
      "Institute on Aging, NIH, Baltimore, MD, 21225, USA.\n",
      "(47)German Research Center for Environmental Health, Molecular Epidemiology, AME,\n",
      "Ingolstädter Landstr 1, D-85764, Neuherberg, Germany.\n",
      "(48)Molecular Epidemiology, Leiden University Medical Center, Einthovenweg 20,\n",
      "2333 ZC, Leiden, The Netherlands.\n",
      "(49)Max Planck Institute for Biology of Ageing, Joseph-Stelzmann-Str. 9b,\n",
      "D-50931, Köln (Cologne), Germany.\n",
      "(50)Gerontology and Geriatrics, Leiden University Medical Center, Albinusdreef 2,\n",
      "2333 ZA, Leiden, The Netherlands.\n",
      "(51)Vth Department of Medicine (Nephrology, Hypertensiology, Rheumatology,\n",
      "Endocrinology, Diabetology), Medical Faculty Mannheim, University of Heidelberg, \n",
      "Theodor-Kutzer-Ufer1, 68167, Mannheim, Germany.\n",
      "(52)Clinical Institute of Medical and Chemical Laboratory Diagnostics, Medical\n",
      "University of Graz, Auenbruggerplatz 15, 8036, Graz, Graz, Austria.\n",
      "(53)SYNLAB Holding Deutschland GmbH, Gubener Straße 39, 86156, Augsburg, Germany.\n",
      "(54)Division of Nephrology and Kidney Research Institute, University of\n",
      "Washington, 325 ninth Avenue, Washington, DC, 98104, USA.\n",
      "(55)USDA/ARS Children's Nutrition Research Center, 1100 Bates Avenue, Houston,\n",
      "TX, 77071, USA.\n",
      "(56)Institute for Translational Genomics and Population Sciences, Los Angeles\n",
      "Biomedical Research Institute and Department of Pediatrics, Harbor-UCLA Medical\n",
      "Center, Torrance, CA, 90502, USA.\n",
      "(57)Department of Public Health Sciences, University of Virginia,\n",
      "Charlottesville, VA, 22908, USA.\n",
      "(58)Center for Public Health Genomics, University of Virginia, Charlottesville,\n",
      "VA, 22908, USA.\n",
      "(59)Division of Nephrology, Department of Medicine, Vanderbilt University Medical\n",
      "Center, 1161 21st Ave S., Nashville, TN, 37232, USA.\n",
      "(60)Erasmus MC Department of Internal Medicine, Postbus 2040, 3000CA, Rotterdam, \n",
      "The Netherlands.\n",
      "(61)Epidemiology and Biostatistics School of Public Health, Imperial College\n",
      "London, 156 Norfolk Place, St. Mary's Campus, London, UK W2 1PG, UK.\n",
      "(62)Center for Life Course Health Research, Faculty of Medicine, University of\n",
      "Oulu, 90014, Oulu, Finland.\n",
      "(63)Biocenter Oulu, University of Oulu, P.O. Box 5000, Aapistie 5A, FI-90014,\n",
      "Finland.\n",
      "(64)Unit of Primary Care, Oulu University Hospital, Kajaanintie 50, P.O. Box 20, \n",
      "FI-90220 Oulu, 90029 OYS, Finland.\n",
      "(65)Centre for Environmental and Preventive Medicine, Wolfson Institute of\n",
      "Preventive Medicine, Barts and The London School of Medicine and Dentistry, Queen\n",
      "Mary University of London, Charterhouse Square, London, EC1M 6BQ, UK.\n",
      "(66)Centre for Global Health Research, Usher Institute for Population Health\n",
      "Sciences and Informatics, University of Edinburgh, Teviot Place, Edinburgh, EH8\n",
      "9AG, UK.\n",
      "(67)MRC Human Genetics Unit, MRC Institute of Genetics & Molecular Medicine, the \n",
      "University of Edinburgh, Western General Hospital, Edinburgh, EH4 2XU, UK.\n",
      "(68)Department of Surgical Sciences, Uppsala University, Dag Hammarskjöldsv 14 B,\n",
      "Uppsala Science Park, 751 85, Uppsala, Sweden.\n",
      "(69)Department of Cardiology, Leiden University Medical Center, Albinusdreef 2,\n",
      "2333 ZA, Leiden, Netherlands.\n",
      "(70)Department of Public Health and Primary Care, Institute of Population Health,\n",
      "Trinity College Dublin, University of Dublin, Dublin 24, D02 PN40, Ireland.\n",
      "(71)Institute of Genetics and Molecular Medicine, University of Edinburgh,\n",
      "Western General Hospital, Edinburgh, EH4 2XU, UK.\n",
      "(72)The Department of Twin Research & Genetic Epidemiology, King's College\n",
      "London, St Thomas' Campus, Westminster Bridge Road, London, SE1 7EH, UK.\n",
      "(73)School of Medicine, University of Nottingham, City Hospital, Hucknall Rd,\n",
      "Nottingham, NG5 1PB, UK.\n",
      "(74)FIMM-Institute for Molecular Medicine Finland, University of Helsinki,\n",
      "Helsinki, P.O. Box 20, FI-00014, Finland.\n",
      "(75)Department of Clinical Chemistry, Fimlab Laboratories, Tampere, 33520,\n",
      "Finland.\n",
      "(76)Department of Clinical Chemistry, Finnish Cardiovascular Research Center\n",
      "Tampere, Faculty of Medicine and Life Sciences, University of Tampere, Tampere,\n",
      "33014, Finland.\n",
      "(77)Department of Clinical Physiology, Tampere University Hospital, Tampere,\n",
      "33521, Finland.\n",
      "(78)Department of Clinical Physiology, Finnish Cardiovascular Research Center\n",
      "Tampere, Faculty of Medicine and Life Sciences, University of Tampere, Tampere,\n",
      "33014, Finland.\n",
      "(79)Department of Clinical Physiology and Nuclear Medicine, Turku University\n",
      "Hospital, Turku, 20521, Finland.\n",
      "(80)Research Centre of Applied and Preventive Cardiovascular Medicine, University\n",
      "of Turku, Turku, 20014, Finland.\n",
      "(81)Science Adviser at Academy of Finland, Hakaniemenranta 6, PO Box 131,\n",
      "FI-00531, Helsinki, Finland.\n",
      "(82)BHF Glasgow Cardiovascular Research Centre, Faculty of Medicine, University\n",
      "Avenue, Glasgow, G12 8QQ, UK.\n",
      "(83)Einthoven Laboratory for Experimental Vascular Medicine, Leiden University\n",
      "Medical Center, Albinusdreef 2, 2333 ZA, Leiden, The Netherlands.\n",
      "(84)Vitas AS, Gaustadaleen 21, N-0349, Oslo, Norway.\n",
      "(85)Wellcome Trust Sanger Institute, Wellcome Genome Campus, Hinxton, Cambridge, \n",
      "CB10 1SA, UK.\n",
      "(86)Division of Cardiovascular Medicine, Vanderbilt Heart and Vascular Institute,\n",
      "2220 Pierce Avenue 383 Preston Research Building, Nashville, TN, 37232-6300, USA.\n",
      "(87)Population, Policy and Practice, University College London, Great Ormond\n",
      "Street, Institute of Child Health, London, WC1E 6BT, UK.\n",
      "elina.hypponen@unisa.edu.au.\n",
      "(88)Centre for Population Health Research, Sansom Institute for Health Research, \n",
      "University of South Australia, Adelaide, 5001, SA, Australia.\n",
      "elina.hypponen@unisa.edu.au.\n",
      "(89)Institute for Aging Research, Hebrew SeniorLife, 1200 Centre Street, Boston, \n",
      "MA, 02131, USA. kiel@hsl.harvard.edu.\n",
      "(90)Department of Medicine, Beth Israel Deaconess Medical Center and Harvard\n",
      "Medical School, Boston, MA, 02115, USA. kiel@hsl.harvard.edu.\n",
      "(91)Broad Institute of Harvard and Massachusetts Institute of Technology, Boston,\n",
      "MA, 02142, USA. kiel@hsl.harvard.edu.\n",
      "\n",
      "Vitamin D is a steroid hormone precursor that is associated with a range of human\n",
      "traits and diseases. Previous GWAS of serum 25-hydroxyvitamin D concentrations\n",
      "have identified four genome-wide significant loci (GC, NADSYN1/DHCR7, CYP2R1,\n",
      "CYP24A1). In this study, we expand the previous SUNLIGHT Consortium GWAS\n",
      "discovery sample size from 16,125 to 79,366 (all European descent). This larger\n",
      "GWAS yields two additional loci harboring genome-wide significant variants\n",
      "(P = 4.7×10-9 at rs8018720 in SEC23A, and P = 1.9×10-14 at rs10745742 in AMDHD1).\n",
      "The overall estimate of heritability of 25-hydroxyvitamin D serum concentrations \n",
      "attributable to GWAS common SNPs is 7.5%, with statistically significant loci\n",
      "explaining 38% of this total. Further investigation identifies signal enrichment \n",
      "in immune and hematopoietic tissues, and clustering with autoimmune diseases in\n",
      "cell-type-specific analysis. Larger studies are required to identify additional\n",
      "common SNPs, and to explore the role of rare or structural variants and gene-gene\n",
      "interactions in the heritability of circulating 25-hydroxyvitamin D levels.\n",
      "\n",
      "DOI: 10.1038/s41467-017-02662-2 \n",
      "PMCID: PMC5772647\n",
      "PMID: 29343764\n"
     ]
    }
   ],
   "source": [
    "print(abstracts_length.iloc[0,0])"
   ]
  },
  {
   "cell_type": "markdown",
   "metadata": {},
   "source": [
    "The abstracts are so extremely long because a lot of authors are part of the study and all of them and their universities are listes. The split worked properly."
   ]
  },
  {
   "cell_type": "code",
   "execution_count": 10,
   "metadata": {},
   "outputs": [
    {
     "data": {
      "image/png": "[encoded data removed]",
      "text/plain": [
       "<Figure size 720x720 with 1 Axes>"
      ]
     },
     "metadata": {},
     "output_type": "display_data"
    }
   ],
   "source": [
    "plt.figure(figsize=(10,10))\n",
    "plt.hist(abstracts['abstract_length'], bins=1000)\n",
    "plt.xlabel('length of abstracts')\n",
    "plt.ylabel('number of abstracts')\n",
    "plt.xlim(0,6000)\n",
    "plt.ylim(0,1500)\n",
    "plt.xticks(np.arange(0, 6000, 500.0))\n",
    "plt.show()"
   ]
  },
  {
   "cell_type": "markdown",
   "metadata": {},
   "source": [
    "There are so many extremely short abstracts that a big peak is obvious. This peak needs to be removed. Cut-off is set at a minimum length of 500 characters.\n",
    "The really long abstracts were cut-off in this graph to have a better visualisation of the peaks."
   ]
  },
  {
   "cell_type": "code",
   "execution_count": 11,
   "metadata": {},
   "outputs": [],
   "source": [
    "abstracts = abstracts[abstracts['abstract_length'] > 500]"
   ]
  },
  {
   "cell_type": "code",
   "execution_count": 12,
   "metadata": {},
   "outputs": [
    {
     "data": {
      "image/png": "[encoded data removed]",
      "text/plain": [
       "<Figure size 720x720 with 1 Axes>"
      ]
     },
     "metadata": {},
     "output_type": "display_data"
    }
   ],
   "source": [
    "plt.figure(figsize=(10,10))\n",
    "plt.hist(abstracts['abstract_length'], bins=1000)\n",
    "plt.xlabel('length of abstracts')\n",
    "plt.ylabel('number of abstracts')\n",
    "plt.xlim(0,6000)\n",
    "plt.ylim(0,1500)\n",
    "plt.xticks(np.arange(0, 6000, 500.0))\n",
    "plt.show()"
   ]
  },
  {
   "cell_type": "code",
   "execution_count": 13,
   "metadata": {},
   "outputs": [],
   "source": [
    "abstracts.drop('abstract_length', axis=1, inplace=True)"
   ]
  },
  {
   "cell_type": "markdown",
   "metadata": {},
   "source": [
    "### Formatting the abstracts\n",
    "- the numbering is removed\n",
    "- the new lines are removed"
   ]
  },
  {
   "cell_type": "code",
   "execution_count": 14,
   "metadata": {},
   "outputs": [],
   "source": [
    "# remove numbering (for details see file 'text_to_dataframe')\n",
    "abstracts['abstract'] = abstracts['abstract'].str.replace('(\\n+\\d+\\.)', '')\n",
    "\n",
    "# whitespaces in the beginning are stripped\n",
    "abstracts['abstract'] = abstracts['abstract'].str.lstrip()"
   ]
  },
  {
   "cell_type": "code",
   "execution_count": 15,
   "metadata": {},
   "outputs": [],
   "source": [
    "abstracts['abstract'] = abstracts['abstract'].str.replace('\\n+', ' ')\n",
    "abstracts['abstract'] = abstracts['abstract'].str.replace('\\s+', ' ')"
   ]
  },
  {
   "cell_type": "code",
   "execution_count": 16,
   "metadata": {},
   "outputs": [],
   "source": [
    "abstracts.to_csv('../data/cleaned_abstracts.csv')"
   ]
  },
  {
   "cell_type": "markdown",
   "metadata": {},
   "source": [
    "### Getting only the abstracts that contain signifi*\n",
    "- signifi* = significance, significant, significantly\n",
    "- since significa* can start with a capital letter, all letters are made lower case\n",
    "- every row with the abstract containing a variation of signifi* is pulled\n",
    "- abstracts that just contain \"significance:\" as to explain the significance of the paper and not the results are removed"
   ]
  },
  {
   "cell_type": "code",
   "execution_count": 17,
   "metadata": {},
   "outputs": [
    {
     "name": "stdout",
     "output_type": "stream",
     "text": [
      "Number of abstracts: 25083\n"
     ]
    }
   ],
   "source": [
    "abstracts['abstract'] = abstracts['abstract'].str.lower()\n",
    "abstracts = abstracts[abstracts.abstract.str.contains('signifi\\D+') == True]\n",
    "print(f'Number of abstracts: {len(abstracts)}')"
   ]
  },
  {
   "cell_type": "code",
   "execution_count": 18,
   "metadata": {},
   "outputs": [
    {
     "name": "stdout",
     "output_type": "stream",
     "text": [
      "Remaining abstracts: 24982\n"
     ]
    }
   ],
   "source": [
    "abstracts = abstracts[abstracts.abstract.str.contains('significance:') == False]\n",
    "print(f'Remaining abstracts: {len(abstracts)}')"
   ]
  },
  {
   "cell_type": "code",
   "execution_count": 19,
   "metadata": {},
   "outputs": [],
   "source": [
    "abstracts.reset_index(drop=True, inplace=True)"
   ]
  },
  {
   "cell_type": "markdown",
   "metadata": {},
   "source": [
    "### Labelling the abstracts\n",
    "- possible labels for 'significant' are: 'yes', 'no', 'both'\n",
    "- filters are used to label as many abstracts as possible\n",
    "    - abstracts containing no/not/non-signifi* are labelled as 'no'\n",
    "    - unlabelled abstracts are checked by hand to generate the filter for 'yes' and improve the filter for 'no'\n",
    "    - filter for 'yes' and 'no' are combined to gererate filter for 'both'\n",
    "- the labelled data will be used to train a model, to predict the labels for the unlabelled data"
   ]
  },
  {
   "cell_type": "code",
   "execution_count": 20,
   "metadata": {},
   "outputs": [],
   "source": [
    "abstracts['significant'] = np.zeros((len(abstracts), 1))"
   ]
  },
  {
   "cell_type": "code",
   "execution_count": 21,
   "metadata": {},
   "outputs": [],
   "source": [
    "no = r'no signifi|not signifi|non-signifi|did not vary signifi|any signifi|not statistically signifi|without signifi'\n",
    "abstracts['significant'][abstracts['abstract'].str.contains(no)] = 'no'"
   ]
  },
  {
   "cell_type": "code",
   "execution_count": 22,
   "metadata": {},
   "outputs": [],
   "source": [
    "yes = r'were signific|a signifi|was signifi|highly signifi|very signifi|significantly \\D+ed\\\n",
    "|more signifi|most signifi|less signifi|\\D+ed signifi\\D+|direct signifi|signifi\\D+ associat\\D+|\\D+s signifi\\\n",
    "had signifi'\n",
    "abstracts['significant'][abstracts['abstract'].str.contains(yes)] = 'yes'"
   ]
  },
  {
   "cell_type": "code",
   "execution_count": 23,
   "metadata": {},
   "outputs": [],
   "source": [
    "abstracts['significant'][(abstracts['abstract'].str.contains(yes)) & (abstracts['abstract'].str.contains(no))] = 'both'"
   ]
  },
  {
   "cell_type": "markdown",
   "metadata": {},
   "source": [
    "### Result of by-hand labelling"
   ]
  },
  {
   "cell_type": "code",
   "execution_count": 24,
   "metadata": {},
   "outputs": [
    {
     "data": {
      "text/html": [
       "<div>\n",
       "<style scoped>\n",
       "    .dataframe tbody tr th:only-of-type {\n",
       "        vertical-align: middle;\n",
       "    }\n",
       "\n",
       "    .dataframe tbody tr th {\n",
       "        vertical-align: top;\n",
       "    }\n",
       "\n",
       "    .dataframe thead th {\n",
       "        text-align: right;\n",
       "    }\n",
       "</style>\n",
       "<table border=\"1\" class=\"dataframe\">\n",
       "  <thead>\n",
       "    <tr style=\"text-align: right;\">\n",
       "      <th></th>\n",
       "      <th>abstract</th>\n",
       "    </tr>\n",
       "    <tr>\n",
       "      <th>significant</th>\n",
       "      <th></th>\n",
       "    </tr>\n",
       "  </thead>\n",
       "  <tbody>\n",
       "    <tr>\n",
       "      <th>0.0</th>\n",
       "      <td>3905</td>\n",
       "    </tr>\n",
       "    <tr>\n",
       "      <th>both</th>\n",
       "      <td>4180</td>\n",
       "    </tr>\n",
       "    <tr>\n",
       "      <th>no</th>\n",
       "      <td>2036</td>\n",
       "    </tr>\n",
       "    <tr>\n",
       "      <th>yes</th>\n",
       "      <td>14861</td>\n",
       "    </tr>\n",
       "  </tbody>\n",
       "</table>\n",
       "</div>"
      ],
      "text/plain": [
       "             abstract\n",
       "significant          \n",
       "0.0              3905\n",
       "both             4180\n",
       "no               2036\n",
       "yes             14861"
      ]
     },
     "execution_count": 24,
     "metadata": {},
     "output_type": "execute_result"
    }
   ],
   "source": [
    "abstracts.groupby('significant').count()"
   ]
  },
  {
   "cell_type": "code",
   "execution_count": 25,
   "metadata": {},
   "outputs": [
    {
     "name": "stdout",
     "output_type": "stream",
     "text": [
      "21357 abstracts (85.0 %) could successfully be labelled succesfully\n",
      "3625 abstracts (15.0 %) could not be labelled\n"
     ]
    }
   ],
   "source": [
    "print(f'{len(abstracts)-3625} abstracts ({np.round((len(abstracts)-3625)/len(abstracts)*100)} %) could successfully be \\\n",
    "labelled succesfully')\n",
    "print(f'3625 abstracts ({np.round(3625/len(abstracts)*100)} %) could not be labelled')"
   ]
  },
  {
   "cell_type": "markdown",
   "metadata": {},
   "source": [
    "# Saving the data to csv"
   ]
  },
  {
   "cell_type": "code",
   "execution_count": 26,
   "metadata": {},
   "outputs": [],
   "source": [
    "abstracts.to_csv('../data/labelled_data.csv')"
   ]
  },
  {
   "cell_type": "markdown",
   "metadata": {},
   "source": [
    "# Breast cancer as an example"
   ]
  },
  {
   "cell_type": "code",
   "execution_count": 27,
   "metadata": {},
   "outputs": [],
   "source": [
    "abstracts_lower = abstracts.copy()\n",
    "abstracts_lower['abstract'] = abstracts_lower.abstract.str.lower()"
   ]
  },
  {
   "cell_type": "code",
   "execution_count": 28,
   "metadata": {},
   "outputs": [],
   "source": [
    "signifi = abstracts_lower[abstracts_lower.abstract.str.contains('signifi') == True]\n",
    "signifi = signifi[signifi.abstract.str.contains('significance:') == False]\n",
    "breast_cancer = signifi[signifi.abstract.str.contains('breast cancer|mammary carcinoma') == True]\n",
    "breast_cancer.reset_index(drop=True, inplace=True)"
   ]
  },
  {
   "cell_type": "code",
   "execution_count": 29,
   "metadata": {},
   "outputs": [
    {
     "data": {
      "text/plain": [
       "534"
      ]
     },
     "execution_count": 29,
     "metadata": {},
     "output_type": "execute_result"
    }
   ],
   "source": [
    "len(breast_cancer)"
   ]
  },
  {
   "cell_type": "code",
   "execution_count": 30,
   "metadata": {},
   "outputs": [],
   "source": [
    "breast_cancer['significant'] = np.zeros((len(breast_cancer), 1))"
   ]
  },
  {
   "cell_type": "code",
   "execution_count": 31,
   "metadata": {},
   "outputs": [],
   "source": [
    "no = r'no signifi|not signifi|non-signifi|did not vary signifi|any signifi|not statistically signifi|without signifi\\\n",
    "|no longer significant'\n",
    "breast_cancer['significant'][breast_cancer['abstract'].str.contains(no)] = 'no'"
   ]
  },
  {
   "cell_type": "code",
   "execution_count": 32,
   "metadata": {},
   "outputs": [],
   "source": [
    "yes = r'were signific|a signifi|was signifi|highly signifi|very signifi|significantly \\D+ed\\\n",
    "|more signifi|most signifi|less signifi|\\D+ed signifi\\D+|direct signifi|signifi\\D+ associat\\D+|\\D+s signifi|\\\n",
    "had signifi'\n",
    "breast_cancer['significant'][breast_cancer['abstract'].str.contains(yes)] = 'yes'"
   ]
  },
  {
   "cell_type": "code",
   "execution_count": 33,
   "metadata": {},
   "outputs": [],
   "source": [
    "breast_cancer['significant'][(breast_cancer['abstract'].str.contains(yes)) & (breast_cancer['abstract'].str.contains(no))] = 'both'"
   ]
  },
  {
   "cell_type": "code",
   "execution_count": 34,
   "metadata": {},
   "outputs": [
    {
     "data": {
      "text/html": [
       "<div>\n",
       "<style scoped>\n",
       "    .dataframe tbody tr th:only-of-type {\n",
       "        vertical-align: middle;\n",
       "    }\n",
       "\n",
       "    .dataframe tbody tr th {\n",
       "        vertical-align: top;\n",
       "    }\n",
       "\n",
       "    .dataframe thead th {\n",
       "        text-align: right;\n",
       "    }\n",
       "</style>\n",
       "<table border=\"1\" class=\"dataframe\">\n",
       "  <thead>\n",
       "    <tr style=\"text-align: right;\">\n",
       "      <th></th>\n",
       "      <th>abstract</th>\n",
       "    </tr>\n",
       "    <tr>\n",
       "      <th>significant</th>\n",
       "      <th></th>\n",
       "    </tr>\n",
       "  </thead>\n",
       "  <tbody>\n",
       "    <tr>\n",
       "      <th>0.0</th>\n",
       "      <td>76</td>\n",
       "    </tr>\n",
       "    <tr>\n",
       "      <th>both</th>\n",
       "      <td>95</td>\n",
       "    </tr>\n",
       "    <tr>\n",
       "      <th>no</th>\n",
       "      <td>44</td>\n",
       "    </tr>\n",
       "    <tr>\n",
       "      <th>yes</th>\n",
       "      <td>319</td>\n",
       "    </tr>\n",
       "  </tbody>\n",
       "</table>\n",
       "</div>"
      ],
      "text/plain": [
       "             abstract\n",
       "significant          \n",
       "0.0                76\n",
       "both               95\n",
       "no                 44\n",
       "yes               319"
      ]
     },
     "execution_count": 34,
     "metadata": {},
     "output_type": "execute_result"
    }
   ],
   "source": [
    "count = breast_cancer.groupby('significant').count()\n",
    "count"
   ]
  },
  {
   "cell_type": "code",
   "execution_count": 35,
   "metadata": {},
   "outputs": [
    {
     "name": "stdout",
     "output_type": "stream",
     "text": [
      "458 abstracts (86.0 %) could successfully be labelled succesfully\n",
      "76 abstracts (14.0 %) could not be labelled\n"
     ]
    }
   ],
   "source": [
    "print(f'{len(breast_cancer)-count.iloc[0,0]} abstracts ({np.round((len(breast_cancer)-count.iloc[0,0])/\\\n",
    "len(breast_cancer)*100)} %) could successfully be labelled succesfully')\n",
    "print(f'{count.iloc[0,0]} abstracts ({np.round(count.iloc[0,0]/len(breast_cancer)*100)} %) could not be labelled')"
   ]
  }
 ],
 "metadata": {
  "kernelspec": {
   "display_name": "Python 3",
   "language": "python",
   "name": "python3"
  },
  "language_info": {
   "codemirror_mode": {
    "name": "ipython",
    "version": 3
   },
   "file_extension": ".py",
   "mimetype": "text/x-python",
   "name": "python",
   "nbconvert_exporter": "python",
   "pygments_lexer": "ipython3",
   "version": "3.6.5"
  }
 },
 "nbformat": 4,
 "nbformat_minor": 2
}
