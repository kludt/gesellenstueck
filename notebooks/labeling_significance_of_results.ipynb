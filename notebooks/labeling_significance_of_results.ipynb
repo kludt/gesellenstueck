{
 "cells": [
  {
   "cell_type": "code",
   "execution_count": 1,
   "metadata": {},
   "outputs": [],
   "source": [
    "import pandas as pd\n",
    "import numpy as np\n",
    "import matplotlib.pyplot as plt"
   ]
  },
  {
   "cell_type": "code",
   "execution_count": 2,
   "metadata": {},
   "outputs": [],
   "source": [
    "pd.options.mode.chained_assignment = None"
   ]
  },
  {
   "cell_type": "code",
   "execution_count": 3,
   "metadata": {},
   "outputs": [],
   "source": [
    "abstracts = pd.read_csv('../data/abstracts_df.csv', index_col=0)"
   ]
  },
  {
   "cell_type": "code",
   "execution_count": 4,
   "metadata": {},
   "outputs": [
    {
     "data": {
      "text/html": [
       "<div>\n",
       "<style scoped>\n",
       "    .dataframe tbody tr th:only-of-type {\n",
       "        vertical-align: middle;\n",
       "    }\n",
       "\n",
       "    .dataframe tbody tr th {\n",
       "        vertical-align: top;\n",
       "    }\n",
       "\n",
       "    .dataframe thead th {\n",
       "        text-align: right;\n",
       "    }\n",
       "</style>\n",
       "<table border=\"1\" class=\"dataframe\">\n",
       "  <thead>\n",
       "    <tr style=\"text-align: right;\">\n",
       "      <th></th>\n",
       "      <th>abstract</th>\n",
       "    </tr>\n",
       "  </thead>\n",
       "  <tbody>\n",
       "    <tr>\n",
       "      <th>0</th>\n",
       "      <td>\\n1. Bone. 2018 Sep 24. pii: S8756-3282(18)303...</td>\n",
       "    </tr>\n",
       "    <tr>\n",
       "      <th>1</th>\n",
       "      <td>\\n\\n\\n2. Neurosci Lett. 2018 Sep 24. pii: S03...</td>\n",
       "    </tr>\n",
       "    <tr>\n",
       "      <th>2</th>\n",
       "      <td>\\n\\n\\n3. Antivir Ther. 2018 Sep 27. doi: 10.3...</td>\n",
       "    </tr>\n",
       "    <tr>\n",
       "      <th>3</th>\n",
       "      <td>\\n\\n\\n4. Fetal Pediatr Pathol. 2018 Sep 27:1-...</td>\n",
       "    </tr>\n",
       "    <tr>\n",
       "      <th>4</th>\n",
       "      <td>\\n\\n\\n5. Clin Exp Immunol. 2018 Oct;194(1):17...</td>\n",
       "    </tr>\n",
       "  </tbody>\n",
       "</table>\n",
       "</div>"
      ],
      "text/plain": [
       "                                            abstract\n",
       "0  \\n1. Bone. 2018 Sep 24. pii: S8756-3282(18)303...\n",
       "1   \\n\\n\\n2. Neurosci Lett. 2018 Sep 24. pii: S03...\n",
       "2   \\n\\n\\n3. Antivir Ther. 2018 Sep 27. doi: 10.3...\n",
       "3   \\n\\n\\n4. Fetal Pediatr Pathol. 2018 Sep 27:1-...\n",
       "4   \\n\\n\\n5. Clin Exp Immunol. 2018 Oct;194(1):17..."
      ]
     },
     "execution_count": 4,
     "metadata": {},
     "output_type": "execute_result"
    }
   ],
   "source": [
    "abstracts.head()"
   ]
  },
  {
   "cell_type": "markdown",
   "metadata": {},
   "source": [
    "### removing short abstracts\n",
    "- very old abstracts (from the beginning of the 20th century) are only indexed and do not contain an abstract, just a title and authors\n",
    "    - have no valuable information\n",
    "    - can be cut by removing abstracts that don't meet a certain length\n",
    "- the column with the abstract lengths is dropped at the end because it is not needed anymore"
   ]
  },
  {
   "cell_type": "code",
   "execution_count": 5,
   "metadata": {},
   "outputs": [],
   "source": [
    "abstracts['abstract_length'] = abstracts.abstract.str.len()"
   ]
  },
  {
   "cell_type": "code",
   "execution_count": 6,
   "metadata": {},
   "outputs": [
    {
     "data": {
      "image/png": "[encoded data removed]",
      "text/plain": [
       "<Figure size 720x720 with 1 Axes>"
      ]
     },
     "metadata": {},
     "output_type": "display_data"
    }
   ],
   "source": [
    "plt.figure(figsize=(10,10))\n",
    "plt.hist(abstracts['abstract_length'], bins=1000)\n",
    "plt.xlabel('length of abstracts')\n",
    "plt.ylabel('number of abstracts')\n",
    "plt.xticks(np.arange(0, 16000, 1000.0))\n",
    "plt.show()"
   ]
  },
  {
   "cell_type": "markdown",
   "metadata": {},
   "source": [
    "There are so many extremely short abstracts that a big peak is obvious. This peak needs to be removed. Cut-off is set at a minimum length of 500 characters."
   ]
  },
  {
   "cell_type": "code",
   "execution_count": 7,
   "metadata": {},
   "outputs": [],
   "source": [
    "abstracts = abstracts[abstracts['abstract_length'] > 500]\n",
    "abstracts.drop('abstract_length', axis=1, inplace=True)"
   ]
  },
  {
   "cell_type": "markdown",
   "metadata": {},
   "source": [
    "### Formatting the abstracts\n",
    "- the numbering is removed\n",
    "- the new lines are removed"
   ]
  },
  {
   "cell_type": "code",
   "execution_count": 8,
   "metadata": {},
   "outputs": [],
   "source": [
    "# remove numbering (for details see file 'text_to_dataframe')\n",
    "abstracts['abstract'] = abstracts['abstract'].str.replace('(\\n+\\d+\\.)', '')\n",
    "\n",
    "# whitespaces in the beginning are stripped\n",
    "abstracts['abstract'] = abstracts['abstract'].str.lstrip()"
   ]
  },
  {
   "cell_type": "code",
   "execution_count": 9,
   "metadata": {},
   "outputs": [],
   "source": [
    "abstracts['abstract'] = abstracts['abstract'].str.replace('\\n+', ' ')\n",
    "abstracts['abstract'] = abstracts['abstract'].str.replace('\\s+', ' ')"
   ]
  },
  {
   "cell_type": "markdown",
   "metadata": {},
   "source": [
    "### Getting only the abstracts that contain signifi*\n",
    "- signifi* = significance, significant, significantly\n",
    "- since significa* can start with a capital letter, all letters are made lower case\n",
    "- every row with the abstract containing a variation of signifi* is pulled\n",
    "- abstracts that just contain \"significance:\" as to explain the significance of the paper and not the results are removed"
   ]
  },
  {
   "cell_type": "code",
   "execution_count": 10,
   "metadata": {},
   "outputs": [
    {
     "name": "stdout",
     "output_type": "stream",
     "text": [
      "Number of abstracts: 25083\n"
     ]
    }
   ],
   "source": [
    "abstracts['abstract'] = abstracts['abstract'].str.lower()\n",
    "abstracts = abstracts[abstracts.abstract.str.contains('signifi\\D+') == True]\n",
    "print(f'Number of abstracts: {len(abstracts)}')"
   ]
  },
  {
   "cell_type": "code",
   "execution_count": 11,
   "metadata": {},
   "outputs": [
    {
     "name": "stdout",
     "output_type": "stream",
     "text": [
      "Remaining abstracts: 24982\n"
     ]
    }
   ],
   "source": [
    "abstracts = abstracts[abstracts.abstract.str.contains('significance:') == False]\n",
    "print(f'Remaining abstracts: {len(abstracts)}')"
   ]
  },
  {
   "cell_type": "code",
   "execution_count": 12,
   "metadata": {},
   "outputs": [],
   "source": [
    "abstracts.reset_index(drop=True, inplace=True)"
   ]
  },
  {
   "cell_type": "markdown",
   "metadata": {},
   "source": [
    "### Labelling the abstracts\n",
    "- possible labels for 'significant' are: 'yes', 'no', 'both'\n",
    "- filters are used to label as many abstracts as possible\n",
    "    - abstracts containing no/not/non-signifi* are labelled as 'no'\n",
    "    - unlabelled abstracts are checked by hand to generate the filter for 'yes'\n",
    "    - filter for 'yes' and 'no' are combined to gererate filter for 'both'\n",
    "- the labelled data will be used to train a model, to predict the labels for the unlabelled data"
   ]
  },
  {
   "cell_type": "code",
   "execution_count": 13,
   "metadata": {},
   "outputs": [],
   "source": [
    "abstracts['significant'] = np.zeros((len(abstracts), 1))"
   ]
  },
  {
   "cell_type": "code",
   "execution_count": 14,
   "metadata": {},
   "outputs": [],
   "source": [
    "no = r'no signifi|not signifi|non-signifi|did not vary signifi|any signifi|not statistically signifi|without signifi'\n",
    "abstracts['significant'][abstracts['abstract'].str.contains(no)] = 'no'"
   ]
  },
  {
   "cell_type": "code",
   "execution_count": 15,
   "metadata": {},
   "outputs": [],
   "source": [
    "yes = r'were signific|a signifi|was signifi|highly signifi|very signifi|significantly \\D+ed\\\n",
    "|more signifi|most signifi|less signifi|\\D+ed signifi\\D+|direct signifi|signifi\\D+ associat\\D+|\\D+s signifi'\n",
    "abstracts['significant'][abstracts['abstract'].str.contains(yes)] = 'yes'"
   ]
  },
  {
   "cell_type": "code",
   "execution_count": 16,
   "metadata": {},
   "outputs": [],
   "source": [
    "abstracts['significant'][(abstracts['abstract'].str.contains(yes)) & (abstracts['abstract'].str.contains(no))] = 'both'"
   ]
  },
  {
   "cell_type": "markdown",
   "metadata": {},
   "source": [
    "### Result of by-hand labelling"
   ]
  },
  {
   "cell_type": "code",
   "execution_count": 17,
   "metadata": {},
   "outputs": [
    {
     "data": {
      "text/html": [
       "<div>\n",
       "<style scoped>\n",
       "    .dataframe tbody tr th:only-of-type {\n",
       "        vertical-align: middle;\n",
       "    }\n",
       "\n",
       "    .dataframe tbody tr th {\n",
       "        vertical-align: top;\n",
       "    }\n",
       "\n",
       "    .dataframe thead th {\n",
       "        text-align: right;\n",
       "    }\n",
       "</style>\n",
       "<table border=\"1\" class=\"dataframe\">\n",
       "  <thead>\n",
       "    <tr style=\"text-align: right;\">\n",
       "      <th></th>\n",
       "      <th>abstract</th>\n",
       "    </tr>\n",
       "    <tr>\n",
       "      <th>significant</th>\n",
       "      <th></th>\n",
       "    </tr>\n",
       "  </thead>\n",
       "  <tbody>\n",
       "    <tr>\n",
       "      <th>0.0</th>\n",
       "      <td>3625</td>\n",
       "    </tr>\n",
       "    <tr>\n",
       "      <th>both</th>\n",
       "      <td>4203</td>\n",
       "    </tr>\n",
       "    <tr>\n",
       "      <th>no</th>\n",
       "      <td>2013</td>\n",
       "    </tr>\n",
       "    <tr>\n",
       "      <th>yes</th>\n",
       "      <td>15141</td>\n",
       "    </tr>\n",
       "  </tbody>\n",
       "</table>\n",
       "</div>"
      ],
      "text/plain": [
       "             abstract\n",
       "significant          \n",
       "0.0              3625\n",
       "both             4203\n",
       "no               2013\n",
       "yes             15141"
      ]
     },
     "execution_count": 17,
     "metadata": {},
     "output_type": "execute_result"
    }
   ],
   "source": [
    "abstracts.groupby('significant').count()"
   ]
  },
  {
   "cell_type": "code",
   "execution_count": 18,
   "metadata": {},
   "outputs": [
    {
     "name": "stdout",
     "output_type": "stream",
     "text": [
      "21357 abstracts (85.0 %) could successfully be labelled succesfully\n",
      "3625 abstracts (15.0 %) could not be labelled\n"
     ]
    }
   ],
   "source": [
    "print(f'{len(abstracts)-3625} abstracts ({np.round((len(abstracts)-3625)/len(abstracts)*100)} %) could successfully be \\\n",
    "labelled succesfully')\n",
    "print(f'3625 abstracts ({np.round(3625/len(abstracts)*100)} %) could not be labelled')"
   ]
  },
  {
   "cell_type": "code",
   "execution_count": null,
   "metadata": {},
   "outputs": [],
   "source": []
  }
 ],
 "metadata": {
  "kernelspec": {
   "display_name": "Python 3",
   "language": "python",
   "name": "python3"
  },
  "language_info": {
   "codemirror_mode": {
    "name": "ipython",
    "version": 3
   },
   "file_extension": ".py",
   "mimetype": "text/x-python",
   "name": "python",
   "nbconvert_exporter": "python",
   "pygments_lexer": "ipython3",
   "version": "3.6.5"
  }
 },
 "nbformat": 4,
 "nbformat_minor": 2
}
