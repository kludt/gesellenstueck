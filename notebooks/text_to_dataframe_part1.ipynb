{
 "cells": [
  {
   "cell_type": "markdown",
   "metadata": {},
   "source": [
    "As data abstracts from PubMed (https://www.ncbi.nlm.nih.gov/pubmed/) are used. The search parameter was 'vitamin d'. The data is pure text and is to be transformed into a Pandas DataFrame."
   ]
  },
  {
   "cell_type": "code",
   "execution_count": 1,
   "metadata": {},
   "outputs": [],
   "source": [
    "import re\n",
    "import pandas as pd\n",
    "import numpy as np\n",
    "import matplotlib.pyplot as plt\n",
    "\n",
    "pd.options.mode.chained_assignment = None"
   ]
  },
  {
   "cell_type": "code",
   "execution_count": 2,
   "metadata": {},
   "outputs": [],
   "source": [
    "with open('../data/pubmed_result.txt', 'r', encoding=\"latin1\") as myfile:\n",
    "    data = myfile.read()\n",
    "\n",
    "test_slice = data[:8331]"
   ]
  },
  {
   "cell_type": "code",
   "execution_count": 3,
   "metadata": {},
   "outputs": [
    {
     "name": "stdout",
     "output_type": "stream",
     "text": [
      "\n",
      "1. Bone. 2018 Sep 24. pii: S8756-3282(18)30355-7. doi: 10.1016/j.bone.2018.09.017.\n",
      "[Epub ahead of print]\n",
      "\n",
      "Quality of life in hypoparathyroidism.\n",
      "\n",
      "Vokes T(1).\n",
      "\n",
      "Author information: \n",
      "(1)The University of Chicago, Chicago, IL, United States. Electronic address:\n",
      "tvokes@medicine.bsd.uchicago.edu.\n",
      "\n",
      "Hypoparathyroidism is a rare endocrine disorder where deficiency (or lack of\n",
      "effect) of parathyroid hormone results in disordered mineral metabolism leading\n",
      "to hypocalcemia and hyperphosphatemia. Many patients with this disorder have\n",
      "physical, emotional and cognitive complaints suggestive of impaired quality of\n",
      "life (QOL). Several recent studies have demonstrated that hypoparathyroid\n",
      "patients treated with calcium and vitamin D (conventional therapy) have reduced\n",
      "QOL compared to either suitable controls or general population. QOL has also been\n",
      "studied during treatment with PTH1-84, which has been FDA approved in the USA as \n",
      "an adjunct to calcium and vitamin D in patients not adequately controlled on\n",
      "conventional therapy. In open label studies, PTH therapy has resulted in dramatic\n",
      "improvements in SF-36 scores. In placebo-controlled, double-blinded studies the\n",
      "effect of PTH on QOL has been less striking. In one such study there was no\n",
      "improvement, possibly due to high incidence of hypercalcemia in the PTH-treated\n",
      "group. In contrast, in the pivotal trial leading to PTH1-84 approval, were\n",
      "hypercalcemia was less common, SF36 scores improved in the PTH-treated but not in\n",
      "the placebo group although between-group differences were not statistically\n",
      "significant. In the same study, patients who started with lower baseline QOL\n",
      "scores had greater improvements, suggesting that patients with poor wellbeing may\n",
      "be particularly suitable for this new therapy. In the future, it will be\n",
      "necessary to develop disease specific instruments to better define the nature of \n",
      "QOL impairments in this disease. In addition, further studies should focus on the\n",
      "possible relationship between biochemical variables and QOL parameters during\n",
      "treatment with different regimens.\n",
      "\n",
      "Copyright Â© 2018. Published by Elsevier Inc.\n",
      "\n",
      "DOI: 10.1016/j.bone.2018.09.017 \n",
      "PMID: 30261328 \n",
      "\n",
      "\n",
      "2. Neurosci Lett. 2018 Sep 24. pii: S0304-3940(18)30650-5. doi:\n",
      "10.1016/j.neulet.2018.09.046. [Epub ahead of print]\n",
      "\n",
      "Vitamin D status and its association with season, depression in stroke.\n",
      "\n",
      "Gu Y(1), Zhu Z(2), Luan X(2), He J(3).\n",
      "\n",
      "Author information: \n",
      "(1)Department of Psychiatry, the First Affiliated Hospital of Wenzhou Medical\n",
      "University, Wenzhou 325000, Zhejiang Province, China.\n",
      "(2)Department of Neurology, the First Affiliated Hospital of Wenzhou Medical\n",
      "University, Wenzhou 325000, Zhejiang Province, China.\n",
      "(3)Department of Neurology, the First Affiliated Hospital of Wenzhou Medical\n",
      "University, Wenzhou 325000, Zhejiang Province, China. Electronic address:\n",
      "hjc@wmu.edu.cn.\n",
      "\n",
      "BACKGROUND: Vitamin D plays a key role in depression. In this study, we aimed to \n",
      "assess the prevalence of vitamin D deficiency or insufficiency and the\n",
      "association between vitamin D status and depression in patients with acute\n",
      "stroke.\n",
      "METHODS: From September 2013 to May 2015, consecutive patients with acute stroke \n",
      "were enrolled in this study within 7 days of symptom onset. Clinical information \n",
      "was collected during admission, and stroke severity was assessed at discharge.\n",
      "Depressive symptoms were measured by the 17-item Hamilton Rating Scale for\n",
      "Depression at 1 month after stroke. Based on the depressive symptoms, diagnoses\n",
      "of depression were made in accordance with DSM-IV criteria. Serum vitamin D\n",
      "levels were measured at admission. Binary logistic regression models were used to\n",
      "determine the association between depression and vitamin D levels treated as\n",
      "either absolute values (categorized as deficiency, insufficiency and sufficiency)\n",
      "or month-specific tertiles. Vitamin D levels were categorized by month-specific\n",
      "tertiles (high, intermediate, low) to reflect seasonal variation of serum vitamin\n",
      "D levels.\n",
      "RESULTS: A total of 442 patients were enrolled in this study. The prevalence of\n",
      "vitamin D deficiency (< 30ânmol/L) or insufficiency (30-49.99ânmol/L) was 46%.\n",
      "The prevalence of vitamin D deficiency was significantly different in winter\n",
      "compared to summer months (p < 0.001). One hundred seven patients (26.6%) were\n",
      "diagnosed with depression at 1 month. In multivariable analyses, after fully\n",
      "adjusting for other potential confounders, the prevalence of depression was\n",
      "significantly higher in patients in the low tertile (odds ratio(OR) 2.24, 95%\n",
      "confidence interval (CI)1.18 to 4.26; p = 0.014) compared to the high tertile,\n",
      "and the prevalence of depression was also significantly higher in patients with\n",
      "vitamin D deficiency (OR 2.66, 95% CI 1.48 to 4.77; p = 0.001) and insufficiency \n",
      "(OR 1.93, 95% CI 1.00 to 3.74; p = 0.049) compared to those with vitamin D\n",
      "sufficiency.\n",
      "CONCLUSIONS: Vitamin D deficiency and insufficiency occur at high rates in acute \n",
      "stroke patients. Low serum vitamin D levels were associated with depression in\n",
      "patients with acute stroke as analyzed by both the absolute level of vitamin D\n",
      "and month-specific tertiles. Intervention studies are needed to determine the\n",
      "benefits of vitamin D supplementation for depression in poststroke patients.\n",
      "\n",
      "Copyright Â© 2018. Published by Elsevier B.V.\n",
      "\n",
      "DOI: 10.1016/j.neulet.2018.09.046 \n",
      "PMID: 30261231 \n",
      "\n",
      "\n",
      "3. Antivir Ther. 2018 Sep 27. doi: 10.3851/IMP3269. [Epub ahead of print]\n",
      "\n",
      "Tenofovir disoproxil fumarate appears to disrupt the relationship of vitamin D\n",
      "and parathyroid hormone.\n",
      "\n",
      "Havens PL(1), Long D(2), Schuster GU(3), Gordon CM(4), Price G(5), Wilson CM(6), \n",
      "Kapogiannis BG(7), Mulligan K(8), Stephensen CB(9); Adolescent Medicine Trials\n",
      "Network for HIV/AIDS Interventions (ATN) 117 and 109 study teams.\n",
      "\n",
      "Author information: \n",
      "(1)Department of Pediatrics, Medical College of Wisconsin/Children's Hospital of \n",
      "Wisconsin, Milwaukee, WI, USA.\n",
      "(2)Department of Biostatistics, University of Alabama at Birmingham, Birmingham, \n",
      "AL, USA.\n",
      "(3)Department of Nutrition, University of California-Davis, Davis, CA, USA.\n",
      "(4)Department of Pediatrics, University of Cincinnati College of\n",
      "Medicine/Cincinnati Children's Hospital Medical Center, Cincinnati, OH, USA.\n",
      "(5)Westat, Rockville, MD, USA.\n",
      "(6)Department of Epidemiology, University of Alabama at Birmingham, Birmingham,\n",
      "AL, USA.\n",
      "(7)Maternal and Pediatric Infectious Disease Branch, Eunice Kennedy Shriver\n",
      "National Institute of Child Health and Human Development, Bethesda, MD, USA.\n",
      "(8)Department of Medicine, Division of Endocrinology, Zuckerberg San Francisco\n",
      "General Hospital, University of California, San Francisco, San Francisco, CA,\n",
      "USA.\n",
      "(9)USDA, Agricultural Research Service, Western Human Nutrition Research Center, \n",
      "Davis, CA, USA.\n",
      "\n",
      "BACKGROUND: Tenofovir disoproxil fumarate (TDF) increases serum parathyroid\n",
      "hormone (PTH) and 1,25 dihydroxy vitamin D (1,25-(OH)2D), and decreases bone\n",
      "mineral density (BMD). Optimal treatment of TDF-associated BMD loss requires an\n",
      "understanding of the primary cause of these abnormalities.\n",
      "METHODS: Secondary review of data from two studies of TDF use in youth, comparing\n",
      "the relationship of PTH, 25-hydroxy vitamin D (25-OHD), and 1,25-(OH)2D in 3\n",
      "groups with varying exposures to TDF: Youth without HIV enrolled in a trial of\n",
      "TDF/emtricitabine (FTC) for HIV pre-exposure prophylaxis (PrEP) at baseline (no\n",
      "TDF exposure) and after 12 weeks of TDF (short-term TDF exposure); and youth with\n",
      "HIV treated with TDF-containing combination antiretroviral therapy (cART) for at \n",
      "least 6 months at study entry (long-term TDF exposure). Relationships were\n",
      "evaluated by correlation analyses.\n",
      "RESULTS: Participants ranged in age from 17-24 years and >50% were Black/African \n",
      "American. In persons not treated with TDF, PTH had the physiologically\n",
      "appropriate negative correlation with 25-OHD (r= -.3504, P=0.004). Correlations\n",
      "between PTH and 25-OHD in groups treated with TDF were weaker or absent. With\n",
      "longer-term TDF treatment in persons with HIV, 25-OHD and 1,25-(OH)2D had the\n",
      "positive correlation similar to that found in vitamin D deficiency.\n",
      "CONCLUSIONS: TDF changes the relationship of 25-OHD to PTH, suggesting that in\n",
      "persons using TDF for PrEP or cART, a higher than usual target for serum 25-OHD\n",
      "concentration might be needed to reduce PTH and optimize bone health.\n",
      "\n",
      "DOI: 10.3851/IMP3269 \n",
      "PMID: 302607\n"
     ]
    }
   ],
   "source": [
    "# the first 3 abstracts\n",
    "print(test_slice)"
   ]
  },
  {
   "cell_type": "markdown",
   "metadata": {},
   "source": [
    "# Problems to solve\n",
    "- Splitting the txt-file into single abstracts and putting them each in a row of a DataFrame\n",
    "    - determining a common denominator that every abstract has, prefarably at the end of the abstract to use as a split condition\n",
    "- Determining which abstracts are non-English and remove them\n",
    "- Removing abstracts that do not belong to actual publications but to 'Comments', 'Correspondence' or 'Opinions' to a publication, case reports or abstracts that read more like a post to a self-help forum (therefor abstracts that contain 'I am' are removed)\n",
    "- Removing differences like different phrasing for copyright\n",
    "- Removing the numbering of the abstract\n",
    "- Get the PMID (PubMed ID) for every abstract in new column as an identifier\n",
    "- Get the year of publication in new column\n",
    "- Get title into new column\n",
    "- Get authors into new column\n",
    "    - remove the numbering and brackets\n",
    "    - fuse initials with last name\n",
    "- Get the prof\n",
    "    - discard all authors except for the last one (the professor)\n",
    "- isolate the clean abstract text, without title etc."
   ]
  },
  {
   "cell_type": "markdown",
   "metadata": {},
   "source": [
    "### Getting the abstracts into a DataFrame\n",
    "- PMID was chosen as a split condition:\n",
    "    - it is at the end of every abstract\n",
    "    - it has a pre-determined format"
   ]
  },
  {
   "cell_type": "code",
   "execution_count": 4,
   "metadata": {},
   "outputs": [],
   "source": [
    "# Split text after the last number of PMID\n",
    "data_list = re.split('(PMID: \\d+)', data)\n",
    "\n",
    "# The previos split returned a list where the abstract and the PMID are separated, now they are joined together again\n",
    "new_data_list = []\n",
    "\n",
    "for entry in range(0,len(data_list)-1):\n",
    "    if entry % 2:\n",
    "        continue\n",
    "    else:\n",
    "        new_data_list.append((data_list[entry] + data_list[entry+1]))\n",
    "\n",
    "# The abstracts are added to a new DataFrame as rows\n",
    "df_data = pd.DataFrame()\n",
    "df_data['abstract'] = new_data_list"
   ]
  },
  {
   "cell_type": "code",
   "execution_count": 5,
   "metadata": {},
   "outputs": [
    {
     "data": {
      "text/html": [
       "<div>\n",
       "<style scoped>\n",
       "    .dataframe tbody tr th:only-of-type {\n",
       "        vertical-align: middle;\n",
       "    }\n",
       "\n",
       "    .dataframe tbody tr th {\n",
       "        vertical-align: top;\n",
       "    }\n",
       "\n",
       "    .dataframe thead th {\n",
       "        text-align: right;\n",
       "    }\n",
       "</style>\n",
       "<table border=\"1\" class=\"dataframe\">\n",
       "  <thead>\n",
       "    <tr style=\"text-align: right;\">\n",
       "      <th></th>\n",
       "      <th>abstract</th>\n",
       "    </tr>\n",
       "  </thead>\n",
       "  <tbody>\n",
       "    <tr>\n",
       "      <th>0</th>\n",
       "      <td>\\n1. Bone. 2018 Sep 24. pii: S8756-3282(18)303...</td>\n",
       "    </tr>\n",
       "    <tr>\n",
       "      <th>1</th>\n",
       "      <td>\\n\\n\\n2. Neurosci Lett. 2018 Sep 24. pii: S03...</td>\n",
       "    </tr>\n",
       "    <tr>\n",
       "      <th>2</th>\n",
       "      <td>\\n\\n\\n3. Antivir Ther. 2018 Sep 27. doi: 10.3...</td>\n",
       "    </tr>\n",
       "    <tr>\n",
       "      <th>3</th>\n",
       "      <td>\\n\\n\\n4. Fetal Pediatr Pathol. 2018 Sep 27:1-...</td>\n",
       "    </tr>\n",
       "    <tr>\n",
       "      <th>4</th>\n",
       "      <td>\\n\\n\\n5. Clin Exp Immunol. 2018 Oct;194(1):17...</td>\n",
       "    </tr>\n",
       "  </tbody>\n",
       "</table>\n",
       "</div>"
      ],
      "text/plain": [
       "                                            abstract\n",
       "0  \\n1. Bone. 2018 Sep 24. pii: S8756-3282(18)303...\n",
       "1   \\n\\n\\n2. Neurosci Lett. 2018 Sep 24. pii: S03...\n",
       "2   \\n\\n\\n3. Antivir Ther. 2018 Sep 27. doi: 10.3...\n",
       "3   \\n\\n\\n4. Fetal Pediatr Pathol. 2018 Sep 27:1-...\n",
       "4   \\n\\n\\n5. Clin Exp Immunol. 2018 Oct;194(1):17..."
      ]
     },
     "execution_count": 5,
     "metadata": {},
     "output_type": "execute_result"
    }
   ],
   "source": [
    "df_data.head()"
   ]
  },
  {
   "cell_type": "code",
   "execution_count": 6,
   "metadata": {},
   "outputs": [
    {
     "name": "stdout",
     "output_type": "stream",
     "text": [
      "\n",
      "1. Bone. 2018 Sep 24. pii: S8756-3282(18)30355-7. doi: 10.1016/j.bone.2018.09.017.\n",
      "[Epub ahead of print]\n",
      "\n",
      "Quality of life in hypoparathyroidism.\n",
      "\n",
      "Vokes T(1).\n",
      "\n",
      "Author information: \n",
      "(1)The University of Chicago, Chicago, IL, United States. Electronic address:\n",
      "tvokes@medicine.bsd.uchicago.edu.\n",
      "\n",
      "Hypoparathyroidism is a rare endocrine disorder where deficiency (or lack of\n",
      "effect) of parathyroid hormone results in disordered mineral metabolism leading\n",
      "to hypocalcemia and hyperphosphatemia. Many patients with this disorder have\n",
      "physical, emotional and cognitive complaints suggestive of impaired quality of\n",
      "life (QOL). Several recent studies have demonstrated that hypoparathyroid\n",
      "patients treated with calcium and vitamin D (conventional therapy) have reduced\n",
      "QOL compared to either suitable controls or general population. QOL has also been\n",
      "studied during treatment with PTH1-84, which has been FDA approved in the USA as \n",
      "an adjunct to calcium and vitamin D in patients not adequately controlled on\n",
      "conventional therapy. In open label studies, PTH therapy has resulted in dramatic\n",
      "improvements in SF-36 scores. In placebo-controlled, double-blinded studies the\n",
      "effect of PTH on QOL has been less striking. In one such study there was no\n",
      "improvement, possibly due to high incidence of hypercalcemia in the PTH-treated\n",
      "group. In contrast, in the pivotal trial leading to PTH1-84 approval, were\n",
      "hypercalcemia was less common, SF36 scores improved in the PTH-treated but not in\n",
      "the placebo group although between-group differences were not statistically\n",
      "significant. In the same study, patients who started with lower baseline QOL\n",
      "scores had greater improvements, suggesting that patients with poor wellbeing may\n",
      "be particularly suitable for this new therapy. In the future, it will be\n",
      "necessary to develop disease specific instruments to better define the nature of \n",
      "QOL impairments in this disease. In addition, further studies should focus on the\n",
      "possible relationship between biochemical variables and QOL parameters during\n",
      "treatment with different regimens.\n",
      "\n",
      "Copyright Â© 2018. Published by Elsevier Inc.\n",
      "\n",
      "DOI: 10.1016/j.bone.2018.09.017 \n",
      "PMID: 30261328\n"
     ]
    }
   ],
   "source": [
    "# This is the first abstract\n",
    "print(df_data.iloc[0,0])"
   ]
  },
  {
   "cell_type": "code",
   "execution_count": 7,
   "metadata": {},
   "outputs": [
    {
     "name": "stdout",
     "output_type": "stream",
     "text": [
      "Number of abstracts: 77886\n"
     ]
    }
   ],
   "source": [
    "print(f'Number of abstracts: {len(df_data)}')"
   ]
  },
  {
   "cell_type": "markdown",
   "metadata": {},
   "source": [
    "### Removing the non-English abstracts\n",
    "- Many non-English abstracts are marked by PubMed with '[Article in ...]' and can therefore easily be dropped"
   ]
  },
  {
   "cell_type": "code",
   "execution_count": 8,
   "metadata": {},
   "outputs": [],
   "source": [
    "df_data = df_data[df_data.abstract.str.contains('Article in') == False]"
   ]
  },
  {
   "cell_type": "code",
   "execution_count": 9,
   "metadata": {},
   "outputs": [
    {
     "name": "stdout",
     "output_type": "stream",
     "text": [
      "Remaining abstracts: 68606\n"
     ]
    }
   ],
   "source": [
    "print(f'Remaining abstracts: {len(df_data)}')"
   ]
  },
  {
   "cell_type": "markdown",
   "metadata": {},
   "source": [
    "### Removing comments and correspondence\n",
    "- Abstracts that belong to comments or correspondence are so marked by PubMed and can easily be removed"
   ]
  },
  {
   "cell_type": "code",
   "execution_count": 10,
   "metadata": {},
   "outputs": [
    {
     "name": "stdout",
     "output_type": "stream",
     "text": [
      "Remaining abstracts: 66240\n"
     ]
    }
   ],
   "source": [
    "df_data = df_data[df_data.abstract.str.contains('Comment on\\n') == False]\n",
    "df_data = df_data[df_data.abstract.str.contains('Correspondence re:') == False]\n",
    "df_data = df_data[df_data.abstract.str.contains('I am') == False]\n",
    "df_data = df_data[df_data.abstract.str.contains('Diagnosis:') == False]\n",
    "df_data = df_data[df_data.abstract.str.contains('\\[Opinion\\]') == False]\n",
    "\n",
    "\n",
    "# The index is resetted\n",
    "df_data.reset_index(drop=True, inplace=True)\n",
    "\n",
    "print(f'Remaining abstracts: {len(df_data)}')"
   ]
  },
  {
   "cell_type": "markdown",
   "metadata": {},
   "source": [
    "### Removing differences from abstracts\n",
    "Differences need to be removed so that abstracts have the same amount of empty lines that can be used for slicing the abstracts into different parts (e.g. title, authors, main body).\n",
    "- The declaration of copyright varies from abstract to abstract\n",
    "- Some are indexed for MEDLINE\n",
    "- Some abstracts are online before the paper is published ([Epub ahead of print])\n",
    "    - here the difficultiy is that depending on how long the title is, the string can be in one line or two lines, and different parts can be in line 1 and in line 2\n",
    "- Some have an Epub number\n",
    "- Some belong to an eCollection\n",
    "- Some have a PMCID\n",
    "- Some not only contain authors but also collaborators\n",
    "- Some contain different indexing (tri, WNL)\n",
    "    - only those that were obvious at superficial screening were removed"
   ]
  },
  {
   "cell_type": "code",
   "execution_count": 11,
   "metadata": {},
   "outputs": [],
   "source": [
    "df_data['abstract'] = df_data['abstract'].str.replace('(Conflict of interest statement: \\D+)', '')\n",
    "df_data['abstract'] = df_data['abstract'].str.replace('This article is protected by copyright. All rights reserved.', '', regex=False)\n",
    "df_data['abstract'] = df_data['abstract'].str.replace('(Creative Commons Attribution License)', '')\n",
    "df_data['abstract'] = df_data['abstract'].str.replace('(© \\d+\\D+)', '')\n",
    "df_data['abstract'] = df_data['abstract'].str.replace('[Indexed for MEDLINE]', '', regex=False)\n",
    "df_data['abstract'] = df_data['abstract'].str.replace('[Epub ahead of print]', '', regex=False)\n",
    "df_data['abstract'] = df_data['abstract'].str.replace('[Epub', '', regex=False)\n",
    "df_data['abstract'] = df_data['abstract'].str.replace('ahead of print]', '', regex=False)\n",
    "df_data['abstract'] = df_data['abstract'].str.replace('print]', '', regex=False)\n",
    "df_data['abstract'] = df_data['abstract'].str.replace('(Epub \\d+\\D+\\d+\\.)', '')\n",
    "df_data['abstract'] = df_data['abstract'].str.replace('(eCollection \\d+)', '')\n",
    "df_data['abstract'] = df_data['abstract'].str.replace('(PMCID: PMC\\d+)', '')\n",
    "df_data['abstract'] = df_data['abstract'].str.replace('(Collaborators: \\D+)', '')\n",
    "df_data['abstract'] = df_data['abstract'].str.replace('(\\d+/tri.\\d+)', '')\n",
    "df_data['abstract'] = df_data['abstract'].str.replace('(\\d+/WNL.\\d+)', '')"
   ]
  },
  {
   "cell_type": "code",
   "execution_count": 12,
   "metadata": {},
   "outputs": [
    {
     "name": "stdout",
     "output_type": "stream",
     "text": [
      "\n",
      "1. Bone. 2018 Sep 24. pii: S8756-3282(18)30355-7. doi: 10.1016/j.bone.2018.09.017.\n",
      "\n",
      "\n",
      "Quality of life in hypoparathyroidism.\n",
      "\n",
      "Vokes T(1).\n",
      "\n",
      "Author information: \n",
      "(1)The University of Chicago, Chicago, IL, United States. Electronic address:\n",
      "tvokes@medicine.bsd.uchicago.edu.\n",
      "\n",
      "Hypoparathyroidism is a rare endocrine disorder where deficiency (or lack of\n",
      "effect) of parathyroid hormone results in disordered mineral metabolism leading\n",
      "to hypocalcemia and hyperphosphatemia. Many patients with this disorder have\n",
      "physical, emotional and cognitive complaints suggestive of impaired quality of\n",
      "life (QOL). Several recent studies have demonstrated that hypoparathyroid\n",
      "patients treated with calcium and vitamin D (conventional therapy) have reduced\n",
      "QOL compared to either suitable controls or general population. QOL has also been\n",
      "studied during treatment with PTH1-84, which has been FDA approved in the USA as \n",
      "an adjunct to calcium and vitamin D in patients not adequately controlled on\n",
      "conventional therapy. In open label studies, PTH therapy has resulted in dramatic\n",
      "improvements in SF-36 scores. In placebo-controlled, double-blinded studies the\n",
      "effect of PTH on QOL has been less striking. In one such study there was no\n",
      "improvement, possibly due to high incidence of hypercalcemia in the PTH-treated\n",
      "group. In contrast, in the pivotal trial leading to PTH1-84 approval, were\n",
      "hypercalcemia was less common, SF36 scores improved in the PTH-treated but not in\n",
      "the placebo group although between-group differences were not statistically\n",
      "significant. In the same study, patients who started with lower baseline QOL\n",
      "scores had greater improvements, suggesting that patients with poor wellbeing may\n",
      "be particularly suitable for this new therapy. In the future, it will be\n",
      "necessary to develop disease specific instruments to better define the nature of \n",
      "QOL impairments in this disease. In addition, further studies should focus on the\n",
      "possible relationship between biochemical variables and QOL parameters during\n",
      "treatment with different regimens.\n",
      "\n",
      "Copyright Â10.1016/j.bone.2018.09.017 \n",
      "PMID: 30261328\n"
     ]
    }
   ],
   "source": [
    "# First abstract with some of the copyright and Epub comment removed\n",
    "print(df_data.iloc[0,0])"
   ]
  },
  {
   "cell_type": "markdown",
   "metadata": {},
   "source": [
    "### Remove numbering from abstracts\n",
    "- the difficulty with removing the numbering is that there are other numbers in the same line (e.g. the year), and also numbers with a . after them (e.g. the day)\n",
    "    - since every abstract has at least one new line (\\n) in the beginning, it was used to make the search term unique and ONLY remove the numbering"
   ]
  },
  {
   "cell_type": "code",
   "execution_count": 13,
   "metadata": {},
   "outputs": [
    {
     "data": {
      "text/plain": [
       "'\\n1. Bone. 2018 Sep 24. pii: S8756-3282(18)30355-7. doi: 10.1016/j.bone.2018.09.017.\\n\\n\\nQuality of life in hypoparathyroidism.\\n\\nVokes T(1).\\n\\nAuthor information: \\n(1)The University of Chicago, Chicago, IL, United States. Electronic address:\\ntvokes@medicine.bsd.uchicago.edu.\\n\\nHypoparathyroidism is a rare endocrine disorder where deficiency (or lack of\\neffect) of parathyroid hormone results in disordered mineral metabolism leading\\nto hypocalcemia and hyperphosphatemia. Many patients with this disorder have\\nphysical, emotional and cognitive complaints suggestive of impaired quality of\\nlife (QOL). Several recent studies have demonstrated that hypoparathyroid\\npatients treated with calcium and vitamin D (conventional therapy) have reduced\\nQOL compared to either suitable controls or general population. QOL has also been\\nstudied during treatment with PTH1-84, which has been FDA approved in the USA as \\nan adjunct to calcium and vitamin D in patients not adequately controlled on\\nconventional therapy. In open label studies, PTH therapy has resulted in dramatic\\nimprovements in SF-36 scores. In placebo-controlled, double-blinded studies the\\neffect of PTH on QOL has been less striking. In one such study there was no\\nimprovement, possibly due to high incidence of hypercalcemia in the PTH-treated\\ngroup. In contrast, in the pivotal trial leading to PTH1-84 approval, were\\nhypercalcemia was less common, SF36 scores improved in the PTH-treated but not in\\nthe placebo group although between-group differences were not statistically\\nsignificant. In the same study, patients who started with lower baseline QOL\\nscores had greater improvements, suggesting that patients with poor wellbeing may\\nbe particularly suitable for this new therapy. In the future, it will be\\nnecessary to develop disease specific instruments to better define the nature of \\nQOL impairments in this disease. In addition, further studies should focus on the\\npossible relationship between biochemical variables and QOL parameters during\\ntreatment with different regimens.\\n\\nCopyright Â10.1016/j.bone.2018.09.017 \\nPMID: 30261328'"
      ]
     },
     "execution_count": 13,
     "metadata": {},
     "output_type": "execute_result"
    }
   ],
   "source": [
    "# the raw, uninterpreted text for better understanding\n",
    "df_data.iloc[0,0]"
   ]
  },
  {
   "cell_type": "code",
   "execution_count": 14,
   "metadata": {},
   "outputs": [],
   "source": [
    "df_data['abstract'] = df_data['abstract'].str.replace('(\\n+\\d+\\.)', '')\n",
    "\n",
    "# whitespaces in the beginning are stripped\n",
    "df_data['abstract'] = df_data['abstract'].str.lstrip()"
   ]
  },
  {
   "cell_type": "code",
   "execution_count": 15,
   "metadata": {},
   "outputs": [
    {
     "name": "stdout",
     "output_type": "stream",
     "text": [
      "Bone. 2018 Sep 24. pii: S8756-3282(18)30355-7. doi: 10.1016/j.bone.2018.09.017.\n",
      "\n",
      "\n",
      "Quality of life in hypoparathyroidism.\n",
      "\n",
      "Vokes T(1).\n",
      "\n",
      "Author information: \n",
      "(1)The University of Chicago, Chicago, IL, United States. Electronic address:\n",
      "tvokes@medicine.bsd.uchicago.edu.\n",
      "\n",
      "Hypoparathyroidism is a rare endocrine disorder where deficiency (or lack of\n",
      "effect) of parathyroid hormone results in disordered mineral metabolism leading\n",
      "to hypocalcemia and hyperphosphatemia. Many patients with this disorder have\n",
      "physical, emotional and cognitive complaints suggestive of impaired quality of\n",
      "life (QOL). Several recent studies have demonstrated that hypoparathyroid\n",
      "patients treated with calcium and vitamin D (conventional therapy) have reduced\n",
      "QOL compared to either suitable controls or general population. QOL has also been\n",
      "studied during treatment with PTH1-84, which has been FDA approved in the USA as \n",
      "an adjunct to calcium and vitamin D in patients not adequately controlled on\n",
      "conventional therapy. In open label studies, PTH therapy has resulted in dramatic\n",
      "improvements in SF-36 scores. In placebo-controlled, double-blinded studies the\n",
      "effect of PTH on QOL has been less striking. In one such study there was no\n",
      "improvement, possibly due to high incidence of hypercalcemia in the PTH-treated\n",
      "group. In contrast, in the pivotal trial leading to PTH1-84 approval, were\n",
      "hypercalcemia was less common, SF36 scores improved in the PTH-treated but not in\n",
      "the placebo group although between-group differences were not statistically\n",
      "significant. In the same study, patients who started with lower baseline QOL\n",
      "scores had greater improvements, suggesting that patients with poor wellbeing may\n",
      "be particularly suitable for this new therapy. In the future, it will be\n",
      "necessary to develop disease specific instruments to better define the nature of \n",
      "QOL impairments in this disease. In addition, further studies should focus on the\n",
      "possible relationship between biochemical variables and QOL parameters during\n",
      "treatment with different regimens.\n",
      "\n",
      "Copyright Â10.1016/j.bone.2018.09.017 \n",
      "PMID: 30261328\n"
     ]
    }
   ],
   "source": [
    "# First abstract with the numbering removed, the year and the day intact\n",
    "print(df_data.iloc[0,0])"
   ]
  },
  {
   "cell_type": "markdown",
   "metadata": {},
   "source": [
    "### Adding the PMID into a new column\n",
    "- the PMID is at the end of the abstract and consist of 8 numbers at the maximum\n",
    "- slice was used to get the numbers and put them into a new column\n",
    "    - some numbers consist of less than 8 numbers so the : and sometimes the D are also taken - these need to be removed afterwars"
   ]
  },
  {
   "cell_type": "code",
   "execution_count": 16,
   "metadata": {},
   "outputs": [],
   "source": [
    "df_data['PMID'] = df_data['abstract'].str.slice(-8,)"
   ]
  },
  {
   "cell_type": "code",
   "execution_count": 17,
   "metadata": {},
   "outputs": [],
   "source": [
    "df_data['abstract'] = df_data['abstract'].str.replace('(\\n+PMID: \\d+)', '')\n",
    "df_data['PMID'] = df_data['PMID'].str.replace('(\\D+: )', '')\n",
    "df_data['PMID'] = df_data['PMID'].str.replace('(: )', '')"
   ]
  },
  {
   "cell_type": "code",
   "execution_count": 18,
   "metadata": {},
   "outputs": [
    {
     "data": {
      "text/html": [
       "<div>\n",
       "<style scoped>\n",
       "    .dataframe tbody tr th:only-of-type {\n",
       "        vertical-align: middle;\n",
       "    }\n",
       "\n",
       "    .dataframe tbody tr th {\n",
       "        vertical-align: top;\n",
       "    }\n",
       "\n",
       "    .dataframe thead th {\n",
       "        text-align: right;\n",
       "    }\n",
       "</style>\n",
       "<table border=\"1\" class=\"dataframe\">\n",
       "  <thead>\n",
       "    <tr style=\"text-align: right;\">\n",
       "      <th></th>\n",
       "      <th>abstract</th>\n",
       "      <th>PMID</th>\n",
       "    </tr>\n",
       "  </thead>\n",
       "  <tbody>\n",
       "    <tr>\n",
       "      <th>0</th>\n",
       "      <td>Bone. 2018 Sep 24. pii: S8756-3282(18)30355-7....</td>\n",
       "      <td>30261328</td>\n",
       "    </tr>\n",
       "    <tr>\n",
       "      <th>1</th>\n",
       "      <td>Neurosci Lett. 2018 Sep 24. pii: S0304-3940(18...</td>\n",
       "      <td>30261231</td>\n",
       "    </tr>\n",
       "    <tr>\n",
       "      <th>2</th>\n",
       "      <td>Antivir Ther. 2018 Sep 27. doi: 10.3851/IMP326...</td>\n",
       "      <td>30260797</td>\n",
       "    </tr>\n",
       "    <tr>\n",
       "      <th>3</th>\n",
       "      <td>Fetal Pediatr Pathol. 2018 Sep 27:1-11. doi: 1...</td>\n",
       "      <td>30260729</td>\n",
       "    </tr>\n",
       "    <tr>\n",
       "      <th>4</th>\n",
       "      <td>Clin Exp Immunol. 2018 Oct;194(1):17-26. doi: ...</td>\n",
       "      <td>30260469</td>\n",
       "    </tr>\n",
       "  </tbody>\n",
       "</table>\n",
       "</div>"
      ],
      "text/plain": [
       "                                            abstract      PMID\n",
       "0  Bone. 2018 Sep 24. pii: S8756-3282(18)30355-7....  30261328\n",
       "1  Neurosci Lett. 2018 Sep 24. pii: S0304-3940(18...  30261231\n",
       "2  Antivir Ther. 2018 Sep 27. doi: 10.3851/IMP326...  30260797\n",
       "3  Fetal Pediatr Pathol. 2018 Sep 27:1-11. doi: 1...  30260729\n",
       "4  Clin Exp Immunol. 2018 Oct;194(1):17-26. doi: ...  30260469"
      ]
     },
     "execution_count": 18,
     "metadata": {},
     "output_type": "execute_result"
    }
   ],
   "source": [
    "df_data.head()"
   ]
  },
  {
   "cell_type": "markdown",
   "metadata": {},
   "source": [
    "### Adding the year of publication to a new column\n",
    "- extracting four digits returns the year, if they are preceded by a period or whitespace and followed by a whitespace followed by a capital letter, semicolon, minus, period or colon."
   ]
  },
  {
   "cell_type": "code",
   "execution_count": 23,
   "metadata": {},
   "outputs": [],
   "source": [
    "df_data['year'] = df_data['abstract'].str.extract('((?<=(\\.|\\s))\\d{4})(?=(\\s[A-Z]|;|-|\\.|:))')"
   ]
  },
  {
   "cell_type": "code",
   "execution_count": 24,
   "metadata": {},
   "outputs": [
    {
     "data": {
      "text/html": [
       "<div>\n",
       "<style scoped>\n",
       "    .dataframe tbody tr th:only-of-type {\n",
       "        vertical-align: middle;\n",
       "    }\n",
       "\n",
       "    .dataframe tbody tr th {\n",
       "        vertical-align: top;\n",
       "    }\n",
       "\n",
       "    .dataframe thead th {\n",
       "        text-align: right;\n",
       "    }\n",
       "</style>\n",
       "<table border=\"1\" class=\"dataframe\">\n",
       "  <thead>\n",
       "    <tr style=\"text-align: right;\">\n",
       "      <th></th>\n",
       "      <th>abstract</th>\n",
       "      <th>PMID</th>\n",
       "      <th>year</th>\n",
       "    </tr>\n",
       "  </thead>\n",
       "  <tbody>\n",
       "    <tr>\n",
       "      <th>0</th>\n",
       "      <td>Bone. 2018 Sep 24. pii: S8756-3282(18)30355-7....</td>\n",
       "      <td>30261328</td>\n",
       "      <td>2018</td>\n",
       "    </tr>\n",
       "    <tr>\n",
       "      <th>1</th>\n",
       "      <td>Neurosci Lett. 2018 Sep 24. pii: S0304-3940(18...</td>\n",
       "      <td>30261231</td>\n",
       "      <td>2018</td>\n",
       "    </tr>\n",
       "    <tr>\n",
       "      <th>2</th>\n",
       "      <td>Antivir Ther. 2018 Sep 27. doi: 10.3851/IMP326...</td>\n",
       "      <td>30260797</td>\n",
       "      <td>2018</td>\n",
       "    </tr>\n",
       "    <tr>\n",
       "      <th>3</th>\n",
       "      <td>Fetal Pediatr Pathol. 2018 Sep 27:1-11. doi: 1...</td>\n",
       "      <td>30260729</td>\n",
       "      <td>2018</td>\n",
       "    </tr>\n",
       "    <tr>\n",
       "      <th>4</th>\n",
       "      <td>Clin Exp Immunol. 2018 Oct;194(1):17-26. doi: ...</td>\n",
       "      <td>30260469</td>\n",
       "      <td>2018</td>\n",
       "    </tr>\n",
       "  </tbody>\n",
       "</table>\n",
       "</div>"
      ],
      "text/plain": [
       "                                            abstract      PMID  year\n",
       "0  Bone. 2018 Sep 24. pii: S8756-3282(18)30355-7....  30261328  2018\n",
       "1  Neurosci Lett. 2018 Sep 24. pii: S0304-3940(18...  30261231  2018\n",
       "2  Antivir Ther. 2018 Sep 27. doi: 10.3851/IMP326...  30260797  2018\n",
       "3  Fetal Pediatr Pathol. 2018 Sep 27:1-11. doi: 1...  30260729  2018\n",
       "4  Clin Exp Immunol. 2018 Oct;194(1):17-26. doi: ...  30260469  2018"
      ]
     },
     "execution_count": 24,
     "metadata": {},
     "output_type": "execute_result"
    }
   ],
   "source": [
    "df_data.head()"
   ]
  },
  {
   "cell_type": "code",
   "execution_count": 25,
   "metadata": {},
   "outputs": [],
   "source": [
    "df_data.to_csv('../data/regex_save1.csv')"
   ]
  }
 ],
 "metadata": {
  "kernelspec": {
   "display_name": "Python 3",
   "language": "python",
   "name": "python3"
  },
  "language_info": {
   "codemirror_mode": {
    "name": "ipython",
    "version": 3
   },
   "file_extension": ".py",
   "mimetype": "text/x-python",
   "name": "python",
   "nbconvert_exporter": "python",
   "pygments_lexer": "ipython3",
   "version": "3.7.0"
  }
 },
 "nbformat": 4,
 "nbformat_minor": 2
}
